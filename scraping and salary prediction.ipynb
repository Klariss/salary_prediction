{
 "cells": [
  {
   "cell_type": "markdown",
   "metadata": {
    "focus": false,
    "id": "69b9a648-bcc7-490d-9f9b-ea244d156bd6"
   },
   "source": [
    "<img src=\"http://imgur.com/1ZcRyrc.png\" style=\"float: left; margin: 15px; height: 80px\">\n",
    "\n",
    "\n",
    "# Web Scraping for Indeed.com and Predicting Salaries"
   ]
  },
  {
   "cell_type": "markdown",
   "metadata": {
    "focus": false,
    "id": "34681254-c802-462f-829d-8894d0772d08"
   },
   "source": [
    "In this project, we will practice two major skills: collecting data by scraping a website and then building a binary predictor with Logistic Regression.\n",
    "\n",
    "We are going to collect salary information on data science jobs in a variety of markets. Then using the location, title and summary of the job we will attempt to predict the salary of the job. For job posting sites, this would be extraordinarily useful. While most listings DO NOT come with salary information (as you will see in this exercise), being able to extrapolate or predict the expected salaries from other listings can help guide negotiations.\n",
    "\n",
    "Normally, we could use regression for this task; however, we will convert this problem into classification and use Logistic Regression or any other suitable classifier.\n",
    "\n",
    "- Question: Why would we want this to be a classification problem?\n",
    "- Answer: While more precision may be better, there is a fair amount of natural variance in job salaries - predicting a range may be useful.\n",
    "\n",
    "Therefore, the first part of the assignment will be focused on scraping Indeed.com. In the second, we'll focus on using listings with salary information to build a model and predict additional salaries."
   ]
  },
  {
   "cell_type": "markdown",
   "metadata": {
    "focus": false,
    "id": "a948d79c-5527-4c0d-ab23-f5d43ce72056"
   },
   "source": [
    "### Scraping job listings from Indeed.com"
   ]
  },
  {
   "cell_type": "markdown",
   "metadata": {
    "focus": true,
    "id": "7203e0c9-e437-4802-a6ad-7dc464f94436"
   },
   "source": [
    "We will be scraping job listings from Indeed.com using BeautifulSoup. Luckily, Indeed.com is a simple text page where we can easily find relevant entries.\n",
    "\n",
    "First, look at the source of an Indeed.com page: (http://www.indeed.com/jobs?q=data+scientist+%2420%2C000&l=New+York&start=10\").\n",
    "\n",
    "Notice, each job listing is underneath a `div` tag with a class name of `result`. We can use BeautifulSoup to extract those. "
   ]
  },
  {
   "cell_type": "markdown",
   "metadata": {
    "focus": false,
    "id": "9732c901-ae26-4160-8376-42e22dd327df"
   },
   "source": [
    "#### Setup a request (using `requests`) to the URL below. Use BeautifulSoup to parse the page and extract all results (HINT: Look for div tags with class name result)\n",
    "\n",
    "The URL here has many query parameters:\n",
    "\n",
    "- `q` for the job search\n",
    "- This is followed by \"+20,000\" to return results with salaries (or expected salaries >$20,000)\n",
    "- `l` for a location \n",
    "- `start` for what result number to start on"
   ]
  },
  {
   "cell_type": "code",
   "execution_count": 1,
   "metadata": {
    "focus": false,
    "id": "e915023e-6b0d-4982-af2a-b1e0355f4927"
   },
   "outputs": [],
   "source": [
    "URL = \"http://www.indeed.com/jobs?q=data+scientist+%2420%2C000&l=New+York&start=10\""
   ]
  },
  {
   "cell_type": "code",
   "execution_count": 2,
   "metadata": {
    "focus": false,
    "id": "2efefc73-064a-482d-b3b5-ddf5508cb4ec"
   },
   "outputs": [],
   "source": [
    "import pandas as pd\n",
    "import numpy as np\n",
    "import requests\n",
    "import bs4\n",
    "from bs4 import BeautifulSoup\n",
    "from tqdm import tqdm_notebook"
   ]
  },
  {
   "cell_type": "code",
   "execution_count": 3,
   "metadata": {
    "focus": false,
    "id": "2c6752c4-7704-4c94-8bc0-6f13d2d0d570"
   },
   "outputs": [],
   "source": [
    "r = requests.get(URL)"
   ]
  },
  {
   "cell_type": "code",
   "execution_count": 4,
   "metadata": {},
   "outputs": [],
   "source": [
    "soup = BeautifulSoup(r.text,'html.parser')"
   ]
  },
  {
   "cell_type": "code",
   "execution_count": 1,
   "metadata": {
    "scrolled": true
   },
   "outputs": [],
   "source": [
    "#print(soup.prettify())"
   ]
  },
  {
   "cell_type": "markdown",
   "metadata": {
    "focus": false,
    "id": "bb0b866a-26a7-45e9-8084-5a0f90eb4b3e"
   },
   "source": [
    "Let's look at one result more closely. A single `result` looks like\n",
    "\n",
    "```\n",
    "<div class=\" row result\" data-jk=\"2480d203f7e97210\" data-tn-component=\"organicJob\" id=\"p_2480d203f7e97210\" itemscope=\"\" itemtype=\"http://schema.org/JobPosting\">\n",
    "<h2 class=\"jobtitle\" id=\"jl_2480d203f7e97210\">\n",
    "<a class=\"turnstileLink\" data-tn-element=\"jobTitle\" onmousedown=\"return rclk(this,jobmap[0],1);\" rel=\"nofollow\" target=\"_blank\" title=\"AVP/Quantitative Analyst\">AVP/Quantitative Analyst</a>\n",
    "</h2>\n",
    "<span class=\"company\" itemprop=\"hiringOrganization\" itemtype=\"http://schema.org/Organization\">\n",
    "<span itemprop=\"name\">\n",
    "<a href=\"/cmp/Alliancebernstein?from=SERP&amp;campaignid=serp-linkcompanyname&amp;fromjk=2480d203f7e97210&amp;jcid=b374f2a780e04789\" target=\"_blank\">\n",
    "    AllianceBernstein</a></span>\n",
    "</span>\n",
    "<tr>\n",
    "<td class=\"snip\">\n",
    "<nobr>$117,500 - $127,500 a year</nobr>\n",
    "<div>\n",
    "<span class=\"summary\" itemprop=\"description\">\n",
    "C onduct quantitative and statistical research as well as portfolio management for various investment portfolios. Collaborate with Quantitative Analysts and</span>\n",
    "</div>\n",
    "</div>\n",
    "</td>\n",
    "</tr>\n",
    "</table>\n",
    "</div>\n",
    "```\n",
    "\n",
    "While this has some more verbose elements removed, we can see that there is some structure to the above:\n",
    "- The salary is available in a `nobr` element inside of a `td` element with `class='snip'`.\n",
    "- The title of a job is in a link with class set to `jobtitle` and a `data-tn-element='jobTitle'`.  \n",
    "- The location is set in a `span` with `class='location'`. \n",
    "- The company is set in a `span` with `class='company'`. "
   ]
  },
  {
   "cell_type": "markdown",
   "metadata": {
    "focus": false,
    "id": "f1eddb90-4ba8-483c-a229-77e93aa53119"
   },
   "source": [
    "### Write 4 functions to extract each item: location, company, job, and salary.\n",
    "\n",
    "Example: \n",
    "```python\n",
    "def extract_location_from_result(result):\n",
    "    return result.find ...\n",
    "```\n",
    "\n",
    "\n",
    "- **Make sure these functions are robust and can handle cases where the data/field may not be available.**\n",
    "    - Remember to check if a field is empty or `None` for attempting to call methods on it.\n",
    "    - Remember to use `try/except` if you anticipate errors.\n",
    "- **Test** the functions on the results above and simple examples."
   ]
  },
  {
   "cell_type": "code",
   "execution_count": 6,
   "metadata": {},
   "outputs": [
    {
     "name": "stdout",
     "output_type": "stream",
     "text": [
      "\n",
      "\n",
      "Junior Data Scientist\n",
      "\n",
      "\n",
      "\n",
      "\n",
      "        Dow Jones\n",
      "\n",
      "\n",
      "183 reviews\n",
      "\n",
      "\n",
      "New York, NY 10176 (Murray Hill area)\n",
      "\n",
      "\n",
      "\n",
      "\n",
      "\n",
      "            Source, query, and clean data required for larger scale data science projects. We are looking for a junior data scientist to join The Wall Street Journal’s...\n",
      "\n",
      "\n",
      "30+ days ago   -  save job - more...if (!window['result_4769b53c33286f2e']) {window['result_4769b53c33286f2e'] = {};}window['result_4769b53c33286f2e']['showSource'] = false; window['result_4769b53c33286f2e']['source'] = \"Dow Jones\"; window['result_4769b53c33286f2e']['loggedIn'] = false; window['result_4769b53c33286f2e']['showMyJobsLinks'] = false;window['result_4769b53c33286f2e']['undoAction'] = \"unsave\";window['result_4769b53c33286f2e']['relativeJobAge'] = \"30+ days ago\";window['result_4769b53c33286f2e']['jobKey'] = \"4769b53c33286f2e\"; window['result_4769b53c33286f2e']['myIndeedAvailable'] = true; window['result_4769b53c33286f2e']['showMoreActionsLink'] = window['result_4769b53c33286f2e']['showMoreActionsLink'] || true; window['result_4769b53c33286f2e']['resultNumber'] = 0; window['result_4769b53c33286f2e']['jobStateChangedToSaved'] = false; window['result_4769b53c33286f2e']['searchState'] = \"q=data scientist $20,000&amp;l=New+York&amp;start=10\"; window['result_4769b53c33286f2e']['basicPermaLink'] = \"https://www.indeed.com\"; window['result_4769b53c33286f2e']['saveJobFailed'] = false; window['result_4769b53c33286f2e']['removeJobFailed'] = false; window['result_4769b53c33286f2e']['requestPending'] = false; window['result_4769b53c33286f2e']['notesEnabled'] = true; window['result_4769b53c33286f2e']['currentPage'] = \"serp\"; window['result_4769b53c33286f2e']['sponsored'] = false;window['result_4769b53c33286f2e']['reportJobButtonEnabled'] = false; window['result_4769b53c33286f2e']['showMyJobsHired'] = false; window['result_4769b53c33286f2e']['showSaveForSponsored'] = false; window['result_4769b53c33286f2e']['showJobAge'] = true;\n",
      "\n",
      "View all Dow Jones jobs in New York, NY - New York jobsSalary Search: Junior Data Scientist salaries in New York, NYLearn more about working at Dow JonesDow Jones questions about work, benefits, interviews and hiring process:What benefits does the company provide?How long does it take for some to hear back from DOW about job submittion?Related forums: Dow Jones - New York, New York\n",
      "\n",
      "\n",
      "\n",
      "\n",
      "\n",
      "\n",
      "\n",
      "\n"
     ]
    }
   ],
   "source": [
    "first_div = soup.find(name='div', attrs={'class':\"jobsearch-SerpJobCard\"})\n",
    "print(first_div.text)"
   ]
  },
  {
   "cell_type": "markdown",
   "metadata": {},
   "source": [
    "Extracting location"
   ]
  },
  {
   "cell_type": "code",
   "execution_count": 7,
   "metadata": {},
   "outputs": [],
   "source": [
    "def extract_location_from_result(result):\n",
    "    try:\n",
    "        return result.find(['span', 'div'], attrs={'class':'location'}).text\n",
    "    except:\n",
    "        return np.nan"
   ]
  },
  {
   "cell_type": "code",
   "execution_count": 8,
   "metadata": {},
   "outputs": [
    {
     "data": {
      "text/plain": [
       "'New York, NY 10176 (Murray Hill area)'"
      ]
     },
     "execution_count": 8,
     "metadata": {},
     "output_type": "execute_result"
    }
   ],
   "source": [
    "extract_location_from_result(first_div)"
   ]
  },
  {
   "cell_type": "markdown",
   "metadata": {},
   "source": [
    "Extracting salary"
   ]
  },
  {
   "cell_type": "code",
   "execution_count": 9,
   "metadata": {},
   "outputs": [],
   "source": [
    "def extract_salary_from_result(result):\n",
    "    try:\n",
    "        return result.find('span', attrs={'class':'no-wrap'}).text\n",
    "    except:\n",
    "        return np.nan"
   ]
  },
  {
   "cell_type": "code",
   "execution_count": 10,
   "metadata": {},
   "outputs": [
    {
     "data": {
      "text/plain": [
       "nan"
      ]
     },
     "execution_count": 10,
     "metadata": {},
     "output_type": "execute_result"
    }
   ],
   "source": [
    "extract_salary_from_result(first_div)    "
   ]
  },
  {
   "cell_type": "markdown",
   "metadata": {},
   "source": [
    "Extracting company"
   ]
  },
  {
   "cell_type": "code",
   "execution_count": 11,
   "metadata": {},
   "outputs": [],
   "source": [
    "def extract_company_from_result(jobs):\n",
    "    try:\n",
    "        return jobs.find('span', attrs={'class':'company'}).text.strip()\n",
    "    except:\n",
    "        return np.nan"
   ]
  },
  {
   "cell_type": "code",
   "execution_count": 12,
   "metadata": {},
   "outputs": [
    {
     "data": {
      "text/plain": [
       "'Dow Jones'"
      ]
     },
     "execution_count": 12,
     "metadata": {},
     "output_type": "execute_result"
    }
   ],
   "source": [
    "extract_company_from_result(first_div)"
   ]
  },
  {
   "cell_type": "markdown",
   "metadata": {},
   "source": [
    "Extracting jobtitle"
   ]
  },
  {
   "cell_type": "code",
   "execution_count": 13,
   "metadata": {},
   "outputs": [],
   "source": [
    "def extract_jobtitle_from_result(jobs):\n",
    "    try:\n",
    "        return jobs.find('a', attrs={'class':'turnstileLink'}).text\n",
    "    except:\n",
    "        return np.nan"
   ]
  },
  {
   "cell_type": "code",
   "execution_count": 14,
   "metadata": {},
   "outputs": [
    {
     "name": "stdout",
     "output_type": "stream",
     "text": [
      "Junior Data Scientist\n"
     ]
    }
   ],
   "source": [
    "print(extract_jobtitle_from_result(first_div))"
   ]
  },
  {
   "cell_type": "markdown",
   "metadata": {
    "focus": false,
    "id": "34070e89-9521-4b45-90c8-57a6599aac68"
   },
   "source": [
    "Now, to scale up our scraping, we need to accumulate more results. We can do this by examining the URL above.\n",
    "\n",
    "- \"http://www.indeed.com/jobs?q=data+scientist+%2420%2C000&l=New+York&start=10\"\n",
    "\n",
    "There are two query parameters here we can alter to collect more results, the `l=New+York` and the `start=10`. The first controls the location of the results (so we can try a different city). The second controls where in the results to start and gives 10 results (thus, we can keep incrementing by 10 to go further in the list)."
   ]
  },
  {
   "cell_type": "markdown",
   "metadata": {
    "focus": false,
    "id": "e8beed7c-3e42-40c0-810f-5f67f8f885a0"
   },
   "source": [
    "#### Complete the following code to collect results from multiple cities and starting points. \n",
    "- Enter your city below to add it to the search.\n",
    "- Remember to convert your salary to U.S. Dollars to match the other cities if the currency is different."
   ]
  },
  {
   "cell_type": "code",
   "execution_count": 15,
   "metadata": {},
   "outputs": [],
   "source": [
    "max_results_per_city = 3000\n",
    "\n",
    "def scrape_by_cities(url_template, cities, starts):\n",
    "    results = []\n",
    "    given_cities = []\n",
    "    for city in cities:\n",
    "        for start in starts:\n",
    "            url_formatted = url_template.format(city, start)\n",
    "            request = requests.get(url_formatted)\n",
    "            # turn into a BeautifulSoup object\n",
    "            soup = BeautifulSoup(request.text, 'html.parser')\n",
    "        \n",
    "            # Grab the results from the request (as above)\n",
    "            jobs = soup.find_all(name='div', attrs={'class':\"jobsearch-SerpJobCard\"})\n",
    "        \n",
    "            # Append to the full set of results\n",
    "            for job in jobs:\n",
    "                given_cities.append(city)\n",
    "                results.append(job)\n",
    "    return results, given_cities\n",
    "              "
   ]
  },
  {
   "cell_type": "code",
   "execution_count": 16,
   "metadata": {},
   "outputs": [],
   "source": [
    "url_template = \"http://www.indeed.com/jobs?q=data+scientist+%2420%2C000&l={}&start={}\" \n",
    "cities = set(['Washington, DC', 'San Jose, CA', 'New+York', 'Philadelphia', 'Washington', 'Boston', 'Chicago', \n",
    "                 'San+Francisco', 'Austin', 'Seattle', 'Los+Angeles', 'Atlanta', 'Dallas', \n",
    "                 'Pittsburgh', 'Portland', 'Phoenix', 'Denver', 'Houston', 'Miami'])\n",
    "starts = range(0, max_results_per_city, 10)\n",
    "\n",
    "results_usa = scrape_by_cities(url_template, cities, starts)"
   ]
  },
  {
   "cell_type": "code",
   "execution_count": 17,
   "metadata": {},
   "outputs": [],
   "source": [
    "url_template = \"https://www.indeed.co.uk/jobs?q=data+scientist+$20,000&l={}&start={}\"\n",
    "cities = set(['London, Greater London'])\n",
    "starts = range(0, max_results_per_city, 10)\n",
    "\n",
    "results_london = scrape_by_cities(url_template, cities, starts)"
   ]
  },
  {
   "cell_type": "code",
   "execution_count": 18,
   "metadata": {},
   "outputs": [],
   "source": [
    "results = results_usa[0] + results_london[0]"
   ]
  },
  {
   "cell_type": "code",
   "execution_count": 19,
   "metadata": {},
   "outputs": [],
   "source": [
    "results_city = results_usa[1] + results_london[1]"
   ]
  },
  {
   "cell_type": "markdown",
   "metadata": {},
   "source": [
    "I added Washington, Boston and San Jose, CA to the list. Need to change the location request for London, becauase of the different webpage."
   ]
  },
  {
   "cell_type": "markdown",
   "metadata": {
    "focus": false,
    "id": "20339c09-5032-4e27-91be-286e9b46cd13"
   },
   "source": [
    "#### Use the functions you wrote above to parse out the 4 fields - location, title, company and salary. Create a dataframe from the results with those 4 columns."
   ]
  },
  {
   "cell_type": "code",
   "execution_count": 20,
   "metadata": {
    "focus": false,
    "id": "6e259594-1c52-436b-ab9e-527e071941c1"
   },
   "outputs": [
    {
     "data": {
      "text/html": [
       "<div>\n",
       "<style scoped>\n",
       "    .dataframe tbody tr th:only-of-type {\n",
       "        vertical-align: middle;\n",
       "    }\n",
       "\n",
       "    .dataframe tbody tr th {\n",
       "        vertical-align: top;\n",
       "    }\n",
       "\n",
       "    .dataframe thead th {\n",
       "        text-align: right;\n",
       "    }\n",
       "</style>\n",
       "<table border=\"1\" class=\"dataframe\">\n",
       "  <thead>\n",
       "    <tr style=\"text-align: right;\">\n",
       "      <th></th>\n",
       "      <th>Jobtitle</th>\n",
       "      <th>Location</th>\n",
       "      <th>Salary</th>\n",
       "      <th>Company</th>\n",
       "    </tr>\n",
       "  </thead>\n",
       "  <tbody>\n",
       "    <tr>\n",
       "      <th>0</th>\n",
       "      <td>Data Analyst / Data Scientist</td>\n",
       "      <td>Philadelphia, PA 19123 (Poplar-Ludlow-Yorktown...</td>\n",
       "      <td>\\n                $65 - $75 an hour</td>\n",
       "      <td>Defined Clarity</td>\n",
       "    </tr>\n",
       "    <tr>\n",
       "      <th>1</th>\n",
       "      <td>Graduate Environmental Scientist</td>\n",
       "      <td>Philadelphia, PA</td>\n",
       "      <td>\\n                $47,783 a year</td>\n",
       "      <td>City of Philadelphia</td>\n",
       "    </tr>\n",
       "    <tr>\n",
       "      <th>2</th>\n",
       "      <td>Data Scientist</td>\n",
       "      <td>Philadelphia, PA</td>\n",
       "      <td>NaN</td>\n",
       "      <td>EcoMetric</td>\n",
       "    </tr>\n",
       "    <tr>\n",
       "      <th>3</th>\n",
       "      <td>Data Scientist</td>\n",
       "      <td>Plymouth Meeting, PA</td>\n",
       "      <td>NaN</td>\n",
       "      <td>IQVIA</td>\n",
       "    </tr>\n",
       "    <tr>\n",
       "      <th>4</th>\n",
       "      <td>Temporary Data Analyst (Institutional Research)</td>\n",
       "      <td>Philadelphia, PA 19104 (Belmont area)</td>\n",
       "      <td>NaN</td>\n",
       "      <td>University of the Sciences in Philadelphia</td>\n",
       "    </tr>\n",
       "    <tr>\n",
       "      <th>5</th>\n",
       "      <td>Scientist Certifying-Positive</td>\n",
       "      <td>Norristown, PA</td>\n",
       "      <td>NaN</td>\n",
       "      <td>Quest Diagnostics</td>\n",
       "    </tr>\n",
       "    <tr>\n",
       "      <th>6</th>\n",
       "      <td>Data Scientist</td>\n",
       "      <td>Radnor, PA</td>\n",
       "      <td>NaN</td>\n",
       "      <td>Lincoln Financial</td>\n",
       "    </tr>\n",
       "    <tr>\n",
       "      <th>7</th>\n",
       "      <td>Scientist Certifying-Negative</td>\n",
       "      <td>Norristown, PA</td>\n",
       "      <td>NaN</td>\n",
       "      <td>Quest Diagnostics</td>\n",
       "    </tr>\n",
       "    <tr>\n",
       "      <th>8</th>\n",
       "      <td>Data Scientist</td>\n",
       "      <td>Exton, PA</td>\n",
       "      <td>NaN</td>\n",
       "      <td>XL Catlin</td>\n",
       "    </tr>\n",
       "    <tr>\n",
       "      <th>9</th>\n",
       "      <td>Environmental Scientist Specialist</td>\n",
       "      <td>Philadelphia, PA</td>\n",
       "      <td>\\n                $56,589 - $72,742 a year</td>\n",
       "      <td>City of Philadelphia</td>\n",
       "    </tr>\n",
       "    <tr>\n",
       "      <th>10</th>\n",
       "      <td>Data Scientist</td>\n",
       "      <td>Radnor, PA</td>\n",
       "      <td>NaN</td>\n",
       "      <td>Lincoln Financial</td>\n",
       "    </tr>\n",
       "    <tr>\n",
       "      <th>11</th>\n",
       "      <td>Scientist Certifying-Negative</td>\n",
       "      <td>Norristown, PA</td>\n",
       "      <td>NaN</td>\n",
       "      <td>Quest Diagnostics</td>\n",
       "    </tr>\n",
       "    <tr>\n",
       "      <th>12</th>\n",
       "      <td>Scientist Certifying-Positive</td>\n",
       "      <td>Norristown, PA</td>\n",
       "      <td>NaN</td>\n",
       "      <td>Quest Diagnostics</td>\n",
       "    </tr>\n",
       "    <tr>\n",
       "      <th>13</th>\n",
       "      <td>Data Scientist - Conshohocken, PA</td>\n",
       "      <td>Conshohocken, PA</td>\n",
       "      <td>NaN</td>\n",
       "      <td>RS Energy Group</td>\n",
       "    </tr>\n",
       "    <tr>\n",
       "      <th>14</th>\n",
       "      <td>Data Scientist</td>\n",
       "      <td>Philadelphia, PA</td>\n",
       "      <td>NaN</td>\n",
       "      <td>Independence Blue Cross</td>\n",
       "    </tr>\n",
       "    <tr>\n",
       "      <th>15</th>\n",
       "      <td>Data Scientist</td>\n",
       "      <td>Moorestown, NJ 08057</td>\n",
       "      <td>NaN</td>\n",
       "      <td>Tabula Rasa HealthCare, Inc</td>\n",
       "    </tr>\n",
       "    <tr>\n",
       "      <th>16</th>\n",
       "      <td>Environmental Scientist</td>\n",
       "      <td>Plymouth Meeting, PA 19462</td>\n",
       "      <td>NaN</td>\n",
       "      <td>Stantec</td>\n",
       "    </tr>\n",
       "    <tr>\n",
       "      <th>17</th>\n",
       "      <td>Data Scientist I</td>\n",
       "      <td>Malvern, PA 19355</td>\n",
       "      <td>NaN</td>\n",
       "      <td>Vanguard</td>\n",
       "    </tr>\n",
       "    <tr>\n",
       "      <th>18</th>\n",
       "      <td>Data Scientist/ Contract</td>\n",
       "      <td>Philadelphia, PA</td>\n",
       "      <td>\\n                $50 an hour</td>\n",
       "      <td>Workbridge Associates</td>\n",
       "    </tr>\n",
       "    <tr>\n",
       "      <th>19</th>\n",
       "      <td>Data Scientist</td>\n",
       "      <td>Philadelphia, PA</td>\n",
       "      <td>NaN</td>\n",
       "      <td>Drexel University</td>\n",
       "    </tr>\n",
       "    <tr>\n",
       "      <th>20</th>\n",
       "      <td>Data Scientist/ Python, R</td>\n",
       "      <td>Bala-Cynwyd, PA</td>\n",
       "      <td>\\n                $110,000 - $120,000 a year</td>\n",
       "      <td>Workbridge Associates</td>\n",
       "    </tr>\n",
       "    <tr>\n",
       "      <th>21</th>\n",
       "      <td>Associate Scientist, TEM</td>\n",
       "      <td>Philadelphia, PA</td>\n",
       "      <td>NaN</td>\n",
       "      <td>Wuxi AppTec</td>\n",
       "    </tr>\n",
       "    <tr>\n",
       "      <th>22</th>\n",
       "      <td>Associate Director, Data Scientist</td>\n",
       "      <td>Horsham, PA</td>\n",
       "      <td>NaN</td>\n",
       "      <td>Johnson &amp; Johnson Family of Companies</td>\n",
       "    </tr>\n",
       "    <tr>\n",
       "      <th>23</th>\n",
       "      <td>Data Scientist</td>\n",
       "      <td>Mount Laurel, NJ</td>\n",
       "      <td>NaN</td>\n",
       "      <td>Marlin Finance</td>\n",
       "    </tr>\n",
       "    <tr>\n",
       "      <th>24</th>\n",
       "      <td>Data Scientist</td>\n",
       "      <td>Kulpsville, PA</td>\n",
       "      <td>NaN</td>\n",
       "      <td>Greene, Tweed &amp; Co.</td>\n",
       "    </tr>\n",
       "    <tr>\n",
       "      <th>25</th>\n",
       "      <td>Associate, Data Scientist, Healthcare</td>\n",
       "      <td>Philadelphia, PA 19019 (Somerton area)</td>\n",
       "      <td>NaN</td>\n",
       "      <td>KPMG</td>\n",
       "    </tr>\n",
       "    <tr>\n",
       "      <th>26</th>\n",
       "      <td>Glass Scientist</td>\n",
       "      <td>Conshohocken, PA</td>\n",
       "      <td>NaN</td>\n",
       "      <td>Heraeus Holding GmbH</td>\n",
       "    </tr>\n",
       "    <tr>\n",
       "      <th>27</th>\n",
       "      <td>Associate Scientist, Biochemistry - Gene Therapy</td>\n",
       "      <td>Philadelphia, PA</td>\n",
       "      <td>NaN</td>\n",
       "      <td>Amicus Therapeutics</td>\n",
       "    </tr>\n",
       "    <tr>\n",
       "      <th>28</th>\n",
       "      <td>Biological Data Scientist</td>\n",
       "      <td>Collegeville, PA 19426</td>\n",
       "      <td>NaN</td>\n",
       "      <td>GlaxoSmithKline</td>\n",
       "    </tr>\n",
       "    <tr>\n",
       "      <th>29</th>\n",
       "      <td>Data Analyst</td>\n",
       "      <td>Ambler, PA</td>\n",
       "      <td>NaN</td>\n",
       "      <td>Berkadia Commercial Mortgage</td>\n",
       "    </tr>\n",
       "    <tr>\n",
       "      <th>...</th>\n",
       "      <td>...</td>\n",
       "      <td>...</td>\n",
       "      <td>...</td>\n",
       "      <td>...</td>\n",
       "    </tr>\n",
       "    <tr>\n",
       "      <th>62232</th>\n",
       "      <td>Software Engineer - Swift</td>\n",
       "      <td>London</td>\n",
       "      <td>NaN</td>\n",
       "      <td>Blenheim Chalcot Group</td>\n",
       "    </tr>\n",
       "    <tr>\n",
       "      <th>62233</th>\n",
       "      <td>Machine Learning Engineer</td>\n",
       "      <td>London E1</td>\n",
       "      <td>NaN</td>\n",
       "      <td>Adstream</td>\n",
       "    </tr>\n",
       "    <tr>\n",
       "      <th>62234</th>\n",
       "      <td>Capital Allowances Assistant Manager</td>\n",
       "      <td>London</td>\n",
       "      <td>NaN</td>\n",
       "      <td>KPMG UK</td>\n",
       "    </tr>\n",
       "    <tr>\n",
       "      <th>62235</th>\n",
       "      <td>Deployment Lead</td>\n",
       "      <td>London</td>\n",
       "      <td>NaN</td>\n",
       "      <td>Cytora</td>\n",
       "    </tr>\n",
       "    <tr>\n",
       "      <th>62236</th>\n",
       "      <td>Data Scientist (Senior Manager) - FS - £125,00...</td>\n",
       "      <td>London</td>\n",
       "      <td>\\n                £95,000 - £125,000 a year</td>\n",
       "      <td>Lawrence Harvey</td>\n",
       "    </tr>\n",
       "    <tr>\n",
       "      <th>62237</th>\n",
       "      <td>Software Engineer - Diagnostics</td>\n",
       "      <td>London</td>\n",
       "      <td>NaN</td>\n",
       "      <td>Babylon Health</td>\n",
       "    </tr>\n",
       "    <tr>\n",
       "      <th>62238</th>\n",
       "      <td>Agile Business Analyst - Personalisation</td>\n",
       "      <td>London</td>\n",
       "      <td>NaN</td>\n",
       "      <td>Burberry</td>\n",
       "    </tr>\n",
       "    <tr>\n",
       "      <th>62239</th>\n",
       "      <td>Big Data Engineer ( Spark / Python / Kafka )</td>\n",
       "      <td>London</td>\n",
       "      <td>\\n                £550 - £600 a day</td>\n",
       "      <td>Venturi</td>\n",
       "    </tr>\n",
       "    <tr>\n",
       "      <th>62240</th>\n",
       "      <td>Senior Developer</td>\n",
       "      <td>London</td>\n",
       "      <td>NaN</td>\n",
       "      <td>carwow</td>\n",
       "    </tr>\n",
       "    <tr>\n",
       "      <th>62241</th>\n",
       "      <td>Product Support Engineer</td>\n",
       "      <td>London</td>\n",
       "      <td>NaN</td>\n",
       "      <td>BBOXX</td>\n",
       "    </tr>\n",
       "    <tr>\n",
       "      <th>62242</th>\n",
       "      <td>Lead Data Scientist - Growth</td>\n",
       "      <td>London</td>\n",
       "      <td>NaN</td>\n",
       "      <td>Trainline</td>\n",
       "    </tr>\n",
       "    <tr>\n",
       "      <th>62243</th>\n",
       "      <td>Research Scientist/Senior Scientist – Data Ana...</td>\n",
       "      <td>London</td>\n",
       "      <td>NaN</td>\n",
       "      <td>Autolus Ltd</td>\n",
       "    </tr>\n",
       "    <tr>\n",
       "      <th>62244</th>\n",
       "      <td>Data Scientist</td>\n",
       "      <td>London WC1B</td>\n",
       "      <td>\\n                £35,000 - £45,000 a year</td>\n",
       "      <td>Invennt Ltd</td>\n",
       "    </tr>\n",
       "    <tr>\n",
       "      <th>62245</th>\n",
       "      <td>Data Scientist</td>\n",
       "      <td>London</td>\n",
       "      <td>NaN</td>\n",
       "      <td>Indeed Prime</td>\n",
       "    </tr>\n",
       "    <tr>\n",
       "      <th>62246</th>\n",
       "      <td>Data Scientist</td>\n",
       "      <td>London</td>\n",
       "      <td>NaN</td>\n",
       "      <td>Oracle</td>\n",
       "    </tr>\n",
       "    <tr>\n",
       "      <th>62247</th>\n",
       "      <td>Marketing Data Scientist</td>\n",
       "      <td>London</td>\n",
       "      <td>\\n                £40,000 - £75,000 a year</td>\n",
       "      <td>nkoda</td>\n",
       "    </tr>\n",
       "    <tr>\n",
       "      <th>62248</th>\n",
       "      <td>Data Scientist</td>\n",
       "      <td>London</td>\n",
       "      <td>NaN</td>\n",
       "      <td>Funding Circle UK</td>\n",
       "    </tr>\n",
       "    <tr>\n",
       "      <th>62249</th>\n",
       "      <td>Data Scientist - Natural Language Processing E...</td>\n",
       "      <td>London EC2Y</td>\n",
       "      <td>\\n                £40,000 - £80,000 a year</td>\n",
       "      <td>Karssen</td>\n",
       "    </tr>\n",
       "    <tr>\n",
       "      <th>62250</th>\n",
       "      <td>Software Engineer - Swift</td>\n",
       "      <td>London</td>\n",
       "      <td>NaN</td>\n",
       "      <td>Blenheim Chalcot Group</td>\n",
       "    </tr>\n",
       "    <tr>\n",
       "      <th>62251</th>\n",
       "      <td>Machine Learning Engineer</td>\n",
       "      <td>London E1</td>\n",
       "      <td>NaN</td>\n",
       "      <td>Adstream</td>\n",
       "    </tr>\n",
       "    <tr>\n",
       "      <th>62252</th>\n",
       "      <td>Capital Allowances Assistant Manager</td>\n",
       "      <td>London</td>\n",
       "      <td>NaN</td>\n",
       "      <td>KPMG UK</td>\n",
       "    </tr>\n",
       "    <tr>\n",
       "      <th>62253</th>\n",
       "      <td>Deployment Lead</td>\n",
       "      <td>London</td>\n",
       "      <td>NaN</td>\n",
       "      <td>Cytora</td>\n",
       "    </tr>\n",
       "    <tr>\n",
       "      <th>62254</th>\n",
       "      <td>Data Scientist (Senior Manager) - FS - £125,00...</td>\n",
       "      <td>London</td>\n",
       "      <td>\\n                £95,000 - £125,000 a year</td>\n",
       "      <td>Lawrence Harvey</td>\n",
       "    </tr>\n",
       "    <tr>\n",
       "      <th>62255</th>\n",
       "      <td>Software Engineer - Diagnostics</td>\n",
       "      <td>London</td>\n",
       "      <td>NaN</td>\n",
       "      <td>Babylon Health</td>\n",
       "    </tr>\n",
       "    <tr>\n",
       "      <th>62256</th>\n",
       "      <td>Agile Business Analyst - Personalisation</td>\n",
       "      <td>London</td>\n",
       "      <td>NaN</td>\n",
       "      <td>Burberry</td>\n",
       "    </tr>\n",
       "    <tr>\n",
       "      <th>62257</th>\n",
       "      <td>Big Data Engineer ( Spark / Python / Kafka )</td>\n",
       "      <td>London</td>\n",
       "      <td>\\n                £550 - £600 a day</td>\n",
       "      <td>Venturi</td>\n",
       "    </tr>\n",
       "    <tr>\n",
       "      <th>62258</th>\n",
       "      <td>Senior Developer</td>\n",
       "      <td>London</td>\n",
       "      <td>NaN</td>\n",
       "      <td>carwow</td>\n",
       "    </tr>\n",
       "    <tr>\n",
       "      <th>62259</th>\n",
       "      <td>Product Support Engineer</td>\n",
       "      <td>London</td>\n",
       "      <td>NaN</td>\n",
       "      <td>BBOXX</td>\n",
       "    </tr>\n",
       "    <tr>\n",
       "      <th>62260</th>\n",
       "      <td>Lead Data Scientist - Growth</td>\n",
       "      <td>London</td>\n",
       "      <td>NaN</td>\n",
       "      <td>Trainline</td>\n",
       "    </tr>\n",
       "    <tr>\n",
       "      <th>62261</th>\n",
       "      <td>Research Scientist/Senior Scientist – Data Ana...</td>\n",
       "      <td>London</td>\n",
       "      <td>NaN</td>\n",
       "      <td>Autolus Ltd</td>\n",
       "    </tr>\n",
       "  </tbody>\n",
       "</table>\n",
       "<p>62262 rows × 4 columns</p>\n",
       "</div>"
      ],
      "text/plain": [
       "                                                Jobtitle  \\\n",
       "0                          Data Analyst / Data Scientist   \n",
       "1                       Graduate Environmental Scientist   \n",
       "2                                         Data Scientist   \n",
       "3                                         Data Scientist   \n",
       "4        Temporary Data Analyst (Institutional Research)   \n",
       "5                          Scientist Certifying-Positive   \n",
       "6                                         Data Scientist   \n",
       "7                          Scientist Certifying-Negative   \n",
       "8                                         Data Scientist   \n",
       "9                     Environmental Scientist Specialist   \n",
       "10                                        Data Scientist   \n",
       "11                         Scientist Certifying-Negative   \n",
       "12                         Scientist Certifying-Positive   \n",
       "13                     Data Scientist - Conshohocken, PA   \n",
       "14                                        Data Scientist   \n",
       "15                                        Data Scientist   \n",
       "16                               Environmental Scientist   \n",
       "17                                      Data Scientist I   \n",
       "18                              Data Scientist/ Contract   \n",
       "19                                        Data Scientist   \n",
       "20                             Data Scientist/ Python, R   \n",
       "21                              Associate Scientist, TEM   \n",
       "22                    Associate Director, Data Scientist   \n",
       "23                                        Data Scientist   \n",
       "24                                        Data Scientist   \n",
       "25                 Associate, Data Scientist, Healthcare   \n",
       "26                                       Glass Scientist   \n",
       "27      Associate Scientist, Biochemistry - Gene Therapy   \n",
       "28                             Biological Data Scientist   \n",
       "29                                          Data Analyst   \n",
       "...                                                  ...   \n",
       "62232                          Software Engineer - Swift   \n",
       "62233                          Machine Learning Engineer   \n",
       "62234               Capital Allowances Assistant Manager   \n",
       "62235                                    Deployment Lead   \n",
       "62236  Data Scientist (Senior Manager) - FS - £125,00...   \n",
       "62237                    Software Engineer - Diagnostics   \n",
       "62238           Agile Business Analyst - Personalisation   \n",
       "62239       Big Data Engineer ( Spark / Python / Kafka )   \n",
       "62240                                   Senior Developer   \n",
       "62241                           Product Support Engineer   \n",
       "62242                       Lead Data Scientist - Growth   \n",
       "62243  Research Scientist/Senior Scientist – Data Ana...   \n",
       "62244                                     Data Scientist   \n",
       "62245                                     Data Scientist   \n",
       "62246                                     Data Scientist   \n",
       "62247                           Marketing Data Scientist   \n",
       "62248                                     Data Scientist   \n",
       "62249  Data Scientist - Natural Language Processing E...   \n",
       "62250                          Software Engineer - Swift   \n",
       "62251                          Machine Learning Engineer   \n",
       "62252               Capital Allowances Assistant Manager   \n",
       "62253                                    Deployment Lead   \n",
       "62254  Data Scientist (Senior Manager) - FS - £125,00...   \n",
       "62255                    Software Engineer - Diagnostics   \n",
       "62256           Agile Business Analyst - Personalisation   \n",
       "62257       Big Data Engineer ( Spark / Python / Kafka )   \n",
       "62258                                   Senior Developer   \n",
       "62259                           Product Support Engineer   \n",
       "62260                       Lead Data Scientist - Growth   \n",
       "62261  Research Scientist/Senior Scientist – Data Ana...   \n",
       "\n",
       "                                                Location  \\\n",
       "0      Philadelphia, PA 19123 (Poplar-Ludlow-Yorktown...   \n",
       "1                                       Philadelphia, PA   \n",
       "2                                       Philadelphia, PA   \n",
       "3                                   Plymouth Meeting, PA   \n",
       "4                  Philadelphia, PA 19104 (Belmont area)   \n",
       "5                                         Norristown, PA   \n",
       "6                                             Radnor, PA   \n",
       "7                                         Norristown, PA   \n",
       "8                                              Exton, PA   \n",
       "9                                       Philadelphia, PA   \n",
       "10                                            Radnor, PA   \n",
       "11                                        Norristown, PA   \n",
       "12                                        Norristown, PA   \n",
       "13                                      Conshohocken, PA   \n",
       "14                                      Philadelphia, PA   \n",
       "15                                  Moorestown, NJ 08057   \n",
       "16                            Plymouth Meeting, PA 19462   \n",
       "17                                     Malvern, PA 19355   \n",
       "18                                      Philadelphia, PA   \n",
       "19                                      Philadelphia, PA   \n",
       "20                                       Bala-Cynwyd, PA   \n",
       "21                                      Philadelphia, PA   \n",
       "22                                           Horsham, PA   \n",
       "23                                      Mount Laurel, NJ   \n",
       "24                                        Kulpsville, PA   \n",
       "25                Philadelphia, PA 19019 (Somerton area)   \n",
       "26                                      Conshohocken, PA   \n",
       "27                                      Philadelphia, PA   \n",
       "28                                Collegeville, PA 19426   \n",
       "29                                            Ambler, PA   \n",
       "...                                                  ...   \n",
       "62232                                             London   \n",
       "62233                                          London E1   \n",
       "62234                                             London   \n",
       "62235                                             London   \n",
       "62236                                             London   \n",
       "62237                                             London   \n",
       "62238                                             London   \n",
       "62239                                             London   \n",
       "62240                                             London   \n",
       "62241                                             London   \n",
       "62242                                             London   \n",
       "62243                                             London   \n",
       "62244                                        London WC1B   \n",
       "62245                                             London   \n",
       "62246                                             London   \n",
       "62247                                             London   \n",
       "62248                                             London   \n",
       "62249                                        London EC2Y   \n",
       "62250                                             London   \n",
       "62251                                          London E1   \n",
       "62252                                             London   \n",
       "62253                                             London   \n",
       "62254                                             London   \n",
       "62255                                             London   \n",
       "62256                                             London   \n",
       "62257                                             London   \n",
       "62258                                             London   \n",
       "62259                                             London   \n",
       "62260                                             London   \n",
       "62261                                             London   \n",
       "\n",
       "                                             Salary  \\\n",
       "0               \\n                $65 - $75 an hour   \n",
       "1                  \\n                $47,783 a year   \n",
       "2                                               NaN   \n",
       "3                                               NaN   \n",
       "4                                               NaN   \n",
       "5                                               NaN   \n",
       "6                                               NaN   \n",
       "7                                               NaN   \n",
       "8                                               NaN   \n",
       "9        \\n                $56,589 - $72,742 a year   \n",
       "10                                              NaN   \n",
       "11                                              NaN   \n",
       "12                                              NaN   \n",
       "13                                              NaN   \n",
       "14                                              NaN   \n",
       "15                                              NaN   \n",
       "16                                              NaN   \n",
       "17                                              NaN   \n",
       "18                    \\n                $50 an hour   \n",
       "19                                              NaN   \n",
       "20     \\n                $110,000 - $120,000 a year   \n",
       "21                                              NaN   \n",
       "22                                              NaN   \n",
       "23                                              NaN   \n",
       "24                                              NaN   \n",
       "25                                              NaN   \n",
       "26                                              NaN   \n",
       "27                                              NaN   \n",
       "28                                              NaN   \n",
       "29                                              NaN   \n",
       "...                                             ...   \n",
       "62232                                           NaN   \n",
       "62233                                           NaN   \n",
       "62234                                           NaN   \n",
       "62235                                           NaN   \n",
       "62236   \\n                £95,000 - £125,000 a year   \n",
       "62237                                           NaN   \n",
       "62238                                           NaN   \n",
       "62239           \\n                £550 - £600 a day   \n",
       "62240                                           NaN   \n",
       "62241                                           NaN   \n",
       "62242                                           NaN   \n",
       "62243                                           NaN   \n",
       "62244    \\n                £35,000 - £45,000 a year   \n",
       "62245                                           NaN   \n",
       "62246                                           NaN   \n",
       "62247    \\n                £40,000 - £75,000 a year   \n",
       "62248                                           NaN   \n",
       "62249    \\n                £40,000 - £80,000 a year   \n",
       "62250                                           NaN   \n",
       "62251                                           NaN   \n",
       "62252                                           NaN   \n",
       "62253                                           NaN   \n",
       "62254   \\n                £95,000 - £125,000 a year   \n",
       "62255                                           NaN   \n",
       "62256                                           NaN   \n",
       "62257           \\n                £550 - £600 a day   \n",
       "62258                                           NaN   \n",
       "62259                                           NaN   \n",
       "62260                                           NaN   \n",
       "62261                                           NaN   \n",
       "\n",
       "                                          Company  \n",
       "0                                 Defined Clarity  \n",
       "1                            City of Philadelphia  \n",
       "2                                       EcoMetric  \n",
       "3                                           IQVIA  \n",
       "4      University of the Sciences in Philadelphia  \n",
       "5                               Quest Diagnostics  \n",
       "6                               Lincoln Financial  \n",
       "7                               Quest Diagnostics  \n",
       "8                                       XL Catlin  \n",
       "9                            City of Philadelphia  \n",
       "10                              Lincoln Financial  \n",
       "11                              Quest Diagnostics  \n",
       "12                              Quest Diagnostics  \n",
       "13                                RS Energy Group  \n",
       "14                        Independence Blue Cross  \n",
       "15                    Tabula Rasa HealthCare, Inc  \n",
       "16                                        Stantec  \n",
       "17                                       Vanguard  \n",
       "18                          Workbridge Associates  \n",
       "19                              Drexel University  \n",
       "20                          Workbridge Associates  \n",
       "21                                    Wuxi AppTec  \n",
       "22          Johnson & Johnson Family of Companies  \n",
       "23                                 Marlin Finance  \n",
       "24                            Greene, Tweed & Co.  \n",
       "25                                           KPMG  \n",
       "26                           Heraeus Holding GmbH  \n",
       "27                            Amicus Therapeutics  \n",
       "28                                GlaxoSmithKline  \n",
       "29                   Berkadia Commercial Mortgage  \n",
       "...                                           ...  \n",
       "62232                      Blenheim Chalcot Group  \n",
       "62233                                    Adstream  \n",
       "62234                                     KPMG UK  \n",
       "62235                                      Cytora  \n",
       "62236                             Lawrence Harvey  \n",
       "62237                              Babylon Health  \n",
       "62238                                    Burberry  \n",
       "62239                                     Venturi  \n",
       "62240                                      carwow  \n",
       "62241                                       BBOXX  \n",
       "62242                                   Trainline  \n",
       "62243                                 Autolus Ltd  \n",
       "62244                                 Invennt Ltd  \n",
       "62245                                Indeed Prime  \n",
       "62246                                      Oracle  \n",
       "62247                                       nkoda  \n",
       "62248                           Funding Circle UK  \n",
       "62249                                     Karssen  \n",
       "62250                      Blenheim Chalcot Group  \n",
       "62251                                    Adstream  \n",
       "62252                                     KPMG UK  \n",
       "62253                                      Cytora  \n",
       "62254                             Lawrence Harvey  \n",
       "62255                              Babylon Health  \n",
       "62256                                    Burberry  \n",
       "62257                                     Venturi  \n",
       "62258                                      carwow  \n",
       "62259                                       BBOXX  \n",
       "62260                                   Trainline  \n",
       "62261                                 Autolus Ltd  \n",
       "\n",
       "[62262 rows x 4 columns]"
      ]
     },
     "execution_count": 20,
     "metadata": {},
     "output_type": "execute_result"
    }
   ],
   "source": [
    "jobtitle = []\n",
    "location = []\n",
    "salary = []\n",
    "company = []\n",
    "for result in results:\n",
    "    jobtitle.append(extract_jobtitle_from_result(result)) \n",
    "    location.append(extract_location_from_result(result))\n",
    "    salary.append(extract_salary_from_result(result))\n",
    "    company.append(extract_company_from_result(result))\n",
    "\n",
    "df_dsijobs = pd.DataFrame({'Jobtitle': jobtitle, 'Location': location, 'Salary': salary, 'Company': company})\n",
    "df_dsijobs"
   ]
  },
  {
   "cell_type": "code",
   "execution_count": 21,
   "metadata": {},
   "outputs": [],
   "source": [
    "df_dsijobs['Cities'] = results_city"
   ]
  },
  {
   "cell_type": "code",
   "execution_count": 22,
   "metadata": {},
   "outputs": [
    {
     "data": {
      "text/html": [
       "<div>\n",
       "<style scoped>\n",
       "    .dataframe tbody tr th:only-of-type {\n",
       "        vertical-align: middle;\n",
       "    }\n",
       "\n",
       "    .dataframe tbody tr th {\n",
       "        vertical-align: top;\n",
       "    }\n",
       "\n",
       "    .dataframe thead th {\n",
       "        text-align: right;\n",
       "    }\n",
       "</style>\n",
       "<table border=\"1\" class=\"dataframe\">\n",
       "  <thead>\n",
       "    <tr style=\"text-align: right;\">\n",
       "      <th></th>\n",
       "      <th>Jobtitle</th>\n",
       "      <th>Location</th>\n",
       "      <th>Salary</th>\n",
       "      <th>Company</th>\n",
       "      <th>Cities</th>\n",
       "    </tr>\n",
       "  </thead>\n",
       "  <tbody>\n",
       "    <tr>\n",
       "      <th>0</th>\n",
       "      <td>Data Analyst / Data Scientist</td>\n",
       "      <td>Philadelphia, PA 19123 (Poplar-Ludlow-Yorktown...</td>\n",
       "      <td>\\n                $65 - $75 an hour</td>\n",
       "      <td>Defined Clarity</td>\n",
       "      <td>Philadelphia</td>\n",
       "    </tr>\n",
       "    <tr>\n",
       "      <th>1</th>\n",
       "      <td>Graduate Environmental Scientist</td>\n",
       "      <td>Philadelphia, PA</td>\n",
       "      <td>\\n                $47,783 a year</td>\n",
       "      <td>City of Philadelphia</td>\n",
       "      <td>Philadelphia</td>\n",
       "    </tr>\n",
       "    <tr>\n",
       "      <th>2</th>\n",
       "      <td>Data Scientist</td>\n",
       "      <td>Philadelphia, PA</td>\n",
       "      <td>NaN</td>\n",
       "      <td>EcoMetric</td>\n",
       "      <td>Philadelphia</td>\n",
       "    </tr>\n",
       "    <tr>\n",
       "      <th>3</th>\n",
       "      <td>Data Scientist</td>\n",
       "      <td>Plymouth Meeting, PA</td>\n",
       "      <td>NaN</td>\n",
       "      <td>IQVIA</td>\n",
       "      <td>Philadelphia</td>\n",
       "    </tr>\n",
       "    <tr>\n",
       "      <th>4</th>\n",
       "      <td>Temporary Data Analyst (Institutional Research)</td>\n",
       "      <td>Philadelphia, PA 19104 (Belmont area)</td>\n",
       "      <td>NaN</td>\n",
       "      <td>University of the Sciences in Philadelphia</td>\n",
       "      <td>Philadelphia</td>\n",
       "    </tr>\n",
       "  </tbody>\n",
       "</table>\n",
       "</div>"
      ],
      "text/plain": [
       "                                          Jobtitle  \\\n",
       "0                    Data Analyst / Data Scientist   \n",
       "1                 Graduate Environmental Scientist   \n",
       "2                                   Data Scientist   \n",
       "3                                   Data Scientist   \n",
       "4  Temporary Data Analyst (Institutional Research)   \n",
       "\n",
       "                                            Location  \\\n",
       "0  Philadelphia, PA 19123 (Poplar-Ludlow-Yorktown...   \n",
       "1                                   Philadelphia, PA   \n",
       "2                                   Philadelphia, PA   \n",
       "3                               Plymouth Meeting, PA   \n",
       "4              Philadelphia, PA 19104 (Belmont area)   \n",
       "\n",
       "                                Salary  \\\n",
       "0  \\n                $65 - $75 an hour   \n",
       "1     \\n                $47,783 a year   \n",
       "2                                  NaN   \n",
       "3                                  NaN   \n",
       "4                                  NaN   \n",
       "\n",
       "                                      Company        Cities  \n",
       "0                             Defined Clarity  Philadelphia  \n",
       "1                        City of Philadelphia  Philadelphia  \n",
       "2                                   EcoMetric  Philadelphia  \n",
       "3                                       IQVIA  Philadelphia  \n",
       "4  University of the Sciences in Philadelphia  Philadelphia  "
      ]
     },
     "execution_count": 22,
     "metadata": {},
     "output_type": "execute_result"
    }
   ],
   "source": [
    "df_dsijobs.head()"
   ]
  },
  {
   "cell_type": "code",
   "execution_count": 23,
   "metadata": {},
   "outputs": [
    {
     "data": {
      "text/plain": [
       "(62262, 5)"
      ]
     },
     "execution_count": 23,
     "metadata": {},
     "output_type": "execute_result"
    }
   ],
   "source": [
    "df_dsijobs.shape"
   ]
  },
  {
   "cell_type": "code",
   "execution_count": 24,
   "metadata": {},
   "outputs": [
    {
     "data": {
      "text/plain": [
       "Jobtitle        0\n",
       "Location        0\n",
       "Salary      54697\n",
       "Company         1\n",
       "Cities          0\n",
       "dtype: int64"
      ]
     },
     "execution_count": 24,
     "metadata": {},
     "output_type": "execute_result"
    }
   ],
   "source": [
    "df_dsijobs.isnull().sum()"
   ]
  },
  {
   "cell_type": "code",
   "execution_count": 25,
   "metadata": {},
   "outputs": [
    {
     "data": {
      "text/html": [
       "<div>\n",
       "<style scoped>\n",
       "    .dataframe tbody tr th:only-of-type {\n",
       "        vertical-align: middle;\n",
       "    }\n",
       "\n",
       "    .dataframe tbody tr th {\n",
       "        vertical-align: top;\n",
       "    }\n",
       "\n",
       "    .dataframe thead th {\n",
       "        text-align: right;\n",
       "    }\n",
       "</style>\n",
       "<table border=\"1\" class=\"dataframe\">\n",
       "  <thead>\n",
       "    <tr style=\"text-align: right;\">\n",
       "      <th></th>\n",
       "      <th>Jobtitle</th>\n",
       "      <th>Location</th>\n",
       "      <th>Salary</th>\n",
       "      <th>Company</th>\n",
       "      <th>Cities</th>\n",
       "    </tr>\n",
       "  </thead>\n",
       "  <tbody>\n",
       "    <tr>\n",
       "      <th>26970</th>\n",
       "      <td>Research Scientist I Investigator</td>\n",
       "      <td>San Jose, CA</td>\n",
       "      <td>NaN</td>\n",
       "      <td>Kaiser Permanente</td>\n",
       "      <td>San Jose, CA</td>\n",
       "    </tr>\n",
       "    <tr>\n",
       "      <th>26971</th>\n",
       "      <td>Data Scientist (Intern) - United States</td>\n",
       "      <td>San Jose, CA</td>\n",
       "      <td>NaN</td>\n",
       "      <td>Cisco</td>\n",
       "      <td>San Jose, CA</td>\n",
       "    </tr>\n",
       "    <tr>\n",
       "      <th>26972</th>\n",
       "      <td>Data Scientist</td>\n",
       "      <td>San Jose, CA</td>\n",
       "      <td>NaN</td>\n",
       "      <td>Adobe</td>\n",
       "      <td>San Jose, CA</td>\n",
       "    </tr>\n",
       "    <tr>\n",
       "      <th>26973</th>\n",
       "      <td>Data Scientist (Full Time) - United States</td>\n",
       "      <td>San Jose, CA</td>\n",
       "      <td>NaN</td>\n",
       "      <td>Cisco</td>\n",
       "      <td>San Jose, CA</td>\n",
       "    </tr>\n",
       "    <tr>\n",
       "      <th>26975</th>\n",
       "      <td>Data scientist</td>\n",
       "      <td>San Jose, CA</td>\n",
       "      <td>NaN</td>\n",
       "      <td>Avila Trading</td>\n",
       "      <td>San Jose, CA</td>\n",
       "    </tr>\n",
       "  </tbody>\n",
       "</table>\n",
       "</div>"
      ],
      "text/plain": [
       "                                         Jobtitle      Location Salary  \\\n",
       "26970           Research Scientist I Investigator  San Jose, CA    NaN   \n",
       "26971     Data Scientist (Intern) - United States  San Jose, CA    NaN   \n",
       "26972                              Data Scientist  San Jose, CA    NaN   \n",
       "26973  Data Scientist (Full Time) - United States  San Jose, CA    NaN   \n",
       "26975                              Data scientist  San Jose, CA    NaN   \n",
       "\n",
       "                 Company        Cities  \n",
       "26970  Kaiser Permanente  San Jose, CA  \n",
       "26971              Cisco  San Jose, CA  \n",
       "26972              Adobe  San Jose, CA  \n",
       "26973              Cisco  San Jose, CA  \n",
       "26975      Avila Trading  San Jose, CA  "
      ]
     },
     "execution_count": 25,
     "metadata": {},
     "output_type": "execute_result"
    }
   ],
   "source": [
    "df_dsijobs[df_dsijobs['Location'].str.contains(\"San Jose\")].head()"
   ]
  },
  {
   "cell_type": "code",
   "execution_count": 26,
   "metadata": {},
   "outputs": [
    {
     "data": {
      "text/html": [
       "<div>\n",
       "<style scoped>\n",
       "    .dataframe tbody tr th:only-of-type {\n",
       "        vertical-align: middle;\n",
       "    }\n",
       "\n",
       "    .dataframe tbody tr th {\n",
       "        vertical-align: top;\n",
       "    }\n",
       "\n",
       "    .dataframe thead th {\n",
       "        text-align: right;\n",
       "    }\n",
       "</style>\n",
       "<table border=\"1\" class=\"dataframe\">\n",
       "  <thead>\n",
       "    <tr style=\"text-align: right;\">\n",
       "      <th></th>\n",
       "      <th>Jobtitle</th>\n",
       "      <th>Location</th>\n",
       "      <th>Salary</th>\n",
       "      <th>Company</th>\n",
       "      <th>Cities</th>\n",
       "    </tr>\n",
       "  </thead>\n",
       "  <tbody>\n",
       "    <tr>\n",
       "      <th>56897</th>\n",
       "      <td>Data Scientist</td>\n",
       "      <td>London WC1B</td>\n",
       "      <td>\\n                £35,000 - £45,000 a year</td>\n",
       "      <td>Invennt Ltd</td>\n",
       "      <td>London, Greater London</td>\n",
       "    </tr>\n",
       "    <tr>\n",
       "      <th>56898</th>\n",
       "      <td>Data Scientist</td>\n",
       "      <td>London</td>\n",
       "      <td>NaN</td>\n",
       "      <td>Oracle</td>\n",
       "      <td>London, Greater London</td>\n",
       "    </tr>\n",
       "    <tr>\n",
       "      <th>56899</th>\n",
       "      <td>Data Scientist</td>\n",
       "      <td>London</td>\n",
       "      <td>NaN</td>\n",
       "      <td>Funding Circle UK</td>\n",
       "      <td>London, Greater London</td>\n",
       "    </tr>\n",
       "    <tr>\n",
       "      <th>56900</th>\n",
       "      <td>Data Scientist - Natural Language Processing E...</td>\n",
       "      <td>London EC2Y</td>\n",
       "      <td>\\n                £40,000 - £80,000 a year</td>\n",
       "      <td>Karssen</td>\n",
       "      <td>London, Greater London</td>\n",
       "    </tr>\n",
       "    <tr>\n",
       "      <th>56901</th>\n",
       "      <td>Lead Data Scientist - Growth</td>\n",
       "      <td>London</td>\n",
       "      <td>NaN</td>\n",
       "      <td>Trainline</td>\n",
       "      <td>London, Greater London</td>\n",
       "    </tr>\n",
       "  </tbody>\n",
       "</table>\n",
       "</div>"
      ],
      "text/plain": [
       "                                                Jobtitle     Location  \\\n",
       "56897                                     Data Scientist  London WC1B   \n",
       "56898                                     Data Scientist       London   \n",
       "56899                                     Data Scientist       London   \n",
       "56900  Data Scientist - Natural Language Processing E...  London EC2Y   \n",
       "56901                       Lead Data Scientist - Growth       London   \n",
       "\n",
       "                                           Salary            Company  \\\n",
       "56897  \\n                £35,000 - £45,000 a year        Invennt Ltd   \n",
       "56898                                         NaN             Oracle   \n",
       "56899                                         NaN  Funding Circle UK   \n",
       "56900  \\n                £40,000 - £80,000 a year            Karssen   \n",
       "56901                                         NaN          Trainline   \n",
       "\n",
       "                       Cities  \n",
       "56897  London, Greater London  \n",
       "56898  London, Greater London  \n",
       "56899  London, Greater London  \n",
       "56900  London, Greater London  \n",
       "56901  London, Greater London  "
      ]
     },
     "execution_count": 26,
     "metadata": {},
     "output_type": "execute_result"
    }
   ],
   "source": [
    "df_dsijobs[df_dsijobs['Location'].str.contains(\"London\")].head()"
   ]
  },
  {
   "cell_type": "code",
   "execution_count": 27,
   "metadata": {},
   "outputs": [
    {
     "data": {
      "text/plain": [
       "(62262, 5)"
      ]
     },
     "execution_count": 27,
     "metadata": {},
     "output_type": "execute_result"
    }
   ],
   "source": [
    "df_dsijobs.shape"
   ]
  },
  {
   "cell_type": "markdown",
   "metadata": {
    "focus": false,
    "id": "ff98ce64-78a7-441f-a675-63464e32c834"
   },
   "source": [
    "Lastly, we need to clean up salary data. \n",
    "\n",
    "1. Only a small number of the scraped results have salary information - only these will be used for modeling.\n",
    "1. Some of the salaries are not yearly but hourly or weekly, these will not be useful to us for now.\n",
    "1. Some of the entries may be duplicated.\n",
    "1. The salaries are given as text and usually with ranges."
   ]
  },
  {
   "cell_type": "markdown",
   "metadata": {
    "focus": false,
    "id": "ff98ce64-78a7-441f-a675-63464e32c834"
   },
   "source": [
    "#### Find the entries with annual salary entries, by filtering the entries without salaries or salaries that are not yearly (filter those that refer to hour or week). Also, remove duplicate entries."
   ]
  },
  {
   "cell_type": "markdown",
   "metadata": {},
   "source": [
    "Only a small number of the scraped results have salary information - only these will be used for modeling."
   ]
  },
  {
   "cell_type": "code",
   "execution_count": 28,
   "metadata": {},
   "outputs": [
    {
     "data": {
      "text/plain": [
       "54697"
      ]
     },
     "execution_count": 28,
     "metadata": {},
     "output_type": "execute_result"
    }
   ],
   "source": [
    "df_dsijobs.Salary.isnull().sum()"
   ]
  },
  {
   "cell_type": "code",
   "execution_count": 29,
   "metadata": {},
   "outputs": [],
   "source": [
    "df_dsijobs.to_csv('scrape.csv')"
   ]
  },
  {
   "cell_type": "code",
   "execution_count": 30,
   "metadata": {},
   "outputs": [
    {
     "data": {
      "text/html": [
       "<div>\n",
       "<style scoped>\n",
       "    .dataframe tbody tr th:only-of-type {\n",
       "        vertical-align: middle;\n",
       "    }\n",
       "\n",
       "    .dataframe tbody tr th {\n",
       "        vertical-align: top;\n",
       "    }\n",
       "\n",
       "    .dataframe thead th {\n",
       "        text-align: right;\n",
       "    }\n",
       "</style>\n",
       "<table border=\"1\" class=\"dataframe\">\n",
       "  <thead>\n",
       "    <tr style=\"text-align: right;\">\n",
       "      <th></th>\n",
       "      <th>Jobtitle</th>\n",
       "      <th>Location</th>\n",
       "      <th>Salary</th>\n",
       "      <th>Company</th>\n",
       "      <th>Cities</th>\n",
       "    </tr>\n",
       "  </thead>\n",
       "  <tbody>\n",
       "    <tr>\n",
       "      <th>0</th>\n",
       "      <td>Data Analyst / Data Scientist</td>\n",
       "      <td>Philadelphia, PA 19123 (Poplar-Ludlow-Yorktown...</td>\n",
       "      <td>\\n                $65 - $75 an hour</td>\n",
       "      <td>Defined Clarity</td>\n",
       "      <td>Philadelphia</td>\n",
       "    </tr>\n",
       "    <tr>\n",
       "      <th>1</th>\n",
       "      <td>Graduate Environmental Scientist</td>\n",
       "      <td>Philadelphia, PA</td>\n",
       "      <td>\\n                $47,783 a year</td>\n",
       "      <td>City of Philadelphia</td>\n",
       "      <td>Philadelphia</td>\n",
       "    </tr>\n",
       "    <tr>\n",
       "      <th>9</th>\n",
       "      <td>Environmental Scientist Specialist</td>\n",
       "      <td>Philadelphia, PA</td>\n",
       "      <td>\\n                $56,589 - $72,742 a year</td>\n",
       "      <td>City of Philadelphia</td>\n",
       "      <td>Philadelphia</td>\n",
       "    </tr>\n",
       "    <tr>\n",
       "      <th>18</th>\n",
       "      <td>Data Scientist/ Contract</td>\n",
       "      <td>Philadelphia, PA</td>\n",
       "      <td>\\n                $50 an hour</td>\n",
       "      <td>Workbridge Associates</td>\n",
       "      <td>Philadelphia</td>\n",
       "    </tr>\n",
       "    <tr>\n",
       "      <th>20</th>\n",
       "      <td>Data Scientist/ Python, R</td>\n",
       "      <td>Bala-Cynwyd, PA</td>\n",
       "      <td>\\n                $110,000 - $120,000 a year</td>\n",
       "      <td>Workbridge Associates</td>\n",
       "      <td>Philadelphia</td>\n",
       "    </tr>\n",
       "  </tbody>\n",
       "</table>\n",
       "</div>"
      ],
      "text/plain": [
       "                              Jobtitle  \\\n",
       "0        Data Analyst / Data Scientist   \n",
       "1     Graduate Environmental Scientist   \n",
       "9   Environmental Scientist Specialist   \n",
       "18            Data Scientist/ Contract   \n",
       "20           Data Scientist/ Python, R   \n",
       "\n",
       "                                             Location  \\\n",
       "0   Philadelphia, PA 19123 (Poplar-Ludlow-Yorktown...   \n",
       "1                                    Philadelphia, PA   \n",
       "9                                    Philadelphia, PA   \n",
       "18                                   Philadelphia, PA   \n",
       "20                                    Bala-Cynwyd, PA   \n",
       "\n",
       "                                          Salary                Company  \\\n",
       "0            \\n                $65 - $75 an hour        Defined Clarity   \n",
       "1               \\n                $47,783 a year   City of Philadelphia   \n",
       "9     \\n                $56,589 - $72,742 a year   City of Philadelphia   \n",
       "18                 \\n                $50 an hour  Workbridge Associates   \n",
       "20  \\n                $110,000 - $120,000 a year  Workbridge Associates   \n",
       "\n",
       "          Cities  \n",
       "0   Philadelphia  \n",
       "1   Philadelphia  \n",
       "9   Philadelphia  \n",
       "18  Philadelphia  \n",
       "20  Philadelphia  "
      ]
     },
     "execution_count": 30,
     "metadata": {},
     "output_type": "execute_result"
    }
   ],
   "source": [
    "df_clean_step1 = df_dsijobs.dropna()\n",
    "df_clean_step1.head()"
   ]
  },
  {
   "cell_type": "code",
   "execution_count": 31,
   "metadata": {},
   "outputs": [
    {
     "data": {
      "text/plain": [
       "(7565, 5)"
      ]
     },
     "execution_count": 31,
     "metadata": {},
     "output_type": "execute_result"
    }
   ],
   "source": [
    "df_clean_step1.shape"
   ]
  },
  {
   "cell_type": "markdown",
   "metadata": {},
   "source": [
    "Some of the salaries are not yearly but hourly or weekly, these will not be useful to us for now."
   ]
  },
  {
   "cell_type": "code",
   "execution_count": 32,
   "metadata": {},
   "outputs": [],
   "source": [
    "df_clean_step2 = df_clean_step1[df_clean_step1['Salary'].str.contains(\"year\")]\n"
   ]
  },
  {
   "cell_type": "code",
   "execution_count": 33,
   "metadata": {},
   "outputs": [
    {
     "data": {
      "text/plain": [
       "(6450, 5)"
      ]
     },
     "execution_count": 33,
     "metadata": {},
     "output_type": "execute_result"
    }
   ],
   "source": [
    "df_clean_step2.shape"
   ]
  },
  {
   "cell_type": "code",
   "execution_count": 34,
   "metadata": {},
   "outputs": [],
   "source": [
    "df_clean_step2.to_csv('results.csv')"
   ]
  },
  {
   "cell_type": "markdown",
   "metadata": {},
   "source": [
    "Some of the entries may be duplicated."
   ]
  },
  {
   "cell_type": "code",
   "execution_count": 35,
   "metadata": {},
   "outputs": [
    {
     "data": {
      "text/plain": [
       "5545"
      ]
     },
     "execution_count": 35,
     "metadata": {},
     "output_type": "execute_result"
    }
   ],
   "source": [
    "df_clean_step2.duplicated().sum()"
   ]
  },
  {
   "cell_type": "code",
   "execution_count": 36,
   "metadata": {},
   "outputs": [],
   "source": [
    "df_clean_step3 = df_clean_step2.drop_duplicates(keep='first', inplace=False)"
   ]
  },
  {
   "cell_type": "code",
   "execution_count": 37,
   "metadata": {},
   "outputs": [
    {
     "data": {
      "text/plain": [
       "0"
      ]
     },
     "execution_count": 37,
     "metadata": {},
     "output_type": "execute_result"
    }
   ],
   "source": [
    "df_clean_step3.duplicated().sum()"
   ]
  },
  {
   "cell_type": "code",
   "execution_count": 38,
   "metadata": {},
   "outputs": [
    {
     "data": {
      "text/plain": [
       "(905, 5)"
      ]
     },
     "execution_count": 38,
     "metadata": {},
     "output_type": "execute_result"
    }
   ],
   "source": [
    "df_clean_step3.shape"
   ]
  },
  {
   "cell_type": "code",
   "execution_count": 39,
   "metadata": {},
   "outputs": [
    {
     "data": {
      "text/html": [
       "<div>\n",
       "<style scoped>\n",
       "    .dataframe tbody tr th:only-of-type {\n",
       "        vertical-align: middle;\n",
       "    }\n",
       "\n",
       "    .dataframe tbody tr th {\n",
       "        vertical-align: top;\n",
       "    }\n",
       "\n",
       "    .dataframe thead th {\n",
       "        text-align: right;\n",
       "    }\n",
       "</style>\n",
       "<table border=\"1\" class=\"dataframe\">\n",
       "  <thead>\n",
       "    <tr style=\"text-align: right;\">\n",
       "      <th></th>\n",
       "      <th>Jobtitle</th>\n",
       "      <th>Location</th>\n",
       "      <th>Salary</th>\n",
       "      <th>Company</th>\n",
       "      <th>Cities</th>\n",
       "    </tr>\n",
       "  </thead>\n",
       "  <tbody>\n",
       "    <tr>\n",
       "      <th>1</th>\n",
       "      <td>Graduate Environmental Scientist</td>\n",
       "      <td>Philadelphia, PA</td>\n",
       "      <td>\\n                $47,783 a year</td>\n",
       "      <td>City of Philadelphia</td>\n",
       "      <td>Philadelphia</td>\n",
       "    </tr>\n",
       "    <tr>\n",
       "      <th>9</th>\n",
       "      <td>Environmental Scientist Specialist</td>\n",
       "      <td>Philadelphia, PA</td>\n",
       "      <td>\\n                $56,589 - $72,742 a year</td>\n",
       "      <td>City of Philadelphia</td>\n",
       "      <td>Philadelphia</td>\n",
       "    </tr>\n",
       "    <tr>\n",
       "      <th>20</th>\n",
       "      <td>Data Scientist/ Python, R</td>\n",
       "      <td>Bala-Cynwyd, PA</td>\n",
       "      <td>\\n                $110,000 - $120,000 a year</td>\n",
       "      <td>Workbridge Associates</td>\n",
       "      <td>Philadelphia</td>\n",
       "    </tr>\n",
       "    <tr>\n",
       "      <th>30</th>\n",
       "      <td>Data Scientist</td>\n",
       "      <td>Philadelphia, PA</td>\n",
       "      <td>\\n                $90,000 - $130,000 a year</td>\n",
       "      <td>Jobspring Partners</td>\n",
       "      <td>Philadelphia</td>\n",
       "    </tr>\n",
       "    <tr>\n",
       "      <th>33</th>\n",
       "      <td>Data Scientist/Analyst (R, Python,Google Cloud)</td>\n",
       "      <td>Philadelphia, PA</td>\n",
       "      <td>\\n                $90,000 - $100,000 a year</td>\n",
       "      <td>Workbridge Associates</td>\n",
       "      <td>Philadelphia</td>\n",
       "    </tr>\n",
       "  </tbody>\n",
       "</table>\n",
       "</div>"
      ],
      "text/plain": [
       "                                           Jobtitle          Location  \\\n",
       "1                  Graduate Environmental Scientist  Philadelphia, PA   \n",
       "9                Environmental Scientist Specialist  Philadelphia, PA   \n",
       "20                        Data Scientist/ Python, R   Bala-Cynwyd, PA   \n",
       "30                                   Data Scientist  Philadelphia, PA   \n",
       "33  Data Scientist/Analyst (R, Python,Google Cloud)  Philadelphia, PA   \n",
       "\n",
       "                                          Salary                Company  \\\n",
       "1               \\n                $47,783 a year   City of Philadelphia   \n",
       "9     \\n                $56,589 - $72,742 a year   City of Philadelphia   \n",
       "20  \\n                $110,000 - $120,000 a year  Workbridge Associates   \n",
       "30   \\n                $90,000 - $130,000 a year     Jobspring Partners   \n",
       "33   \\n                $90,000 - $100,000 a year  Workbridge Associates   \n",
       "\n",
       "          Cities  \n",
       "1   Philadelphia  \n",
       "9   Philadelphia  \n",
       "20  Philadelphia  \n",
       "30  Philadelphia  \n",
       "33  Philadelphia  "
      ]
     },
     "execution_count": 39,
     "metadata": {},
     "output_type": "execute_result"
    }
   ],
   "source": [
    "df_clean_step3.head()"
   ]
  },
  {
   "cell_type": "markdown",
   "metadata": {
    "focus": false,
    "id": "7d4bc860-b214-4f75-9cd0-b234830b1ec2"
   },
   "source": [
    "#### Write a function that takes a salary string and converts it to a number, averaging a salary range if necessary."
   ]
  },
  {
   "cell_type": "code",
   "execution_count": 40,
   "metadata": {},
   "outputs": [],
   "source": [
    "import re"
   ]
  },
  {
   "cell_type": "code",
   "execution_count": 41,
   "metadata": {},
   "outputs": [],
   "source": [
    "def to_num(string):\n",
    "    return int(re.search(r'(\\d+\\,\\d+)', string).group(1).replace(',', ''))"
   ]
  },
  {
   "cell_type": "code",
   "execution_count": 42,
   "metadata": {},
   "outputs": [
    {
     "name": "stderr",
     "output_type": "stream",
     "text": [
      "/Users/klara/anaconda3/lib/python3.7/site-packages/ipykernel_launcher.py:1: SettingWithCopyWarning: \n",
      "A value is trying to be set on a copy of a slice from a DataFrame.\n",
      "Try using .loc[row_indexer,col_indexer] = value instead\n",
      "\n",
      "See the caveats in the documentation: http://pandas.pydata.org/pandas-docs/stable/indexing.html#indexing-view-versus-copy\n",
      "  \"\"\"Entry point for launching an IPython kernel.\n"
     ]
    }
   ],
   "source": [
    "df_clean_step3['Salary'] = df_clean_step3['Salary'].apply(to_num)"
   ]
  },
  {
   "cell_type": "code",
   "execution_count": 43,
   "metadata": {},
   "outputs": [
    {
     "data": {
      "text/html": [
       "<div>\n",
       "<style scoped>\n",
       "    .dataframe tbody tr th:only-of-type {\n",
       "        vertical-align: middle;\n",
       "    }\n",
       "\n",
       "    .dataframe tbody tr th {\n",
       "        vertical-align: top;\n",
       "    }\n",
       "\n",
       "    .dataframe thead th {\n",
       "        text-align: right;\n",
       "    }\n",
       "</style>\n",
       "<table border=\"1\" class=\"dataframe\">\n",
       "  <thead>\n",
       "    <tr style=\"text-align: right;\">\n",
       "      <th></th>\n",
       "      <th>Jobtitle</th>\n",
       "      <th>Location</th>\n",
       "      <th>Salary</th>\n",
       "      <th>Company</th>\n",
       "      <th>Cities</th>\n",
       "    </tr>\n",
       "  </thead>\n",
       "  <tbody>\n",
       "    <tr>\n",
       "      <th>1</th>\n",
       "      <td>Graduate Environmental Scientist</td>\n",
       "      <td>Philadelphia, PA</td>\n",
       "      <td>47783</td>\n",
       "      <td>City of Philadelphia</td>\n",
       "      <td>Philadelphia</td>\n",
       "    </tr>\n",
       "    <tr>\n",
       "      <th>9</th>\n",
       "      <td>Environmental Scientist Specialist</td>\n",
       "      <td>Philadelphia, PA</td>\n",
       "      <td>56589</td>\n",
       "      <td>City of Philadelphia</td>\n",
       "      <td>Philadelphia</td>\n",
       "    </tr>\n",
       "    <tr>\n",
       "      <th>20</th>\n",
       "      <td>Data Scientist/ Python, R</td>\n",
       "      <td>Bala-Cynwyd, PA</td>\n",
       "      <td>110000</td>\n",
       "      <td>Workbridge Associates</td>\n",
       "      <td>Philadelphia</td>\n",
       "    </tr>\n",
       "  </tbody>\n",
       "</table>\n",
       "</div>"
      ],
      "text/plain": [
       "                              Jobtitle          Location  Salary  \\\n",
       "1     Graduate Environmental Scientist  Philadelphia, PA   47783   \n",
       "9   Environmental Scientist Specialist  Philadelphia, PA   56589   \n",
       "20           Data Scientist/ Python, R   Bala-Cynwyd, PA  110000   \n",
       "\n",
       "                  Company        Cities  \n",
       "1    City of Philadelphia  Philadelphia  \n",
       "9    City of Philadelphia  Philadelphia  \n",
       "20  Workbridge Associates  Philadelphia  "
      ]
     },
     "execution_count": 43,
     "metadata": {},
     "output_type": "execute_result"
    }
   ],
   "source": [
    "df_clean_step3.head(3)"
   ]
  },
  {
   "cell_type": "markdown",
   "metadata": {},
   "source": [
    "Converting salaries in London(pound) to salaries in the USA(dollar)"
   ]
  },
  {
   "cell_type": "code",
   "execution_count": 44,
   "metadata": {},
   "outputs": [
    {
     "name": "stderr",
     "output_type": "stream",
     "text": [
      "/Users/klara/anaconda3/lib/python3.7/site-packages/ipykernel_launcher.py:8: SettingWithCopyWarning: \n",
      "A value is trying to be set on a copy of a slice from a DataFrame.\n",
      "Try using .loc[row_indexer,col_indexer] = value instead\n",
      "\n",
      "See the caveats in the documentation: http://pandas.pydata.org/pandas-docs/stable/indexing.html#indexing-view-versus-copy\n",
      "  \n"
     ]
    },
    {
     "data": {
      "text/html": [
       "<div>\n",
       "<style scoped>\n",
       "    .dataframe tbody tr th:only-of-type {\n",
       "        vertical-align: middle;\n",
       "    }\n",
       "\n",
       "    .dataframe tbody tr th {\n",
       "        vertical-align: top;\n",
       "    }\n",
       "\n",
       "    .dataframe thead th {\n",
       "        text-align: right;\n",
       "    }\n",
       "</style>\n",
       "<table border=\"1\" class=\"dataframe\">\n",
       "  <thead>\n",
       "    <tr style=\"text-align: right;\">\n",
       "      <th></th>\n",
       "      <th>Jobtitle</th>\n",
       "      <th>Location</th>\n",
       "      <th>Salary</th>\n",
       "      <th>Company</th>\n",
       "      <th>Cities</th>\n",
       "      <th>USDSalary</th>\n",
       "    </tr>\n",
       "  </thead>\n",
       "  <tbody>\n",
       "    <tr>\n",
       "      <th>56897</th>\n",
       "      <td>Data Scientist</td>\n",
       "      <td>London WC1B</td>\n",
       "      <td>35000</td>\n",
       "      <td>Invennt Ltd</td>\n",
       "      <td>London, Greater London</td>\n",
       "      <td>44800.0</td>\n",
       "    </tr>\n",
       "    <tr>\n",
       "      <th>56900</th>\n",
       "      <td>Data Scientist - Natural Language Processing E...</td>\n",
       "      <td>London EC2Y</td>\n",
       "      <td>40000</td>\n",
       "      <td>Karssen</td>\n",
       "      <td>London, Greater London</td>\n",
       "      <td>51200.0</td>\n",
       "    </tr>\n",
       "    <tr>\n",
       "      <th>56903</th>\n",
       "      <td>Data Scientist Graduate</td>\n",
       "      <td>Uxbridge</td>\n",
       "      <td>23000</td>\n",
       "      <td>Hertz Europe</td>\n",
       "      <td>London, Greater London</td>\n",
       "      <td>29440.0</td>\n",
       "    </tr>\n",
       "    <tr>\n",
       "      <th>56904</th>\n",
       "      <td>Data Scientist, 3-month fixed term contract</td>\n",
       "      <td>London</td>\n",
       "      <td>20000</td>\n",
       "      <td>Financial Conduct Authority</td>\n",
       "      <td>London, Greater London</td>\n",
       "      <td>25600.0</td>\n",
       "    </tr>\n",
       "    <tr>\n",
       "      <th>56905</th>\n",
       "      <td>Lead Data Scientist</td>\n",
       "      <td>London</td>\n",
       "      <td>24000</td>\n",
       "      <td>Marshmallow</td>\n",
       "      <td>London, Greater London</td>\n",
       "      <td>30720.0</td>\n",
       "    </tr>\n",
       "  </tbody>\n",
       "</table>\n",
       "</div>"
      ],
      "text/plain": [
       "                                                Jobtitle     Location  Salary  \\\n",
       "56897                                     Data Scientist  London WC1B   35000   \n",
       "56900  Data Scientist - Natural Language Processing E...  London EC2Y   40000   \n",
       "56903                            Data Scientist Graduate     Uxbridge   23000   \n",
       "56904        Data Scientist, 3-month fixed term contract       London   20000   \n",
       "56905                                Lead Data Scientist       London   24000   \n",
       "\n",
       "                           Company                  Cities  USDSalary  \n",
       "56897                  Invennt Ltd  London, Greater London    44800.0  \n",
       "56900                      Karssen  London, Greater London    51200.0  \n",
       "56903                 Hertz Europe  London, Greater London    29440.0  \n",
       "56904  Financial Conduct Authority  London, Greater London    25600.0  \n",
       "56905                  Marshmallow  London, Greater London    30720.0  "
      ]
     },
     "execution_count": 44,
     "metadata": {},
     "output_type": "execute_result"
    }
   ],
   "source": [
    "def toUSD(row):\n",
    "    if \"London\" in row['Cities']:\n",
    "        return row['Salary'] * 1.28\n",
    "    else:\n",
    "        return row['Salary']\n",
    "\n",
    "\n",
    "df_clean_step3['USDSalary'] = df_clean_step3.apply(toUSD, axis=1)\n",
    "df_clean_step3[df_clean_step3['Cities'].str.contains('London')].head()\n",
    "# df_clean_step3['Salary'].apply(np.mean, axis=0) \n"
   ]
  },
  {
   "cell_type": "code",
   "execution_count": null,
   "metadata": {},
   "outputs": [],
   "source": []
  },
  {
   "cell_type": "markdown",
   "metadata": {
    "focus": false,
    "id": "43e71edd-210e-42b1-9336-70a931f048af"
   },
   "source": [
    "### Save your results as a CSV"
   ]
  },
  {
   "cell_type": "code",
   "execution_count": 45,
   "metadata": {},
   "outputs": [],
   "source": [
    "#df_clean_step3.to_csv('results.csv')"
   ]
  },
  {
   "cell_type": "markdown",
   "metadata": {
    "focus": false,
    "id": "04563b69-f7b6-466f-9d65-fc62c9ddee6a"
   },
   "source": [
    "## QUESTION 2: Factors that distinguish job category\n",
    "\n",
    "Using the job postings you scraped for part 1 (or potentially new job postings from a second round of scraping), identify features in the data related to job postings that can distinguish job titles from each other. There are a variety of interesting ways you can frame the target variable, for example:\n",
    "- What components of a job posting distinguish data scientists from other data jobs?\n",
    "- What features are important for distinguishing junior vs. senior positions?\n",
    "- Do the requirements for titles vary significantly with industry (e.g. healthcare vs. government)?\n",
    "\n",
    "You may end up making multiple classification models to tackle different questions. Be sure to clearly explain your hypotheses and framing, any feature engineering, and what your target variables are. The type of classification model you choose is up to you. Be sure to interpret your results and evaluate your model's performance."
   ]
  },
  {
   "cell_type": "markdown",
   "metadata": {
    "focus": false,
    "id": "243e949e-2742-40af-872e-fec475fd306c"
   },
   "source": [
    "#### Load in the the data of scraped salaries"
   ]
  },
  {
   "cell_type": "code",
   "execution_count": 1,
   "metadata": {},
   "outputs": [],
   "source": [
    "import pandas as pd\n",
    "import numpy as np"
   ]
  },
  {
   "cell_type": "code",
   "execution_count": 2,
   "metadata": {},
   "outputs": [
    {
     "data": {
      "text/html": [
       "<div>\n",
       "<style scoped>\n",
       "    .dataframe tbody tr th:only-of-type {\n",
       "        vertical-align: middle;\n",
       "    }\n",
       "\n",
       "    .dataframe tbody tr th {\n",
       "        vertical-align: top;\n",
       "    }\n",
       "\n",
       "    .dataframe thead th {\n",
       "        text-align: right;\n",
       "    }\n",
       "</style>\n",
       "<table border=\"1\" class=\"dataframe\">\n",
       "  <thead>\n",
       "    <tr style=\"text-align: right;\">\n",
       "      <th></th>\n",
       "      <th>Unnamed: 0</th>\n",
       "      <th>Jobtitle</th>\n",
       "      <th>Location</th>\n",
       "      <th>Salary</th>\n",
       "      <th>Company</th>\n",
       "      <th>Cities</th>\n",
       "      <th>USDSalary</th>\n",
       "    </tr>\n",
       "  </thead>\n",
       "  <tbody>\n",
       "    <tr>\n",
       "      <th>0</th>\n",
       "      <td>1</td>\n",
       "      <td>Graduate Environmental Scientist</td>\n",
       "      <td>Philadelphia, PA</td>\n",
       "      <td>47783</td>\n",
       "      <td>City of Philadelphia</td>\n",
       "      <td>Philadelphia</td>\n",
       "      <td>47783.0</td>\n",
       "    </tr>\n",
       "    <tr>\n",
       "      <th>1</th>\n",
       "      <td>9</td>\n",
       "      <td>Environmental Scientist Specialist</td>\n",
       "      <td>Philadelphia, PA</td>\n",
       "      <td>56589</td>\n",
       "      <td>City of Philadelphia</td>\n",
       "      <td>Philadelphia</td>\n",
       "      <td>56589.0</td>\n",
       "    </tr>\n",
       "    <tr>\n",
       "      <th>2</th>\n",
       "      <td>20</td>\n",
       "      <td>Data Scientist/ Python, R</td>\n",
       "      <td>Bala-Cynwyd, PA</td>\n",
       "      <td>110000</td>\n",
       "      <td>Workbridge Associates</td>\n",
       "      <td>Philadelphia</td>\n",
       "      <td>110000.0</td>\n",
       "    </tr>\n",
       "    <tr>\n",
       "      <th>3</th>\n",
       "      <td>30</td>\n",
       "      <td>Data Scientist</td>\n",
       "      <td>Philadelphia, PA</td>\n",
       "      <td>90000</td>\n",
       "      <td>Jobspring Partners</td>\n",
       "      <td>Philadelphia</td>\n",
       "      <td>90000.0</td>\n",
       "    </tr>\n",
       "    <tr>\n",
       "      <th>4</th>\n",
       "      <td>33</td>\n",
       "      <td>Data Scientist/Analyst (R, Python,Google Cloud)</td>\n",
       "      <td>Philadelphia, PA</td>\n",
       "      <td>90000</td>\n",
       "      <td>Workbridge Associates</td>\n",
       "      <td>Philadelphia</td>\n",
       "      <td>90000.0</td>\n",
       "    </tr>\n",
       "  </tbody>\n",
       "</table>\n",
       "</div>"
      ],
      "text/plain": [
       "   Unnamed: 0                                         Jobtitle  \\\n",
       "0           1                 Graduate Environmental Scientist   \n",
       "1           9               Environmental Scientist Specialist   \n",
       "2          20                        Data Scientist/ Python, R   \n",
       "3          30                                   Data Scientist   \n",
       "4          33  Data Scientist/Analyst (R, Python,Google Cloud)   \n",
       "\n",
       "           Location  Salary                Company        Cities  USDSalary  \n",
       "0  Philadelphia, PA   47783   City of Philadelphia  Philadelphia    47783.0  \n",
       "1  Philadelphia, PA   56589   City of Philadelphia  Philadelphia    56589.0  \n",
       "2   Bala-Cynwyd, PA  110000  Workbridge Associates  Philadelphia   110000.0  \n",
       "3  Philadelphia, PA   90000     Jobspring Partners  Philadelphia    90000.0  \n",
       "4  Philadelphia, PA   90000  Workbridge Associates  Philadelphia    90000.0  "
      ]
     },
     "execution_count": 2,
     "metadata": {},
     "output_type": "execute_result"
    }
   ],
   "source": [
    "df_readin = pd.read_csv('./results.csv')\n",
    "df_readin.head()"
   ]
  },
  {
   "cell_type": "code",
   "execution_count": 3,
   "metadata": {},
   "outputs": [
    {
     "data": {
      "text/html": [
       "<div>\n",
       "<style scoped>\n",
       "    .dataframe tbody tr th:only-of-type {\n",
       "        vertical-align: middle;\n",
       "    }\n",
       "\n",
       "    .dataframe tbody tr th {\n",
       "        vertical-align: top;\n",
       "    }\n",
       "\n",
       "    .dataframe thead th {\n",
       "        text-align: right;\n",
       "    }\n",
       "</style>\n",
       "<table border=\"1\" class=\"dataframe\">\n",
       "  <thead>\n",
       "    <tr style=\"text-align: right;\">\n",
       "      <th></th>\n",
       "      <th>Jobtitle</th>\n",
       "      <th>Location</th>\n",
       "      <th>Salary</th>\n",
       "      <th>Company</th>\n",
       "      <th>Cities</th>\n",
       "      <th>USDSalary</th>\n",
       "    </tr>\n",
       "  </thead>\n",
       "  <tbody>\n",
       "    <tr>\n",
       "      <th>0</th>\n",
       "      <td>Graduate Environmental Scientist</td>\n",
       "      <td>Philadelphia, PA</td>\n",
       "      <td>47783</td>\n",
       "      <td>City of Philadelphia</td>\n",
       "      <td>Philadelphia</td>\n",
       "      <td>47783.0</td>\n",
       "    </tr>\n",
       "    <tr>\n",
       "      <th>1</th>\n",
       "      <td>Environmental Scientist Specialist</td>\n",
       "      <td>Philadelphia, PA</td>\n",
       "      <td>56589</td>\n",
       "      <td>City of Philadelphia</td>\n",
       "      <td>Philadelphia</td>\n",
       "      <td>56589.0</td>\n",
       "    </tr>\n",
       "    <tr>\n",
       "      <th>2</th>\n",
       "      <td>Data Scientist/ Python, R</td>\n",
       "      <td>Bala-Cynwyd, PA</td>\n",
       "      <td>110000</td>\n",
       "      <td>Workbridge Associates</td>\n",
       "      <td>Philadelphia</td>\n",
       "      <td>110000.0</td>\n",
       "    </tr>\n",
       "    <tr>\n",
       "      <th>3</th>\n",
       "      <td>Data Scientist</td>\n",
       "      <td>Philadelphia, PA</td>\n",
       "      <td>90000</td>\n",
       "      <td>Jobspring Partners</td>\n",
       "      <td>Philadelphia</td>\n",
       "      <td>90000.0</td>\n",
       "    </tr>\n",
       "    <tr>\n",
       "      <th>4</th>\n",
       "      <td>Data Scientist/Analyst (R, Python,Google Cloud)</td>\n",
       "      <td>Philadelphia, PA</td>\n",
       "      <td>90000</td>\n",
       "      <td>Workbridge Associates</td>\n",
       "      <td>Philadelphia</td>\n",
       "      <td>90000.0</td>\n",
       "    </tr>\n",
       "  </tbody>\n",
       "</table>\n",
       "</div>"
      ],
      "text/plain": [
       "                                          Jobtitle          Location  Salary  \\\n",
       "0                 Graduate Environmental Scientist  Philadelphia, PA   47783   \n",
       "1               Environmental Scientist Specialist  Philadelphia, PA   56589   \n",
       "2                        Data Scientist/ Python, R   Bala-Cynwyd, PA  110000   \n",
       "3                                   Data Scientist  Philadelphia, PA   90000   \n",
       "4  Data Scientist/Analyst (R, Python,Google Cloud)  Philadelphia, PA   90000   \n",
       "\n",
       "                 Company        Cities  USDSalary  \n",
       "0   City of Philadelphia  Philadelphia    47783.0  \n",
       "1   City of Philadelphia  Philadelphia    56589.0  \n",
       "2  Workbridge Associates  Philadelphia   110000.0  \n",
       "3     Jobspring Partners  Philadelphia    90000.0  \n",
       "4  Workbridge Associates  Philadelphia    90000.0  "
      ]
     },
     "execution_count": 3,
     "metadata": {},
     "output_type": "execute_result"
    }
   ],
   "source": [
    "df = df_readin.drop('Unnamed: 0', axis=1)\n",
    "df.head()"
   ]
  },
  {
   "cell_type": "markdown",
   "metadata": {
    "focus": false,
    "id": "c7631f51-07f2-4c79-a093-3e9bc7849a48"
   },
   "source": [
    "#### We want to predict a binary variable - whether the salary was low or high. Compute the median salary and create a new binary variable that is true when the salary is high (above the median).\n",
    "\n",
    "We could also perform Linear Regression (or any regression) to predict the salary value here. Instead, we are going to convert this into a _binary_ classification problem, by predicting two classes, HIGH vs LOW salary.\n",
    "\n",
    "While performing regression may be better, performing classification may help remove some of the noise of the extreme salaries. We don't have to choose the `median` as the splitting point - we could also split on the 75th percentile or any other reasonable breaking point.\n",
    "\n",
    "In fact, the ideal scenario may be to predict many levels of salaries."
   ]
  },
  {
   "cell_type": "code",
   "execution_count": 4,
   "metadata": {},
   "outputs": [
    {
     "data": {
      "text/plain": [
       "(905, 6)"
      ]
     },
     "execution_count": 4,
     "metadata": {},
     "output_type": "execute_result"
    }
   ],
   "source": [
    "df.shape"
   ]
  },
  {
   "cell_type": "code",
   "execution_count": 5,
   "metadata": {},
   "outputs": [
    {
     "data": {
      "text/plain": [
       "80000.0"
      ]
     },
     "execution_count": 5,
     "metadata": {},
     "output_type": "execute_result"
    }
   ],
   "source": [
    "df.USDSalary.median()"
   ]
  },
  {
   "cell_type": "code",
   "execution_count": 6,
   "metadata": {},
   "outputs": [],
   "source": [
    "low_salary = df[df['USDSalary'] < df.USDSalary.median()]\n",
    "high_salary = df[df['USDSalary'] > df.USDSalary.median()]"
   ]
  },
  {
   "cell_type": "code",
   "execution_count": 7,
   "metadata": {},
   "outputs": [
    {
     "data": {
      "text/html": [
       "<div>\n",
       "<style scoped>\n",
       "    .dataframe tbody tr th:only-of-type {\n",
       "        vertical-align: middle;\n",
       "    }\n",
       "\n",
       "    .dataframe tbody tr th {\n",
       "        vertical-align: top;\n",
       "    }\n",
       "\n",
       "    .dataframe thead th {\n",
       "        text-align: right;\n",
       "    }\n",
       "</style>\n",
       "<table border=\"1\" class=\"dataframe\">\n",
       "  <thead>\n",
       "    <tr style=\"text-align: right;\">\n",
       "      <th></th>\n",
       "      <th>Salary</th>\n",
       "      <th>USDSalary</th>\n",
       "    </tr>\n",
       "  </thead>\n",
       "  <tbody>\n",
       "    <tr>\n",
       "      <th>count</th>\n",
       "      <td>450.000000</td>\n",
       "      <td>450.000000</td>\n",
       "    </tr>\n",
       "    <tr>\n",
       "      <th>mean</th>\n",
       "      <td>50962.248889</td>\n",
       "      <td>56765.169867</td>\n",
       "    </tr>\n",
       "    <tr>\n",
       "      <th>std</th>\n",
       "      <td>15079.731919</td>\n",
       "      <td>14552.867443</td>\n",
       "    </tr>\n",
       "    <tr>\n",
       "      <th>min</th>\n",
       "      <td>10000.000000</td>\n",
       "      <td>12800.000000</td>\n",
       "    </tr>\n",
       "    <tr>\n",
       "      <th>25%</th>\n",
       "      <td>40000.000000</td>\n",
       "      <td>45223.680000</td>\n",
       "    </tr>\n",
       "    <tr>\n",
       "      <th>50%</th>\n",
       "      <td>50000.000000</td>\n",
       "      <td>57600.000000</td>\n",
       "    </tr>\n",
       "    <tr>\n",
       "      <th>75%</th>\n",
       "      <td>60000.000000</td>\n",
       "      <td>70286.000000</td>\n",
       "    </tr>\n",
       "    <tr>\n",
       "      <th>max</th>\n",
       "      <td>79000.000000</td>\n",
       "      <td>79000.000000</td>\n",
       "    </tr>\n",
       "  </tbody>\n",
       "</table>\n",
       "</div>"
      ],
      "text/plain": [
       "             Salary     USDSalary\n",
       "count    450.000000    450.000000\n",
       "mean   50962.248889  56765.169867\n",
       "std    15079.731919  14552.867443\n",
       "min    10000.000000  12800.000000\n",
       "25%    40000.000000  45223.680000\n",
       "50%    50000.000000  57600.000000\n",
       "75%    60000.000000  70286.000000\n",
       "max    79000.000000  79000.000000"
      ]
     },
     "execution_count": 7,
     "metadata": {},
     "output_type": "execute_result"
    }
   ],
   "source": [
    "low_salary.describe()"
   ]
  },
  {
   "cell_type": "code",
   "execution_count": 8,
   "metadata": {},
   "outputs": [
    {
     "data": {
      "text/html": [
       "<div>\n",
       "<style scoped>\n",
       "    .dataframe tbody tr th:only-of-type {\n",
       "        vertical-align: middle;\n",
       "    }\n",
       "\n",
       "    .dataframe tbody tr th {\n",
       "        vertical-align: top;\n",
       "    }\n",
       "\n",
       "    .dataframe thead th {\n",
       "        text-align: right;\n",
       "    }\n",
       "</style>\n",
       "<table border=\"1\" class=\"dataframe\">\n",
       "  <thead>\n",
       "    <tr style=\"text-align: right;\">\n",
       "      <th></th>\n",
       "      <th>Salary</th>\n",
       "      <th>USDSalary</th>\n",
       "    </tr>\n",
       "  </thead>\n",
       "  <tbody>\n",
       "    <tr>\n",
       "      <th>count</th>\n",
       "      <td>441.000000</td>\n",
       "      <td>441.000000</td>\n",
       "    </tr>\n",
       "    <tr>\n",
       "      <th>mean</th>\n",
       "      <td>105598.895692</td>\n",
       "      <td>110033.577596</td>\n",
       "    </tr>\n",
       "    <tr>\n",
       "      <th>std</th>\n",
       "      <td>28088.154352</td>\n",
       "      <td>25228.026477</td>\n",
       "    </tr>\n",
       "    <tr>\n",
       "      <th>min</th>\n",
       "      <td>65000.000000</td>\n",
       "      <td>80500.000000</td>\n",
       "    </tr>\n",
       "    <tr>\n",
       "      <th>25%</th>\n",
       "      <td>88000.000000</td>\n",
       "      <td>92000.000000</td>\n",
       "    </tr>\n",
       "    <tr>\n",
       "      <th>50%</th>\n",
       "      <td>100000.000000</td>\n",
       "      <td>102400.000000</td>\n",
       "    </tr>\n",
       "    <tr>\n",
       "      <th>75%</th>\n",
       "      <td>118000.000000</td>\n",
       "      <td>120000.000000</td>\n",
       "    </tr>\n",
       "    <tr>\n",
       "      <th>max</th>\n",
       "      <td>200000.000000</td>\n",
       "      <td>200000.000000</td>\n",
       "    </tr>\n",
       "  </tbody>\n",
       "</table>\n",
       "</div>"
      ],
      "text/plain": [
       "              Salary      USDSalary\n",
       "count     441.000000     441.000000\n",
       "mean   105598.895692  110033.577596\n",
       "std     28088.154352   25228.026477\n",
       "min     65000.000000   80500.000000\n",
       "25%     88000.000000   92000.000000\n",
       "50%    100000.000000  102400.000000\n",
       "75%    118000.000000  120000.000000\n",
       "max    200000.000000  200000.000000"
      ]
     },
     "execution_count": 8,
     "metadata": {},
     "output_type": "execute_result"
    }
   ],
   "source": [
    "high_salary.describe()"
   ]
  },
  {
   "cell_type": "code",
   "execution_count": 9,
   "metadata": {},
   "outputs": [],
   "source": [
    "y = df.USDSalary.map(lambda x: 1 if x < df.USDSalary.median() else 0)"
   ]
  },
  {
   "cell_type": "markdown",
   "metadata": {
    "focus": false,
    "id": "a7afb2c0-d41e-4779-8216-91cd8dd4473f"
   },
   "source": [
    "#### Thought experiment: What is the baseline accuracy for this model?"
   ]
  },
  {
   "cell_type": "markdown",
   "metadata": {},
   "source": [
    "baseline_accuracy = majority_class_N / total_N"
   ]
  },
  {
   "cell_type": "code",
   "execution_count": 10,
   "metadata": {
    "focus": false,
    "id": "87a17d3d-b7f4-4747-9f75-f9af1d18a174"
   },
   "outputs": [
    {
     "data": {
      "text/plain": [
       "0    0.502762\n",
       "1    0.497238\n",
       "Name: USDSalary, dtype: float64"
      ]
     },
     "execution_count": 10,
     "metadata": {},
     "output_type": "execute_result"
    }
   ],
   "source": [
    "y.value_counts(normalize=True)"
   ]
  },
  {
   "cell_type": "code",
   "execution_count": 11,
   "metadata": {},
   "outputs": [
    {
     "name": "stdout",
     "output_type": "stream",
     "text": [
      "baseline: 0.5027624309392266\n"
     ]
    }
   ],
   "source": [
    "print('baseline:', y.value_counts(normalize=True).max())"
   ]
  },
  {
   "cell_type": "markdown",
   "metadata": {
    "focus": false,
    "id": "4fb29de2-5b98-474c-a4ad-5170b72b9aea"
   },
   "source": [
    "### Create a classification model to predict High/Low salary. \n",
    "\n",
    "\n",
    "#### Model based on location:\n",
    "\n",
    "- Start by ONLY using the location as a feature. \n",
    "- Use logistic regression with both statsmodels and sklearn.\n",
    "- Use a further classifier you find suitable.\n",
    "- Remember that scaling your features might be necessary.\n",
    "- Display the coefficients/feature importances and write a short summary of what they mean.\n",
    "\n",
    "#### Model taking into account job levels and categories:\n",
    "\n",
    "- Create a few new variables in your dataframe to represent interesting features of a job title.\n",
    "- For example, create a feature that represents whether 'Senior' is in the title or whether 'Manager' is in the title. \n",
    "- Incorporate other text features from the title or summary that you believe will predict the salary.\n",
    "- Then build new classification models including also those features. Do they add any value? \n",
    "- Tune your models by testing parameter ranges, regularization strengths, etc. Discuss how that affects your models. \n",
    "- Discuss model coefficients or feature importances as applicable.\n",
    "\n",
    "#### Model evaluation:\n",
    "\n",
    "Your boss would rather tell a client incorrectly that they would get a lower salary job than tell a client incorrectly that they would get a high salary job. Adjust one of your models to ease his mind, and explain what it is doing and any tradeoffs. \n",
    "\n",
    "\n",
    "- Use cross-validation to evaluate your models. \n",
    "- Evaluate the accuracy, AUC, precision and recall of the models. \n",
    "- Plot the ROC and precision-recall curves for at least one of your models."
   ]
  },
  {
   "cell_type": "markdown",
   "metadata": {},
   "source": [
    "Model based on location"
   ]
  },
  {
   "cell_type": "code",
   "execution_count": 12,
   "metadata": {},
   "outputs": [],
   "source": [
    "#Use logistic regression with both statsmodels and sklearn."
   ]
  },
  {
   "cell_type": "code",
   "execution_count": 13,
   "metadata": {},
   "outputs": [],
   "source": [
    "import matplotlib.pyplot as plt\n",
    "import seaborn as sns\n",
    "from sklearn.linear_model import LogisticRegression, LogisticRegressionCV\n",
    "from sklearn.neighbors import KNeighborsClassifier\n",
    "from sklearn.model_selection import train_test_split, cross_val_score, GridSearchCV\n",
    "import statsmodels.formula.api as smf"
   ]
  },
  {
   "cell_type": "code",
   "execution_count": 14,
   "metadata": {},
   "outputs": [
    {
     "data": {
      "text/html": [
       "<div>\n",
       "<style scoped>\n",
       "    .dataframe tbody tr th:only-of-type {\n",
       "        vertical-align: middle;\n",
       "    }\n",
       "\n",
       "    .dataframe tbody tr th {\n",
       "        vertical-align: top;\n",
       "    }\n",
       "\n",
       "    .dataframe thead th {\n",
       "        text-align: right;\n",
       "    }\n",
       "</style>\n",
       "<table border=\"1\" class=\"dataframe\">\n",
       "  <thead>\n",
       "    <tr style=\"text-align: right;\">\n",
       "      <th></th>\n",
       "      <th>Atlanta</th>\n",
       "      <th>Austin</th>\n",
       "      <th>Boston</th>\n",
       "      <th>Chicago</th>\n",
       "      <th>Dallas</th>\n",
       "      <th>Denver</th>\n",
       "      <th>Houston</th>\n",
       "      <th>London, Greater London</th>\n",
       "      <th>Los+Angeles</th>\n",
       "      <th>Miami</th>\n",
       "      <th>New+York</th>\n",
       "      <th>Philadelphia</th>\n",
       "      <th>Phoenix</th>\n",
       "      <th>Pittsburgh</th>\n",
       "      <th>Portland</th>\n",
       "      <th>San Jose, CA</th>\n",
       "      <th>San+Francisco</th>\n",
       "      <th>Seattle</th>\n",
       "      <th>Washington</th>\n",
       "      <th>Washington, DC</th>\n",
       "    </tr>\n",
       "  </thead>\n",
       "  <tbody>\n",
       "    <tr>\n",
       "      <th>0</th>\n",
       "      <td>0</td>\n",
       "      <td>0</td>\n",
       "      <td>0</td>\n",
       "      <td>0</td>\n",
       "      <td>0</td>\n",
       "      <td>0</td>\n",
       "      <td>0</td>\n",
       "      <td>0</td>\n",
       "      <td>0</td>\n",
       "      <td>0</td>\n",
       "      <td>0</td>\n",
       "      <td>1</td>\n",
       "      <td>0</td>\n",
       "      <td>0</td>\n",
       "      <td>0</td>\n",
       "      <td>0</td>\n",
       "      <td>0</td>\n",
       "      <td>0</td>\n",
       "      <td>0</td>\n",
       "      <td>0</td>\n",
       "    </tr>\n",
       "    <tr>\n",
       "      <th>1</th>\n",
       "      <td>0</td>\n",
       "      <td>0</td>\n",
       "      <td>0</td>\n",
       "      <td>0</td>\n",
       "      <td>0</td>\n",
       "      <td>0</td>\n",
       "      <td>0</td>\n",
       "      <td>0</td>\n",
       "      <td>0</td>\n",
       "      <td>0</td>\n",
       "      <td>0</td>\n",
       "      <td>1</td>\n",
       "      <td>0</td>\n",
       "      <td>0</td>\n",
       "      <td>0</td>\n",
       "      <td>0</td>\n",
       "      <td>0</td>\n",
       "      <td>0</td>\n",
       "      <td>0</td>\n",
       "      <td>0</td>\n",
       "    </tr>\n",
       "  </tbody>\n",
       "</table>\n",
       "</div>"
      ],
      "text/plain": [
       "   Atlanta  Austin  Boston  Chicago  Dallas  Denver  Houston  \\\n",
       "0        0       0       0        0       0       0        0   \n",
       "1        0       0       0        0       0       0        0   \n",
       "\n",
       "   London, Greater London  Los+Angeles  Miami  New+York  Philadelphia  \\\n",
       "0                       0            0      0         0             1   \n",
       "1                       0            0      0         0             1   \n",
       "\n",
       "   Phoenix  Pittsburgh  Portland  San Jose, CA  San+Francisco  Seattle  \\\n",
       "0        0           0         0             0              0        0   \n",
       "1        0           0         0             0              0        0   \n",
       "\n",
       "   Washington  Washington, DC  \n",
       "0           0               0  \n",
       "1           0               0  "
      ]
     },
     "execution_count": 14,
     "metadata": {},
     "output_type": "execute_result"
    }
   ],
   "source": [
    "#Transforming the classifier to dummy variable.\n",
    "cities_dum = pd.get_dummies(df.Cities)\n",
    "cities_dum.head(2)"
   ]
  },
  {
   "cell_type": "code",
   "execution_count": 15,
   "metadata": {},
   "outputs": [],
   "source": [
    "X = cities_dum"
   ]
  },
  {
   "cell_type": "code",
   "execution_count": 16,
   "metadata": {},
   "outputs": [
    {
     "data": {
      "text/plain": [
       "0    1\n",
       "1    1\n",
       "2    0\n",
       "3    0\n",
       "4    0\n",
       "Name: USDSalary, dtype: int64"
      ]
     },
     "execution_count": 16,
     "metadata": {},
     "output_type": "execute_result"
    }
   ],
   "source": [
    "y.head()"
   ]
  },
  {
   "cell_type": "code",
   "execution_count": 17,
   "metadata": {},
   "outputs": [],
   "source": [
    "from sklearn.model_selection import cross_val_score, cross_val_predict, KFold, StratifiedKFold\n",
    "from sklearn.metrics import classification_report, confusion_matrix\n",
    "from sklearn.model_selection import train_test_split"
   ]
  },
  {
   "cell_type": "code",
   "execution_count": 18,
   "metadata": {},
   "outputs": [
    {
     "name": "stdout",
     "output_type": "stream",
     "text": [
      "[0.50549451 0.04395604 0.12087912 0.45054945 0.15384615 0.47777778\n",
      " 0.64444444 0.63333333 0.5        0.5       ]\n",
      "0.403028083028083\n"
     ]
    }
   ],
   "source": [
    "logreg = LogisticRegression()\n",
    "scores = cross_val_score(logreg, X, y, cv=10)\n",
    "print(scores)\n",
    "print(np.mean(scores))"
   ]
  },
  {
   "cell_type": "code",
   "execution_count": 19,
   "metadata": {},
   "outputs": [
    {
     "data": {
      "text/plain": [
       "LogisticRegression(C=1.0, class_weight=None, dual=False, fit_intercept=True,\n",
       "          intercept_scaling=1, max_iter=100, multi_class='ovr', n_jobs=1,\n",
       "          penalty='l2', random_state=None, solver='liblinear', tol=0.0001,\n",
       "          verbose=0, warm_start=False)"
      ]
     },
     "execution_count": 19,
     "metadata": {},
     "output_type": "execute_result"
    }
   ],
   "source": [
    "X_train, X_test, y_train, y_test = train_test_split(X, y, test_size=0.2, random_state=1)\n",
    "logreg.fit(X_train, y_train)"
   ]
  },
  {
   "cell_type": "code",
   "execution_count": 20,
   "metadata": {},
   "outputs": [],
   "source": [
    "from sklearn.preprocessing import StandardScaler\n",
    "#scaler = StandardScaler()\n",
    "\n",
    "#Xt_train = scaler.fit_transform(X_train)\n",
    "#Xt_test = scaler.transform(X_test)"
   ]
  },
  {
   "cell_type": "code",
   "execution_count": 21,
   "metadata": {},
   "outputs": [],
   "source": [
    "#logreg = LogisticRegression()\n",
    "#logreg.fit(X, y)"
   ]
  },
  {
   "cell_type": "code",
   "execution_count": 22,
   "metadata": {},
   "outputs": [
    {
     "name": "stdout",
     "output_type": "stream",
     "text": [
      "LogisticRegression(C=1.0, class_weight=None, dual=False, fit_intercept=True,\n",
      "          intercept_scaling=1, max_iter=100, multi_class='ovr', n_jobs=1,\n",
      "          penalty='l2', random_state=None, solver='liblinear', tol=0.0001,\n",
      "          verbose=0, warm_start=False)\n",
      "[1 0 1 0 1 1 1 1 1 0 1 0 1 0 0 1 1 0 1 1 1 0 0 1 1 0 1 1 1 1 0 1 1 0 0 1 1\n",
      " 0 1 0 1 0 0 0 1 0 1 0 1 0 1 0 1 1 1 1 0 1 1 0 1 1 0 1 0 1 0 0 0 0 1 0 0 0\n",
      " 0 0 0 1 1 0 0 0 1 0 0 0 0 1 0 1 1 1 0 1 0 0 1 0 0 0 0 0 1 0 1 0 1 1 1 1 1\n",
      " 0 0 1 0 1 1 0 0 0 1 1 1 0 1 1 1 0 0 1 0 0 0 0 0 0 1 1 0 0 0 1 0 1 1 0 1 0\n",
      " 1 1 0 1 1 0 0 1 1 1 1 0 1 1 1 1 0 1 0 0 0 0 1 0 0 1 0 0 0 1 1 0 1]\n"
     ]
    }
   ],
   "source": [
    "print(logreg.fit(X_train, y_train))\n",
    "print(logreg.predict(X_test))\n",
    "#print(logreg.predict_proba(X_test))"
   ]
  },
  {
   "cell_type": "code",
   "execution_count": 23,
   "metadata": {},
   "outputs": [
    {
     "data": {
      "text/plain": [
       "0.7005524861878453"
      ]
     },
     "execution_count": 23,
     "metadata": {},
     "output_type": "execute_result"
    }
   ],
   "source": [
    "# model score \n",
    "logreg.score(X,y)"
   ]
  },
  {
   "cell_type": "code",
   "execution_count": 24,
   "metadata": {},
   "outputs": [
    {
     "data": {
      "text/plain": [
       "0.6947513812154696"
      ]
     },
     "execution_count": 24,
     "metadata": {},
     "output_type": "execute_result"
    }
   ],
   "source": [
    "logreg.score(X_train,y_train)"
   ]
  },
  {
   "cell_type": "code",
   "execution_count": 25,
   "metadata": {},
   "outputs": [
    {
     "data": {
      "text/plain": [
       "0.7237569060773481"
      ]
     },
     "execution_count": 25,
     "metadata": {},
     "output_type": "execute_result"
    }
   ],
   "source": [
    "# model score after cross_validation\n",
    "logreg.score(X_test,y_test)"
   ]
  },
  {
   "cell_type": "code",
   "execution_count": 26,
   "metadata": {},
   "outputs": [],
   "source": [
    "model = LogisticRegressionCV()"
   ]
  },
  {
   "cell_type": "code",
   "execution_count": 27,
   "metadata": {},
   "outputs": [
    {
     "name": "stdout",
     "output_type": "stream",
     "text": [
      "Best Parameters:\n",
      "{'Cs': array([1.00000000e-04, 7.74263683e-04, 5.99484250e-03, 4.64158883e-02,\n",
      "       3.59381366e-01, 2.78255940e+00, 2.15443469e+01, 1.66810054e+02,\n",
      "       1.29154967e+03, 1.00000000e+04]), 'fit_intercept': False, 'penalty': 'l1', 'solver': 'liblinear'}\n",
      "Best estimator C:\n",
      "[0.35938137]\n",
      "Best estimator mean cross validated training score:\n",
      "0.6795580110497238\n",
      "Best estimator score on the full training set:\n",
      "0.6850828729281768\n",
      "Best estimator score on the test set:\n",
      "0.7071823204419889\n"
     ]
    }
   ],
   "source": [
    "# setup the grid search\n",
    "params = {'penalty':['l1','l2'],\n",
    "          'Cs': [np.logspace(-4,4,10)],\n",
    "          'fit_intercept':[True,False],\n",
    "          'solver':['liblinear']}\n",
    "\n",
    "gs = GridSearchCV(estimator=model,\n",
    "                  param_grid=params,\n",
    "                  cv=5,\n",
    "                  scoring='accuracy',\n",
    "                  return_train_score=True)\n",
    "\n",
    "gs.fit(X_train,y_train)\n",
    "\n",
    "# extract the grid search results\n",
    "\n",
    "print('Best Parameters:')\n",
    "print(gs.best_params_)\n",
    "print('Best estimator C:')\n",
    "print(gs.best_estimator_.C_)\n",
    "print('Best estimator mean cross validated training score:')\n",
    "print(gs.best_score_)\n",
    "print('Best estimator score on the full training set:')\n",
    "print(gs.score(X_train,y_train))\n",
    "print('Best estimator score on the test set:')\n",
    "print(gs.score(X_test,y_test))\n",
    "#print('Best estimator coefficients:')\n",
    "#print(gs.best_estimator_.coef_)"
   ]
  },
  {
   "cell_type": "code",
   "execution_count": 28,
   "metadata": {},
   "outputs": [],
   "source": [
    "#Use a further classifier you find suitable."
   ]
  },
  {
   "cell_type": "code",
   "execution_count": 29,
   "metadata": {},
   "outputs": [
    {
     "data": {
      "text/html": [
       "<div>\n",
       "<style scoped>\n",
       "    .dataframe tbody tr th:only-of-type {\n",
       "        vertical-align: middle;\n",
       "    }\n",
       "\n",
       "    .dataframe tbody tr th {\n",
       "        vertical-align: top;\n",
       "    }\n",
       "\n",
       "    .dataframe thead th {\n",
       "        text-align: right;\n",
       "    }\n",
       "</style>\n",
       "<table border=\"1\" class=\"dataframe\">\n",
       "  <thead>\n",
       "    <tr style=\"text-align: right;\">\n",
       "      <th></th>\n",
       "      <th>Jobtitle_018 Data / ETL Engineer II</th>\n",
       "      <th>Jobtitle_3 x Research Fellow (Machine Learning)</th>\n",
       "      <th>Jobtitle_919-AP-10564446-EXT - Epidemiologist</th>\n",
       "      <th>Jobtitle_919-AP-1333932-EXT - Senior HIV/STI Surveillance and Prevent...</th>\n",
       "      <th>Jobtitle_ABS/CLO Research Analyst</th>\n",
       "      <th>Jobtitle_AI Data Scientist</th>\n",
       "      <th>Jobtitle_AI Labs - 30 x Data Scientist / Machine Learning Engineer (a...</th>\n",
       "      <th>Jobtitle_AWS DevOps Engineer</th>\n",
       "      <th>Jobtitle_Account Manager</th>\n",
       "      <th>Jobtitle_Accountant</th>\n",
       "      <th>...</th>\n",
       "      <th>Cities_New+York</th>\n",
       "      <th>Cities_Philadelphia</th>\n",
       "      <th>Cities_Phoenix</th>\n",
       "      <th>Cities_Pittsburgh</th>\n",
       "      <th>Cities_Portland</th>\n",
       "      <th>Cities_San Jose, CA</th>\n",
       "      <th>Cities_San+Francisco</th>\n",
       "      <th>Cities_Seattle</th>\n",
       "      <th>Cities_Washington</th>\n",
       "      <th>Cities_Washington, DC</th>\n",
       "    </tr>\n",
       "  </thead>\n",
       "  <tbody>\n",
       "    <tr>\n",
       "      <th>0</th>\n",
       "      <td>0</td>\n",
       "      <td>0</td>\n",
       "      <td>0</td>\n",
       "      <td>0</td>\n",
       "      <td>0</td>\n",
       "      <td>0</td>\n",
       "      <td>0</td>\n",
       "      <td>0</td>\n",
       "      <td>0</td>\n",
       "      <td>0</td>\n",
       "      <td>...</td>\n",
       "      <td>0</td>\n",
       "      <td>1</td>\n",
       "      <td>0</td>\n",
       "      <td>0</td>\n",
       "      <td>0</td>\n",
       "      <td>0</td>\n",
       "      <td>0</td>\n",
       "      <td>0</td>\n",
       "      <td>0</td>\n",
       "      <td>0</td>\n",
       "    </tr>\n",
       "    <tr>\n",
       "      <th>1</th>\n",
       "      <td>0</td>\n",
       "      <td>0</td>\n",
       "      <td>0</td>\n",
       "      <td>0</td>\n",
       "      <td>0</td>\n",
       "      <td>0</td>\n",
       "      <td>0</td>\n",
       "      <td>0</td>\n",
       "      <td>0</td>\n",
       "      <td>0</td>\n",
       "      <td>...</td>\n",
       "      <td>0</td>\n",
       "      <td>1</td>\n",
       "      <td>0</td>\n",
       "      <td>0</td>\n",
       "      <td>0</td>\n",
       "      <td>0</td>\n",
       "      <td>0</td>\n",
       "      <td>0</td>\n",
       "      <td>0</td>\n",
       "      <td>0</td>\n",
       "    </tr>\n",
       "  </tbody>\n",
       "</table>\n",
       "<p>2 rows × 754 columns</p>\n",
       "</div>"
      ],
      "text/plain": [
       "   Jobtitle_018 Data / ETL Engineer II  \\\n",
       "0                                    0   \n",
       "1                                    0   \n",
       "\n",
       "   Jobtitle_3 x Research Fellow (Machine Learning)  \\\n",
       "0                                                0   \n",
       "1                                                0   \n",
       "\n",
       "   Jobtitle_919-AP-10564446-EXT - Epidemiologist  \\\n",
       "0                                              0   \n",
       "1                                              0   \n",
       "\n",
       "   Jobtitle_919-AP-1333932-EXT - Senior HIV/STI Surveillance and Prevent...  \\\n",
       "0                                                  0                          \n",
       "1                                                  0                          \n",
       "\n",
       "   Jobtitle_ABS/CLO Research Analyst  Jobtitle_AI Data Scientist  \\\n",
       "0                                  0                           0   \n",
       "1                                  0                           0   \n",
       "\n",
       "   Jobtitle_AI Labs - 30 x Data Scientist / Machine Learning Engineer (a...  \\\n",
       "0                                                  0                          \n",
       "1                                                  0                          \n",
       "\n",
       "   Jobtitle_AWS DevOps Engineer  Jobtitle_Account Manager  \\\n",
       "0                             0                         0   \n",
       "1                             0                         0   \n",
       "\n",
       "   Jobtitle_Accountant          ...            Cities_New+York  \\\n",
       "0                    0          ...                          0   \n",
       "1                    0          ...                          0   \n",
       "\n",
       "   Cities_Philadelphia  Cities_Phoenix  Cities_Pittsburgh  Cities_Portland  \\\n",
       "0                    1               0                  0                0   \n",
       "1                    1               0                  0                0   \n",
       "\n",
       "   Cities_San Jose, CA  Cities_San+Francisco  Cities_Seattle  \\\n",
       "0                    0                     0               0   \n",
       "1                    0                     0               0   \n",
       "\n",
       "   Cities_Washington  Cities_Washington, DC  \n",
       "0                  0                      0  \n",
       "1                  0                      0  \n",
       "\n",
       "[2 rows x 754 columns]"
      ]
     },
     "execution_count": 29,
     "metadata": {},
     "output_type": "execute_result"
    }
   ],
   "source": [
    "#Transforming the classifier to dummy variable.\n",
    "title_city_dum = pd.get_dummies(df[['Jobtitle', 'Cities']])\n",
    "title_city_dum.head(2)"
   ]
  },
  {
   "cell_type": "code",
   "execution_count": 30,
   "metadata": {},
   "outputs": [],
   "source": [
    "Xm = title_city_dum"
   ]
  },
  {
   "cell_type": "code",
   "execution_count": 31,
   "metadata": {},
   "outputs": [
    {
     "name": "stdout",
     "output_type": "stream",
     "text": [
      "[0.50549451 0.07692308 0.16483516 0.45054945 0.15384615 0.62222222\n",
      " 0.63333333 0.62222222 0.5        0.5       ]\n",
      "0.4229426129426129\n"
     ]
    }
   ],
   "source": [
    "logreg = LogisticRegression()\n",
    "scores = cross_val_score(logreg, Xm, y, cv=10)\n",
    "print(scores)\n",
    "print(np.mean(scores))"
   ]
  },
  {
   "cell_type": "code",
   "execution_count": 32,
   "metadata": {},
   "outputs": [
    {
     "data": {
      "text/plain": [
       "LogisticRegression(C=1.0, class_weight=None, dual=False, fit_intercept=True,\n",
       "          intercept_scaling=1, max_iter=100, multi_class='ovr', n_jobs=1,\n",
       "          penalty='l2', random_state=None, solver='liblinear', tol=0.0001,\n",
       "          verbose=0, warm_start=False)"
      ]
     },
     "execution_count": 32,
     "metadata": {},
     "output_type": "execute_result"
    }
   ],
   "source": [
    "Xm_train, Xm_test, y_train, y_test = train_test_split(Xm, y, test_size=0.2, random_state=1)\n",
    "logreg.fit(Xm_train, y_train)"
   ]
  },
  {
   "cell_type": "code",
   "execution_count": 33,
   "metadata": {},
   "outputs": [
    {
     "name": "stdout",
     "output_type": "stream",
     "text": [
      "LogisticRegression(C=1.0, class_weight=None, dual=False, fit_intercept=True,\n",
      "          intercept_scaling=1, max_iter=100, multi_class='ovr', n_jobs=1,\n",
      "          penalty='l2', random_state=None, solver='liblinear', tol=0.0001,\n",
      "          verbose=0, warm_start=False)\n",
      "[1 0 1 0 1 1 1 1 1 0 1 0 1 0 0 0 1 0 1 1 1 0 0 1 1 0 0 1 1 1 0 1 1 0 0 1 1\n",
      " 0 1 0 1 0 0 0 1 0 0 0 1 0 1 0 1 1 1 1 0 1 1 0 1 1 0 0 0 1 0 0 0 0 1 0 0 0\n",
      " 0 0 0 1 1 0 0 0 1 0 0 0 0 1 0 1 1 1 0 1 1 0 0 0 0 0 0 0 1 0 1 0 1 1 1 1 1\n",
      " 0 0 1 0 1 1 0 0 0 1 1 1 0 1 1 1 0 0 1 0 0 0 0 0 0 1 1 0 0 0 1 0 1 1 0 1 0\n",
      " 1 1 0 1 1 0 0 1 1 1 1 0 1 1 1 1 0 1 0 0 0 0 1 0 0 1 0 0 0 1 1 0 1]\n"
     ]
    }
   ],
   "source": [
    "print(logreg.fit(Xm_train, y_train))\n",
    "print(logreg.predict(Xm_test))\n",
    "#print(logreg.predict_proba(Xm_test))"
   ]
  },
  {
   "cell_type": "code",
   "execution_count": 34,
   "metadata": {},
   "outputs": [
    {
     "data": {
      "text/plain": [
       "0.7966850828729282"
      ]
     },
     "execution_count": 34,
     "metadata": {},
     "output_type": "execute_result"
    }
   ],
   "source": [
    "# model score \n",
    "logreg.score(Xm,y)"
   ]
  },
  {
   "cell_type": "code",
   "execution_count": 35,
   "metadata": {},
   "outputs": [
    {
     "data": {
      "text/plain": [
       "0.8121546961325967"
      ]
     },
     "execution_count": 35,
     "metadata": {},
     "output_type": "execute_result"
    }
   ],
   "source": [
    "logreg.score(Xm_train,y_train)"
   ]
  },
  {
   "cell_type": "code",
   "execution_count": 36,
   "metadata": {},
   "outputs": [
    {
     "data": {
      "text/plain": [
       "0.7348066298342542"
      ]
     },
     "execution_count": 36,
     "metadata": {},
     "output_type": "execute_result"
    }
   ],
   "source": [
    "# model score after cross_validation\n",
    "logreg.score(Xm_test,y_test)"
   ]
  },
  {
   "cell_type": "markdown",
   "metadata": {},
   "source": [
    "The score of the model becomes worse with cross-validation, but it is still better with the additional 'Jobtitle' feature"
   ]
  },
  {
   "cell_type": "code",
   "execution_count": 37,
   "metadata": {},
   "outputs": [],
   "source": [
    "model = LogisticRegressionCV()"
   ]
  },
  {
   "cell_type": "code",
   "execution_count": 38,
   "metadata": {},
   "outputs": [
    {
     "name": "stdout",
     "output_type": "stream",
     "text": [
      "Best Parameters:\n",
      "{'Cs': array([1.00000000e-04, 7.74263683e-04, 5.99484250e-03, 4.64158883e-02,\n",
      "       3.59381366e-01, 2.78255940e+00, 2.15443469e+01, 1.66810054e+02,\n",
      "       1.29154967e+03, 1.00000000e+04]), 'fit_intercept': False, 'penalty': 'l2', 'solver': 'liblinear'}\n",
      "Best estimator C:\n",
      "[2.7825594]\n",
      "Best estimator mean cross validated training score:\n",
      "0.680939226519337\n",
      "Best estimator score on the full training set:\n",
      "0.9585635359116023\n",
      "Best estimator score on the test set:\n",
      "0.7237569060773481\n"
     ]
    }
   ],
   "source": [
    "# setup the grid search\n",
    "params = {'penalty':['l1','l2'],\n",
    "          'Cs': [np.logspace(-4,4,10)],\n",
    "          'fit_intercept':[True,False],\n",
    "          'solver':['liblinear']}\n",
    "\n",
    "gs = GridSearchCV(estimator=model,\n",
    "                  param_grid=params,\n",
    "                  cv=5,\n",
    "                  scoring='accuracy',\n",
    "                  return_train_score=True)\n",
    "\n",
    "gs.fit(Xm_train,y_train)\n",
    "\n",
    "# extract the grid search results\n",
    "\n",
    "print('Best Parameters:')\n",
    "print(gs.best_params_)\n",
    "print('Best estimator C:')\n",
    "print(gs.best_estimator_.C_)\n",
    "print('Best estimator mean cross validated training score:')\n",
    "print(gs.best_score_)\n",
    "print('Best estimator score on the full training set:')\n",
    "print(gs.score(Xm_train,y_train))\n",
    "print('Best estimator score on the test set:')\n",
    "print(gs.score(Xm_test,y_test))\n",
    "#print('Best estimator coefficients:')\n",
    "#print(gs.best_estimator_.coef_)"
   ]
  },
  {
   "cell_type": "code",
   "execution_count": 39,
   "metadata": {},
   "outputs": [],
   "source": [
    "#Display the coefficients/feature importances and write a short summary of what they mean."
   ]
  },
  {
   "cell_type": "code",
   "execution_count": 40,
   "metadata": {},
   "outputs": [
    {
     "name": "stdout",
     "output_type": "stream",
     "text": [
      "[0.00599484]\n",
      "0.6850828729281768\n",
      "0.7071823204419889\n"
     ]
    }
   ],
   "source": [
    "from sklearn.linear_model import LogisticRegressionCV\n",
    "lr_ridge = LogisticRegressionCV(\n",
    "    penalty='l2', Cs=100, cv=10, scoring='accuracy')\n",
    "lr_ridge.fit(X_train, y_train)\n",
    "\n",
    "print(lr_ridge.C_)\n",
    "print(lr_ridge.score(X_train, y_train))\n",
    "print(lr_ridge.score(X_test, y_test))"
   ]
  },
  {
   "cell_type": "code",
   "execution_count": 41,
   "metadata": {
    "scrolled": true
   },
   "outputs": [
    {
     "data": {
      "image/png": "[encoded data removed]",
      "text/plain": [
       "<Figure size 864x864 with 1 Axes>"
      ]
     },
     "metadata": {
      "needs_background": "light"
     },
     "output_type": "display_data"
    }
   ],
   "source": [
    "coefs_vars_ridge = pd.DataFrame({\n",
    "    'coef': lr_ridge.coef_[0],\n",
    "    'variable': X.columns,\n",
    "    'abscoef': np.abs(lr_ridge.coef_[0])\n",
    "})\n",
    "coefs_vars_ridge.sort_values('abscoef', ascending=False, inplace=True)\n",
    "coefs_vars_ridge.plot(kind='barh',x='variable',y='coef',color='b',figsize=(12,12),label='Ridge')\n",
    "plt.show()"
   ]
  },
  {
   "cell_type": "code",
   "execution_count": 42,
   "metadata": {},
   "outputs": [],
   "source": [
    "#London plays the most important role among the features, which is really interesting."
   ]
  },
  {
   "cell_type": "markdown",
   "metadata": {},
   "source": [
    "Model taking into account job levels and categories"
   ]
  },
  {
   "cell_type": "code",
   "execution_count": 43,
   "metadata": {},
   "outputs": [],
   "source": [
    "#Create a few new variables in your dataframe to represent interesting features of a job title.\n",
    "#For example, create a feature that represents whether 'Senior' is in the title or whether 'Manager' is in the title."
   ]
  },
  {
   "cell_type": "code",
   "execution_count": 44,
   "metadata": {},
   "outputs": [
    {
     "data": {
      "text/plain": [
       "Data Scientist                   67\n",
       "Data Engineer                    18\n",
       "Senior Data Scientist            15\n",
       "Lead Data Scientist              10\n",
       "Senior Software Engineer          7\n",
       "Principal Data Scientist          5\n",
       "Data Science Manager              4\n",
       "Machine Learning Engineer         4\n",
       "Senior Data Engineer              4\n",
       "Senior Computational Linguist     3\n",
       "Big Data Scientist                3\n",
       "Sr. Data Scientist                3\n",
       "Name: Jobtitle, dtype: int64"
      ]
     },
     "execution_count": 44,
     "metadata": {},
     "output_type": "execute_result"
    }
   ],
   "source": [
    "df['Jobtitle'].value_counts().head(12)"
   ]
  },
  {
   "cell_type": "code",
   "execution_count": 45,
   "metadata": {},
   "outputs": [
    {
     "data": {
      "text/html": [
       "<div>\n",
       "<style scoped>\n",
       "    .dataframe tbody tr th:only-of-type {\n",
       "        vertical-align: middle;\n",
       "    }\n",
       "\n",
       "    .dataframe tbody tr th {\n",
       "        vertical-align: top;\n",
       "    }\n",
       "\n",
       "    .dataframe thead th {\n",
       "        text-align: right;\n",
       "    }\n",
       "</style>\n",
       "<table border=\"1\" class=\"dataframe\">\n",
       "  <thead>\n",
       "    <tr style=\"text-align: right;\">\n",
       "      <th></th>\n",
       "      <th>Jobtitle</th>\n",
       "      <th>Location</th>\n",
       "      <th>Salary</th>\n",
       "      <th>Company</th>\n",
       "      <th>Cities</th>\n",
       "      <th>USDSalary</th>\n",
       "    </tr>\n",
       "  </thead>\n",
       "  <tbody>\n",
       "    <tr>\n",
       "      <th>9</th>\n",
       "      <td>Senior Machine Learning Expert/ Data Scientist</td>\n",
       "      <td>Philadelphia, PA</td>\n",
       "      <td>110000</td>\n",
       "      <td>Workbridge Associates</td>\n",
       "      <td>Philadelphia</td>\n",
       "      <td>110000.0</td>\n",
       "    </tr>\n",
       "    <tr>\n",
       "      <th>12</th>\n",
       "      <td>Senior Data Scientist/Senior Machine Learning ...</td>\n",
       "      <td>Norristown, PA</td>\n",
       "      <td>120000</td>\n",
       "      <td>Workbridge Associates</td>\n",
       "      <td>Philadelphia</td>\n",
       "      <td>120000.0</td>\n",
       "    </tr>\n",
       "  </tbody>\n",
       "</table>\n",
       "</div>"
      ],
      "text/plain": [
       "                                             Jobtitle          Location  \\\n",
       "9      Senior Machine Learning Expert/ Data Scientist  Philadelphia, PA   \n",
       "12  Senior Data Scientist/Senior Machine Learning ...    Norristown, PA   \n",
       "\n",
       "    Salary                Company        Cities  USDSalary  \n",
       "9   110000  Workbridge Associates  Philadelphia   110000.0  \n",
       "12  120000  Workbridge Associates  Philadelphia   120000.0  "
      ]
     },
     "execution_count": 45,
     "metadata": {},
     "output_type": "execute_result"
    }
   ],
   "source": [
    "df[df['Jobtitle'].str.contains(\"Senior\")].head(2)"
   ]
  },
  {
   "cell_type": "code",
   "execution_count": 46,
   "metadata": {},
   "outputs": [
    {
     "name": "stdout",
     "output_type": "stream",
     "text": [
      "(146, 6)\n",
      "(6, 6)\n",
      "(182, 6)\n",
      "(44, 6)\n",
      "(39, 6)\n",
      "(9, 6)\n"
     ]
    }
   ],
   "source": [
    "print(df[df['Jobtitle'].str.contains(\"Senior\")].shape)\n",
    "print(df[df['Jobtitle'].str.contains(\"Junior\")].shape)\n",
    "print(df[df['Jobtitle'].str.contains(\"Engineer\")].shape)\n",
    "print(df[df['Jobtitle'].str.contains(\"Machine Learning\")].shape)\n",
    "print(df[df['Jobtitle'].str.contains(\"Lead\")].shape)\n",
    "print(df[df['Jobtitle'].str.contains(\"Head\")].shape)"
   ]
  },
  {
   "cell_type": "code",
   "execution_count": 47,
   "metadata": {},
   "outputs": [],
   "source": [
    "#Creating a feature that represents whether 'Senior', 'Head' or whether 'Lead' is in the title."
   ]
  },
  {
   "cell_type": "code",
   "execution_count": 48,
   "metadata": {},
   "outputs": [
    {
     "data": {
      "text/html": [
       "<div>\n",
       "<style scoped>\n",
       "    .dataframe tbody tr th:only-of-type {\n",
       "        vertical-align: middle;\n",
       "    }\n",
       "\n",
       "    .dataframe tbody tr th {\n",
       "        vertical-align: top;\n",
       "    }\n",
       "\n",
       "    .dataframe thead th {\n",
       "        text-align: right;\n",
       "    }\n",
       "</style>\n",
       "<table border=\"1\" class=\"dataframe\">\n",
       "  <thead>\n",
       "    <tr style=\"text-align: right;\">\n",
       "      <th></th>\n",
       "      <th>Jobtitle</th>\n",
       "      <th>Location</th>\n",
       "      <th>Salary</th>\n",
       "      <th>Company</th>\n",
       "      <th>Cities</th>\n",
       "      <th>USDSalary</th>\n",
       "      <th>Higher position</th>\n",
       "    </tr>\n",
       "  </thead>\n",
       "  <tbody>\n",
       "    <tr>\n",
       "      <th>0</th>\n",
       "      <td>Graduate Environmental Scientist</td>\n",
       "      <td>Philadelphia, PA</td>\n",
       "      <td>47783</td>\n",
       "      <td>City of Philadelphia</td>\n",
       "      <td>Philadelphia</td>\n",
       "      <td>47783.0</td>\n",
       "      <td>Not higher title</td>\n",
       "    </tr>\n",
       "    <tr>\n",
       "      <th>1</th>\n",
       "      <td>Environmental Scientist Specialist</td>\n",
       "      <td>Philadelphia, PA</td>\n",
       "      <td>56589</td>\n",
       "      <td>City of Philadelphia</td>\n",
       "      <td>Philadelphia</td>\n",
       "      <td>56589.0</td>\n",
       "      <td>Not higher title</td>\n",
       "    </tr>\n",
       "    <tr>\n",
       "      <th>2</th>\n",
       "      <td>Data Scientist/ Python, R</td>\n",
       "      <td>Bala-Cynwyd, PA</td>\n",
       "      <td>110000</td>\n",
       "      <td>Workbridge Associates</td>\n",
       "      <td>Philadelphia</td>\n",
       "      <td>110000.0</td>\n",
       "      <td>Not higher title</td>\n",
       "    </tr>\n",
       "    <tr>\n",
       "      <th>3</th>\n",
       "      <td>Data Scientist</td>\n",
       "      <td>Philadelphia, PA</td>\n",
       "      <td>90000</td>\n",
       "      <td>Jobspring Partners</td>\n",
       "      <td>Philadelphia</td>\n",
       "      <td>90000.0</td>\n",
       "      <td>Not higher title</td>\n",
       "    </tr>\n",
       "    <tr>\n",
       "      <th>4</th>\n",
       "      <td>Data Scientist/Analyst (R, Python,Google Cloud)</td>\n",
       "      <td>Philadelphia, PA</td>\n",
       "      <td>90000</td>\n",
       "      <td>Workbridge Associates</td>\n",
       "      <td>Philadelphia</td>\n",
       "      <td>90000.0</td>\n",
       "      <td>Not higher title</td>\n",
       "    </tr>\n",
       "  </tbody>\n",
       "</table>\n",
       "</div>"
      ],
      "text/plain": [
       "                                          Jobtitle          Location  Salary  \\\n",
       "0                 Graduate Environmental Scientist  Philadelphia, PA   47783   \n",
       "1               Environmental Scientist Specialist  Philadelphia, PA   56589   \n",
       "2                        Data Scientist/ Python, R   Bala-Cynwyd, PA  110000   \n",
       "3                                   Data Scientist  Philadelphia, PA   90000   \n",
       "4  Data Scientist/Analyst (R, Python,Google Cloud)  Philadelphia, PA   90000   \n",
       "\n",
       "                 Company        Cities  USDSalary   Higher position  \n",
       "0   City of Philadelphia  Philadelphia    47783.0  Not higher title  \n",
       "1   City of Philadelphia  Philadelphia    56589.0  Not higher title  \n",
       "2  Workbridge Associates  Philadelphia   110000.0  Not higher title  \n",
       "3     Jobspring Partners  Philadelphia    90000.0  Not higher title  \n",
       "4  Workbridge Associates  Philadelphia    90000.0  Not higher title  "
      ]
     },
     "execution_count": 48,
     "metadata": {},
     "output_type": "execute_result"
    }
   ],
   "source": [
    "def to_spec(row):\n",
    "    if \"Senior\" in row['Jobtitle']:\n",
    "        return 'Higher title'\n",
    "    if \"Head\" in row['Jobtitle']:\n",
    "        return 'Higher title'\n",
    "    elif \"Lead\" in row['Jobtitle']:\n",
    "        return 'Higher title'\n",
    "    else:\n",
    "        return 'Not higher title'\n",
    "\n",
    "\n",
    "df['Higher position'] = df.apply(to_spec, axis=1)\n",
    "df.head()\n"
   ]
  },
  {
   "cell_type": "code",
   "execution_count": 49,
   "metadata": {},
   "outputs": [
    {
     "data": {
      "text/html": [
       "<div>\n",
       "<style scoped>\n",
       "    .dataframe tbody tr th:only-of-type {\n",
       "        vertical-align: middle;\n",
       "    }\n",
       "\n",
       "    .dataframe tbody tr th {\n",
       "        vertical-align: top;\n",
       "    }\n",
       "\n",
       "    .dataframe thead th {\n",
       "        text-align: right;\n",
       "    }\n",
       "</style>\n",
       "<table border=\"1\" class=\"dataframe\">\n",
       "  <thead>\n",
       "    <tr style=\"text-align: right;\">\n",
       "      <th></th>\n",
       "      <th>Cities_Atlanta</th>\n",
       "      <th>Cities_Austin</th>\n",
       "      <th>Cities_Boston</th>\n",
       "      <th>Cities_Chicago</th>\n",
       "      <th>Cities_Dallas</th>\n",
       "      <th>Cities_Denver</th>\n",
       "      <th>Cities_Houston</th>\n",
       "      <th>Cities_London, Greater London</th>\n",
       "      <th>Cities_Los+Angeles</th>\n",
       "      <th>Cities_Miami</th>\n",
       "      <th>...</th>\n",
       "      <th>Jobtitle_University Graduate Hire - Software &amp; QA Engineer (SS&amp;S)</th>\n",
       "      <th>Jobtitle_Visualisation Consultant</th>\n",
       "      <th>Jobtitle_Visualization Engineer</th>\n",
       "      <th>Jobtitle_Water Quality Assessment Scientist (Natural Resource Scienti...</th>\n",
       "      <th>Jobtitle_Water Quality Monitoring/Data Analysis Specialist (Environme...</th>\n",
       "      <th>Jobtitle_Water Resources Modeler</th>\n",
       "      <th>Jobtitle_Water quality scientist</th>\n",
       "      <th>Jobtitle_Zillow Offers - Software Development Engineer</th>\n",
       "      <th>Jobtitle_iOS Engineer</th>\n",
       "      <th>Jobtitle_principal data scientist, data &amp; measurement science, Custom...</th>\n",
       "    </tr>\n",
       "  </thead>\n",
       "  <tbody>\n",
       "    <tr>\n",
       "      <th>0</th>\n",
       "      <td>0</td>\n",
       "      <td>0</td>\n",
       "      <td>0</td>\n",
       "      <td>0</td>\n",
       "      <td>0</td>\n",
       "      <td>0</td>\n",
       "      <td>0</td>\n",
       "      <td>0</td>\n",
       "      <td>0</td>\n",
       "      <td>0</td>\n",
       "      <td>...</td>\n",
       "      <td>0</td>\n",
       "      <td>0</td>\n",
       "      <td>0</td>\n",
       "      <td>0</td>\n",
       "      <td>0</td>\n",
       "      <td>0</td>\n",
       "      <td>0</td>\n",
       "      <td>0</td>\n",
       "      <td>0</td>\n",
       "      <td>0</td>\n",
       "    </tr>\n",
       "    <tr>\n",
       "      <th>1</th>\n",
       "      <td>0</td>\n",
       "      <td>0</td>\n",
       "      <td>0</td>\n",
       "      <td>0</td>\n",
       "      <td>0</td>\n",
       "      <td>0</td>\n",
       "      <td>0</td>\n",
       "      <td>0</td>\n",
       "      <td>0</td>\n",
       "      <td>0</td>\n",
       "      <td>...</td>\n",
       "      <td>0</td>\n",
       "      <td>0</td>\n",
       "      <td>0</td>\n",
       "      <td>0</td>\n",
       "      <td>0</td>\n",
       "      <td>0</td>\n",
       "      <td>0</td>\n",
       "      <td>0</td>\n",
       "      <td>0</td>\n",
       "      <td>0</td>\n",
       "    </tr>\n",
       "  </tbody>\n",
       "</table>\n",
       "<p>2 rows × 756 columns</p>\n",
       "</div>"
      ],
      "text/plain": [
       "   Cities_Atlanta  Cities_Austin  Cities_Boston  Cities_Chicago  \\\n",
       "0               0              0              0               0   \n",
       "1               0              0              0               0   \n",
       "\n",
       "   Cities_Dallas  Cities_Denver  Cities_Houston  \\\n",
       "0              0              0               0   \n",
       "1              0              0               0   \n",
       "\n",
       "   Cities_London, Greater London  Cities_Los+Angeles  Cities_Miami  \\\n",
       "0                              0                   0             0   \n",
       "1                              0                   0             0   \n",
       "\n",
       "                                     ...                                     \\\n",
       "0                                    ...                                      \n",
       "1                                    ...                                      \n",
       "\n",
       "   Jobtitle_University Graduate Hire - Software & QA Engineer (SS&S)  \\\n",
       "0                                                  0                   \n",
       "1                                                  0                   \n",
       "\n",
       "   Jobtitle_Visualisation Consultant  Jobtitle_Visualization Engineer  \\\n",
       "0                                  0                                0   \n",
       "1                                  0                                0   \n",
       "\n",
       "   Jobtitle_Water Quality Assessment Scientist (Natural Resource Scienti...  \\\n",
       "0                                                  0                          \n",
       "1                                                  0                          \n",
       "\n",
       "   Jobtitle_Water Quality Monitoring/Data Analysis Specialist (Environme...  \\\n",
       "0                                                  0                          \n",
       "1                                                  0                          \n",
       "\n",
       "   Jobtitle_Water Resources Modeler  Jobtitle_Water quality scientist  \\\n",
       "0                                 0                                 0   \n",
       "1                                 0                                 0   \n",
       "\n",
       "   Jobtitle_Zillow Offers - Software Development Engineer  \\\n",
       "0                                                  0        \n",
       "1                                                  0        \n",
       "\n",
       "   Jobtitle_iOS Engineer  \\\n",
       "0                      0   \n",
       "1                      0   \n",
       "\n",
       "   Jobtitle_principal data scientist, data & measurement science, Custom...  \n",
       "0                                                  0                         \n",
       "1                                                  0                         \n",
       "\n",
       "[2 rows x 756 columns]"
      ]
     },
     "execution_count": 49,
     "metadata": {},
     "output_type": "execute_result"
    }
   ],
   "source": [
    "#Transforming the classifier to dummy variable.\n",
    "title_city_position_dum = pd.get_dummies(df[['Cities', 'Higher position', 'Jobtitle']])\n",
    "title_city_position_dum.head(2)"
   ]
  },
  {
   "cell_type": "code",
   "execution_count": 50,
   "metadata": {},
   "outputs": [],
   "source": [
    "Xt = title_city_position_dum"
   ]
  },
  {
   "cell_type": "code",
   "execution_count": 51,
   "metadata": {},
   "outputs": [
    {
     "name": "stdout",
     "output_type": "stream",
     "text": [
      "[0.54945055 0.10989011 0.51648352 0.38461538 0.15384615 0.64444444\n",
      " 0.64444444 0.46666667 0.5        0.5       ]\n",
      "0.446984126984127\n"
     ]
    }
   ],
   "source": [
    "logreg = LogisticRegression()\n",
    "scores = cross_val_score(logreg, Xt, y, cv=10)\n",
    "print(scores)\n",
    "print(np.mean(scores))"
   ]
  },
  {
   "cell_type": "code",
   "execution_count": 52,
   "metadata": {},
   "outputs": [
    {
     "data": {
      "text/plain": [
       "LogisticRegression(C=1.0, class_weight=None, dual=False, fit_intercept=True,\n",
       "          intercept_scaling=1, max_iter=100, multi_class='ovr', n_jobs=1,\n",
       "          penalty='l2', random_state=None, solver='liblinear', tol=0.0001,\n",
       "          verbose=0, warm_start=False)"
      ]
     },
     "execution_count": 52,
     "metadata": {},
     "output_type": "execute_result"
    }
   ],
   "source": [
    "Xt_train, Xt_test, y_train, y_test = train_test_split(Xt, y, test_size=0.3, random_state=1)\n",
    "logreg.fit(Xt_train, y_train)"
   ]
  },
  {
   "cell_type": "code",
   "execution_count": 53,
   "metadata": {},
   "outputs": [],
   "source": [
    "from sklearn.preprocessing import StandardScaler\n",
    "#scaler = StandardScaler()\n",
    "\n",
    "#Xt_train = scaler.fit_transform(Xt_train)\n",
    "#Xt_test = scaler.transform(Xt_test)"
   ]
  },
  {
   "cell_type": "code",
   "execution_count": 54,
   "metadata": {},
   "outputs": [
    {
     "name": "stdout",
     "output_type": "stream",
     "text": [
      "LogisticRegression(C=1.0, class_weight=None, dual=False, fit_intercept=True,\n",
      "          intercept_scaling=1, max_iter=100, multi_class='ovr', n_jobs=1,\n",
      "          penalty='l2', random_state=None, solver='liblinear', tol=0.0001,\n",
      "          verbose=0, warm_start=False)\n",
      "[1 0 1 0 1 1 1 1 1 0 1 0 1 0 0 0 1 0 1 1 1 0 0 0 1 0 1 1 1 1 0 1 1 0 1 1 1\n",
      " 0 1 1 1 0 0 0 1 0 0 0 1 0 1 1 1 1 1 1 1 1 1 0 1 1 0 1 0 1 0 0 1 0 1 0 0 0\n",
      " 0 0 1 1 1 0 0 0 1 0 1 0 0 1 1 1 1 1 0 1 1 0 1 1 0 1 0 0 1 0 1 0 1 1 1 1 1\n",
      " 0 0 1 0 1 1 0 0 0 1 0 1 0 1 1 1 0 0 1 0 0 0 0 1 0 1 1 0 0 0 1 1 1 1 0 1 0\n",
      " 1 1 0 1 0 1 0 1 1 1 1 0 0 1 1 1 0 1 0 1 0 0 1 0 0 1 0 0 0 1 1 0 1 1 1 1 0\n",
      " 0 0 1 1 0 0 0 1 1 1 0 0 1 0 1 1 1 1 1 0 0 0 1 1 1 1 0 1 1 1 0 1 0 0 0 1 0\n",
      " 0 1 1 1 0 1 1 1 0 0 1 1 0 0 1 1 1 1 0 0 0 1 1 1 1 1 1 0 0 0 0 0 1 1 0 0 0\n",
      " 1 1 1 1 0 0 1 1 1 1 1 1 1]\n"
     ]
    }
   ],
   "source": [
    "print(logreg.fit(Xt_train, y_train))\n",
    "print(logreg.predict(Xt_test))\n",
    "#print(logreg.predict_proba(Xm_test))"
   ]
  },
  {
   "cell_type": "code",
   "execution_count": 55,
   "metadata": {},
   "outputs": [
    {
     "data": {
      "text/plain": [
       "0.8"
      ]
     },
     "execution_count": 55,
     "metadata": {},
     "output_type": "execute_result"
    }
   ],
   "source": [
    "# model score \n",
    "logreg.score(Xt,y)"
   ]
  },
  {
   "cell_type": "code",
   "execution_count": 56,
   "metadata": {},
   "outputs": [
    {
     "data": {
      "text/plain": [
       "0.8309636650868878"
      ]
     },
     "execution_count": 56,
     "metadata": {},
     "output_type": "execute_result"
    }
   ],
   "source": [
    "logreg.score(Xt_train,y_train)"
   ]
  },
  {
   "cell_type": "code",
   "execution_count": 57,
   "metadata": {},
   "outputs": [
    {
     "data": {
      "text/plain": [
       "0.7279411764705882"
      ]
     },
     "execution_count": 57,
     "metadata": {},
     "output_type": "execute_result"
    }
   ],
   "source": [
    "# model score after cross_validation\n",
    "logreg.score(Xt_test,y_test)"
   ]
  },
  {
   "cell_type": "code",
   "execution_count": 58,
   "metadata": {},
   "outputs": [
    {
     "name": "stdout",
     "output_type": "stream",
     "text": [
      "[2.7825594]\n",
      "0.9636650868878357\n",
      "0.7352941176470589\n"
     ]
    }
   ],
   "source": [
    "from sklearn.linear_model import LogisticRegressionCV\n",
    "lr_ridge = LogisticRegressionCV(\n",
    "    penalty='l2', Cs=100, cv=10, scoring='accuracy')\n",
    "lr_ridge.fit(Xt_train, y_train)\n",
    "\n",
    "print(lr_ridge.C_)\n",
    "print(lr_ridge.score(Xt_train, y_train))\n",
    "print(lr_ridge.score(Xt_test, y_test))"
   ]
  },
  {
   "cell_type": "code",
   "execution_count": 59,
   "metadata": {},
   "outputs": [
    {
     "name": "stdout",
     "output_type": "stream",
     "text": [
      "Best Parameters:\n",
      "{'Cs': array([1.00000000e-04, 7.74263683e-04, 5.99484250e-03, 4.64158883e-02,\n",
      "       3.59381366e-01, 2.78255940e+00, 2.15443469e+01, 1.66810054e+02,\n",
      "       1.29154967e+03, 1.00000000e+04]), 'fit_intercept': True, 'penalty': 'l1', 'solver': 'liblinear'}\n",
      "Best estimator C:\n",
      "[0.35938137]\n",
      "Best estimator mean cross validated training score:\n",
      "0.665086887835703\n",
      "Best estimator score on the full training set:\n",
      "0.6761453396524486\n",
      "Best estimator score on the test set:\n",
      "0.7095588235294118\n"
     ]
    }
   ],
   "source": [
    "# setup the grid search\n",
    "params = {'penalty':['l1','l2'],\n",
    "          'Cs': [np.logspace(-4,4,10)],\n",
    "          'fit_intercept':[True,False],\n",
    "          'solver':['liblinear']}\n",
    "\n",
    "gs = GridSearchCV(estimator=model,\n",
    "                  param_grid=params,\n",
    "                  cv=5,\n",
    "                  scoring='accuracy',\n",
    "                  return_train_score=True)\n",
    "\n",
    "gs.fit(Xt_train,y_train)\n",
    "\n",
    "# extract the grid search results\n",
    "\n",
    "print('Best Parameters:')\n",
    "print(gs.best_params_)\n",
    "print('Best estimator C:')\n",
    "print(gs.best_estimator_.C_)\n",
    "print('Best estimator mean cross validated training score:')\n",
    "print(gs.best_score_)\n",
    "print('Best estimator score on the full training set:')\n",
    "print(gs.score(Xt_train,y_train))\n",
    "print('Best estimator score on the test set:')\n",
    "print(gs.score(Xt_test,y_test))\n",
    "#print('Best estimator coefficients:')\n",
    "#print(gs.best_estimator_.coef_)"
   ]
  },
  {
   "cell_type": "code",
   "execution_count": 60,
   "metadata": {},
   "outputs": [],
   "source": [
    "#Incorporate other text features from the title or summary that you believe will predict the salary."
   ]
  },
  {
   "cell_type": "code",
   "execution_count": 61,
   "metadata": {},
   "outputs": [
    {
     "data": {
      "text/plain": [
       "Harnham                                         79\n",
       "New York City DEPT OF HEALTH/MENTAL HYGIENE     29\n",
       "Jobspring Partners                              23\n",
       "Workbridge Associates                           23\n",
       "All-In Analytics                                16\n",
       "MD Anderson Cancer Center                       16\n",
       "Liberty Mutual                                  12\n",
       "Harnham US                                      11\n",
       "New York City DEPT OF ENVIRONMENT PROTECTION     8\n",
       "The University of Pittsburgh                     8\n",
       "State of Washington Dept. of Ecology             7\n",
       "University College London                        7\n",
       "Name: Company, dtype: int64"
      ]
     },
     "execution_count": 61,
     "metadata": {},
     "output_type": "execute_result"
    }
   ],
   "source": [
    "df['Company'].value_counts().head(12)"
   ]
  },
  {
   "cell_type": "code",
   "execution_count": 62,
   "metadata": {},
   "outputs": [],
   "source": [
    "#Creating a feature that represents whether 'Harnham' is in the title."
   ]
  },
  {
   "cell_type": "code",
   "execution_count": 63,
   "metadata": {},
   "outputs": [
    {
     "data": {
      "text/html": [
       "<div>\n",
       "<style scoped>\n",
       "    .dataframe tbody tr th:only-of-type {\n",
       "        vertical-align: middle;\n",
       "    }\n",
       "\n",
       "    .dataframe tbody tr th {\n",
       "        vertical-align: top;\n",
       "    }\n",
       "\n",
       "    .dataframe thead th {\n",
       "        text-align: right;\n",
       "    }\n",
       "</style>\n",
       "<table border=\"1\" class=\"dataframe\">\n",
       "  <thead>\n",
       "    <tr style=\"text-align: right;\">\n",
       "      <th></th>\n",
       "      <th>Jobtitle</th>\n",
       "      <th>Location</th>\n",
       "      <th>Salary</th>\n",
       "      <th>Company</th>\n",
       "      <th>Cities</th>\n",
       "      <th>USDSalary</th>\n",
       "      <th>Higher position</th>\n",
       "      <th>Weather Harnham or not</th>\n",
       "    </tr>\n",
       "  </thead>\n",
       "  <tbody>\n",
       "    <tr>\n",
       "      <th>0</th>\n",
       "      <td>Graduate Environmental Scientist</td>\n",
       "      <td>Philadelphia, PA</td>\n",
       "      <td>47783</td>\n",
       "      <td>City of Philadelphia</td>\n",
       "      <td>Philadelphia</td>\n",
       "      <td>47783.0</td>\n",
       "      <td>Not higher title</td>\n",
       "      <td>Not Harnham</td>\n",
       "    </tr>\n",
       "    <tr>\n",
       "      <th>1</th>\n",
       "      <td>Environmental Scientist Specialist</td>\n",
       "      <td>Philadelphia, PA</td>\n",
       "      <td>56589</td>\n",
       "      <td>City of Philadelphia</td>\n",
       "      <td>Philadelphia</td>\n",
       "      <td>56589.0</td>\n",
       "      <td>Not higher title</td>\n",
       "      <td>Not Harnham</td>\n",
       "    </tr>\n",
       "  </tbody>\n",
       "</table>\n",
       "</div>"
      ],
      "text/plain": [
       "                             Jobtitle          Location  Salary  \\\n",
       "0    Graduate Environmental Scientist  Philadelphia, PA   47783   \n",
       "1  Environmental Scientist Specialist  Philadelphia, PA   56589   \n",
       "\n",
       "                Company        Cities  USDSalary   Higher position  \\\n",
       "0  City of Philadelphia  Philadelphia    47783.0  Not higher title   \n",
       "1  City of Philadelphia  Philadelphia    56589.0  Not higher title   \n",
       "\n",
       "  Weather Harnham or not  \n",
       "0            Not Harnham  \n",
       "1            Not Harnham  "
      ]
     },
     "execution_count": 63,
     "metadata": {},
     "output_type": "execute_result"
    }
   ],
   "source": [
    "def to_spec_comp(row):\n",
    "    if \"Harnham\" in row['Company']:\n",
    "        return 'Harnham'\n",
    "    else:\n",
    "        return 'Not Harnham'\n",
    "\n",
    "\n",
    "df['Weather Harnham or not'] = df.apply(to_spec_comp, axis=1)\n",
    "df.head(2)"
   ]
  },
  {
   "cell_type": "code",
   "execution_count": 64,
   "metadata": {},
   "outputs": [
    {
     "data": {
      "text/html": [
       "<div>\n",
       "<style scoped>\n",
       "    .dataframe tbody tr th:only-of-type {\n",
       "        vertical-align: middle;\n",
       "    }\n",
       "\n",
       "    .dataframe tbody tr th {\n",
       "        vertical-align: top;\n",
       "    }\n",
       "\n",
       "    .dataframe thead th {\n",
       "        text-align: right;\n",
       "    }\n",
       "</style>\n",
       "<table border=\"1\" class=\"dataframe\">\n",
       "  <thead>\n",
       "    <tr style=\"text-align: right;\">\n",
       "      <th></th>\n",
       "      <th>Cities_Atlanta</th>\n",
       "      <th>Cities_Austin</th>\n",
       "      <th>Cities_Boston</th>\n",
       "      <th>Cities_Chicago</th>\n",
       "      <th>Cities_Dallas</th>\n",
       "      <th>Cities_Denver</th>\n",
       "      <th>Cities_Houston</th>\n",
       "      <th>Cities_London, Greater London</th>\n",
       "      <th>Cities_Los+Angeles</th>\n",
       "      <th>Cities_Miami</th>\n",
       "      <th>...</th>\n",
       "      <th>Jobtitle_Visualization Engineer</th>\n",
       "      <th>Jobtitle_Water Quality Assessment Scientist (Natural Resource Scienti...</th>\n",
       "      <th>Jobtitle_Water Quality Monitoring/Data Analysis Specialist (Environme...</th>\n",
       "      <th>Jobtitle_Water Resources Modeler</th>\n",
       "      <th>Jobtitle_Water quality scientist</th>\n",
       "      <th>Jobtitle_Zillow Offers - Software Development Engineer</th>\n",
       "      <th>Jobtitle_iOS Engineer</th>\n",
       "      <th>Jobtitle_principal data scientist, data &amp; measurement science, Custom...</th>\n",
       "      <th>Weather Harnham or not_Harnham</th>\n",
       "      <th>Weather Harnham or not_Not Harnham</th>\n",
       "    </tr>\n",
       "  </thead>\n",
       "  <tbody>\n",
       "    <tr>\n",
       "      <th>0</th>\n",
       "      <td>0</td>\n",
       "      <td>0</td>\n",
       "      <td>0</td>\n",
       "      <td>0</td>\n",
       "      <td>0</td>\n",
       "      <td>0</td>\n",
       "      <td>0</td>\n",
       "      <td>0</td>\n",
       "      <td>0</td>\n",
       "      <td>0</td>\n",
       "      <td>...</td>\n",
       "      <td>0</td>\n",
       "      <td>0</td>\n",
       "      <td>0</td>\n",
       "      <td>0</td>\n",
       "      <td>0</td>\n",
       "      <td>0</td>\n",
       "      <td>0</td>\n",
       "      <td>0</td>\n",
       "      <td>0</td>\n",
       "      <td>1</td>\n",
       "    </tr>\n",
       "    <tr>\n",
       "      <th>1</th>\n",
       "      <td>0</td>\n",
       "      <td>0</td>\n",
       "      <td>0</td>\n",
       "      <td>0</td>\n",
       "      <td>0</td>\n",
       "      <td>0</td>\n",
       "      <td>0</td>\n",
       "      <td>0</td>\n",
       "      <td>0</td>\n",
       "      <td>0</td>\n",
       "      <td>...</td>\n",
       "      <td>0</td>\n",
       "      <td>0</td>\n",
       "      <td>0</td>\n",
       "      <td>0</td>\n",
       "      <td>0</td>\n",
       "      <td>0</td>\n",
       "      <td>0</td>\n",
       "      <td>0</td>\n",
       "      <td>0</td>\n",
       "      <td>1</td>\n",
       "    </tr>\n",
       "  </tbody>\n",
       "</table>\n",
       "<p>2 rows × 758 columns</p>\n",
       "</div>"
      ],
      "text/plain": [
       "   Cities_Atlanta  Cities_Austin  Cities_Boston  Cities_Chicago  \\\n",
       "0               0              0              0               0   \n",
       "1               0              0              0               0   \n",
       "\n",
       "   Cities_Dallas  Cities_Denver  Cities_Houston  \\\n",
       "0              0              0               0   \n",
       "1              0              0               0   \n",
       "\n",
       "   Cities_London, Greater London  Cities_Los+Angeles  Cities_Miami  \\\n",
       "0                              0                   0             0   \n",
       "1                              0                   0             0   \n",
       "\n",
       "                  ...                  Jobtitle_Visualization Engineer  \\\n",
       "0                 ...                                                0   \n",
       "1                 ...                                                0   \n",
       "\n",
       "   Jobtitle_Water Quality Assessment Scientist (Natural Resource Scienti...  \\\n",
       "0                                                  0                          \n",
       "1                                                  0                          \n",
       "\n",
       "   Jobtitle_Water Quality Monitoring/Data Analysis Specialist (Environme...  \\\n",
       "0                                                  0                          \n",
       "1                                                  0                          \n",
       "\n",
       "   Jobtitle_Water Resources Modeler  Jobtitle_Water quality scientist  \\\n",
       "0                                 0                                 0   \n",
       "1                                 0                                 0   \n",
       "\n",
       "   Jobtitle_Zillow Offers - Software Development Engineer  \\\n",
       "0                                                  0        \n",
       "1                                                  0        \n",
       "\n",
       "   Jobtitle_iOS Engineer  \\\n",
       "0                      0   \n",
       "1                      0   \n",
       "\n",
       "   Jobtitle_principal data scientist, data & measurement science, Custom...  \\\n",
       "0                                                  0                          \n",
       "1                                                  0                          \n",
       "\n",
       "   Weather Harnham or not_Harnham  Weather Harnham or not_Not Harnham  \n",
       "0                               0                                   1  \n",
       "1                               0                                   1  \n",
       "\n",
       "[2 rows x 758 columns]"
      ]
     },
     "execution_count": 64,
     "metadata": {},
     "output_type": "execute_result"
    }
   ],
   "source": [
    "#Transforming the classifier to dummy variable.\n",
    "title_city_position_dum = pd.get_dummies(df[['Cities', 'Higher position', 'Jobtitle', 'Weather Harnham or not']])\n",
    "title_city_position_dum.head(2)"
   ]
  },
  {
   "cell_type": "code",
   "execution_count": 65,
   "metadata": {},
   "outputs": [],
   "source": [
    "Xh = title_city_position_dum"
   ]
  },
  {
   "cell_type": "code",
   "execution_count": 66,
   "metadata": {},
   "outputs": [
    {
     "name": "stdout",
     "output_type": "stream",
     "text": [
      "[0.54945055 0.16483516 0.51648352 0.3956044  0.15384615 0.64444444\n",
      " 0.53333333 0.4        0.5        0.56666667]\n",
      "0.4424664224664225\n"
     ]
    }
   ],
   "source": [
    "logreg = LogisticRegression()\n",
    "scores = cross_val_score(logreg, Xh, y, cv=10)\n",
    "print(scores)\n",
    "print(np.mean(scores))"
   ]
  },
  {
   "cell_type": "code",
   "execution_count": 67,
   "metadata": {},
   "outputs": [
    {
     "data": {
      "text/plain": [
       "LogisticRegression(C=1.0, class_weight=None, dual=False, fit_intercept=True,\n",
       "          intercept_scaling=1, max_iter=100, multi_class='ovr', n_jobs=1,\n",
       "          penalty='l2', random_state=None, solver='liblinear', tol=0.0001,\n",
       "          verbose=0, warm_start=False)"
      ]
     },
     "execution_count": 67,
     "metadata": {},
     "output_type": "execute_result"
    }
   ],
   "source": [
    "Xh_train, Xh_test, y_train, y_test = train_test_split(Xh, y, test_size=0.3, random_state=1)\n",
    "logreg.fit(Xh_train, y_train)"
   ]
  },
  {
   "cell_type": "code",
   "execution_count": 68,
   "metadata": {},
   "outputs": [
    {
     "name": "stdout",
     "output_type": "stream",
     "text": [
      "LogisticRegression(C=1.0, class_weight=None, dual=False, fit_intercept=True,\n",
      "          intercept_scaling=1, max_iter=100, multi_class='ovr', n_jobs=1,\n",
      "          penalty='l2', random_state=None, solver='liblinear', tol=0.0001,\n",
      "          verbose=0, warm_start=False)\n",
      "[1 0 0 0 1 1 1 1 1 0 0 0 1 0 0 0 0 0 1 1 1 0 0 0 1 0 0 1 1 0 0 0 1 0 1 0 1\n",
      " 0 1 1 1 0 0 0 0 0 0 0 1 0 1 1 1 1 0 1 1 0 1 0 0 1 0 1 0 0 0 0 1 0 1 0 0 0\n",
      " 0 0 1 1 1 0 0 0 1 0 1 0 0 1 1 1 1 0 0 0 1 0 1 1 0 1 0 0 1 0 1 0 1 1 1 0 1\n",
      " 0 0 0 0 0 1 0 0 0 1 1 0 0 0 1 1 0 0 1 0 0 0 0 1 0 1 1 0 0 0 1 1 0 0 0 1 0\n",
      " 1 1 0 1 1 1 0 1 1 1 0 0 0 1 1 1 0 1 0 1 0 0 1 0 0 1 0 0 0 1 1 0 0 1 0 1 0\n",
      " 0 0 1 1 0 0 0 1 1 1 0 1 0 0 1 1 1 0 1 0 0 0 1 1 1 1 0 1 0 1 0 0 0 0 0 0 0\n",
      " 0 1 1 1 0 0 1 1 0 0 0 1 0 0 1 1 1 1 0 0 0 0 1 0 1 1 1 0 0 0 0 0 0 1 0 0 0\n",
      " 1 1 1 0 0 0 1 1 1 1 1 1 1]\n"
     ]
    }
   ],
   "source": [
    "print(logreg.fit(Xh_train, y_train))\n",
    "print(logreg.predict(Xh_test))\n",
    "#print(logreg.predict_proba(Xm_test))"
   ]
  },
  {
   "cell_type": "code",
   "execution_count": 69,
   "metadata": {},
   "outputs": [
    {
     "data": {
      "text/plain": [
       "0.8176795580110497"
      ]
     },
     "execution_count": 69,
     "metadata": {},
     "output_type": "execute_result"
    }
   ],
   "source": [
    "# model score \n",
    "logreg.score(Xh,y)"
   ]
  },
  {
   "cell_type": "code",
   "execution_count": 70,
   "metadata": {},
   "outputs": [
    {
     "data": {
      "text/plain": [
       "0.8530805687203792"
      ]
     },
     "execution_count": 70,
     "metadata": {},
     "output_type": "execute_result"
    }
   ],
   "source": [
    "logreg.score(Xh_train,y_train)"
   ]
  },
  {
   "cell_type": "code",
   "execution_count": 71,
   "metadata": {},
   "outputs": [
    {
     "data": {
      "text/plain": [
       "0.7352941176470589"
      ]
     },
     "execution_count": 71,
     "metadata": {},
     "output_type": "execute_result"
    }
   ],
   "source": [
    "# model score after cross_validation\n",
    "logreg.score(Xh_test,y_test)"
   ]
  },
  {
   "cell_type": "code",
   "execution_count": 72,
   "metadata": {},
   "outputs": [
    {
     "name": "stdout",
     "output_type": "stream",
     "text": [
      "Best Parameters:\n",
      "{'Cs': array([1.00000000e-04, 7.74263683e-04, 5.99484250e-03, 4.64158883e-02,\n",
      "       3.59381366e-01, 2.78255940e+00, 2.15443469e+01, 1.66810054e+02,\n",
      "       1.29154967e+03, 1.00000000e+04]), 'fit_intercept': False, 'penalty': 'l1', 'solver': 'liblinear'}\n",
      "Best estimator C:\n",
      "[0.35938137]\n",
      "Best estimator mean cross validated training score:\n",
      "0.6714060031595577\n",
      "Best estimator score on the full training set:\n",
      "0.6966824644549763\n",
      "Best estimator score on the test set:\n",
      "0.7058823529411765\n"
     ]
    }
   ],
   "source": [
    "# setup the grid search\n",
    "params = {'penalty':['l1','l2'],\n",
    "          'Cs': [np.logspace(-4,4,10)],\n",
    "          'fit_intercept':[True,False],\n",
    "          'solver':['liblinear']}\n",
    "\n",
    "gs = GridSearchCV(estimator=model,\n",
    "                  param_grid=params,\n",
    "                  cv=5,\n",
    "                  scoring='accuracy',\n",
    "                  return_train_score=True)\n",
    "\n",
    "gs.fit(Xh_train,y_train)\n",
    "\n",
    "# extract the grid search results\n",
    "\n",
    "print('Best Parameters:')\n",
    "print(gs.best_params_)\n",
    "print('Best estimator C:')\n",
    "print(gs.best_estimator_.C_)\n",
    "print('Best estimator mean cross validated training score:')\n",
    "print(gs.best_score_)\n",
    "print('Best estimator score on the full training set:')\n",
    "print(gs.score(Xh_train,y_train))\n",
    "print('Best estimator score on the test set:')\n",
    "print(gs.score(Xh_test,y_test))\n",
    "#print('Best estimator coefficients:')\n",
    "#print(gs.best_estimator_.coef_)"
   ]
  },
  {
   "cell_type": "code",
   "execution_count": 73,
   "metadata": {},
   "outputs": [],
   "source": [
    "#Then build new classification models including also those features. Do they add any value?"
   ]
  },
  {
   "cell_type": "code",
   "execution_count": 74,
   "metadata": {},
   "outputs": [],
   "source": [
    "#Yes, the score got better everytime I added a new feature, but with different volume, for exapmple \n",
    "#when I built a model on only the \"cities\" and \"jobtitles\", the score got a lot better as opposed to \n",
    "#predicting only on the \"cities\" feature, so when I added the \"high_position\" feature the score \n",
    "#fall back a little but it was still higher then with only one feature. The highest score reached with \n",
    "#the following features: \"cities\", \"jobtitle\", \"high_position\", \"spec_company\"."
   ]
  },
  {
   "cell_type": "markdown",
   "metadata": {},
   "source": [
    "Model evaluation"
   ]
  },
  {
   "cell_type": "code",
   "execution_count": 75,
   "metadata": {},
   "outputs": [],
   "source": [
    "from sklearn import metrics\n",
    "from sklearn.metrics import roc_curve, auc"
   ]
  },
  {
   "cell_type": "code",
   "execution_count": 77,
   "metadata": {},
   "outputs": [],
   "source": [
    "yhat = logreg.predict(Xh_test)\n",
    "yhat_pp = logreg.predict_proba(Xh_test)"
   ]
  },
  {
   "cell_type": "code",
   "execution_count": 110,
   "metadata": {},
   "outputs": [],
   "source": [
    "predicted = logreg.predict(Xh)"
   ]
  },
  {
   "cell_type": "code",
   "execution_count": 92,
   "metadata": {},
   "outputs": [],
   "source": [
    "fpr, tpr, thresholds = roc_curve(y_test, yhat_pp[:, 1])\n",
    "roc_auc = auc(fpr, tpr)"
   ]
  },
  {
   "cell_type": "code",
   "execution_count": 106,
   "metadata": {},
   "outputs": [],
   "source": [
    "from sklearn.metrics import accuracy_score"
   ]
  },
  {
   "cell_type": "code",
   "execution_count": 111,
   "metadata": {},
   "outputs": [
    {
     "name": "stdout",
     "output_type": "stream",
     "text": [
      "0.8176795580110497\n"
     ]
    }
   ],
   "source": [
    "#accuracy_score\n",
    "print(accuracy_score(y, predicted))"
   ]
  },
  {
   "cell_type": "code",
   "execution_count": 93,
   "metadata": {},
   "outputs": [],
   "source": [
    "def predictions_confusion(model, Xh, y):\n",
    "\n",
    "    yhat = model.predict(Xh)\n",
    "    yhat_pp = model.predict_proba(Xh)\n",
    "\n",
    "    conmat = np.array(confusion_matrix(y, yhat, labels=[1, 0]))\n",
    "\n",
    "    confusion = pd.DataFrame(conmat, index=['is_low_salary', 'is_high_salary'],\n",
    "                             columns=['predicted_low_salary', 'predicted_high_salary'])\n",
    "    return yhat, yhat_pp, confusion"
   ]
  },
  {
   "cell_type": "code",
   "execution_count": 94,
   "metadata": {},
   "outputs": [
    {
     "data": {
      "text/html": [
       "<div>\n",
       "<style scoped>\n",
       "    .dataframe tbody tr th:only-of-type {\n",
       "        vertical-align: middle;\n",
       "    }\n",
       "\n",
       "    .dataframe tbody tr th {\n",
       "        vertical-align: top;\n",
       "    }\n",
       "\n",
       "    .dataframe thead th {\n",
       "        text-align: right;\n",
       "    }\n",
       "</style>\n",
       "<table border=\"1\" class=\"dataframe\">\n",
       "  <thead>\n",
       "    <tr style=\"text-align: right;\">\n",
       "      <th></th>\n",
       "      <th>predicted_low_salary</th>\n",
       "      <th>predicted_high_salary</th>\n",
       "    </tr>\n",
       "  </thead>\n",
       "  <tbody>\n",
       "    <tr>\n",
       "      <th>is_low_salary</th>\n",
       "      <td>94</td>\n",
       "      <td>44</td>\n",
       "    </tr>\n",
       "    <tr>\n",
       "      <th>is_high_salary</th>\n",
       "      <td>28</td>\n",
       "      <td>106</td>\n",
       "    </tr>\n",
       "  </tbody>\n",
       "</table>\n",
       "</div>"
      ],
      "text/plain": [
       "                predicted_low_salary  predicted_high_salary\n",
       "is_low_salary                     94                     44\n",
       "is_high_salary                    28                    106"
      ]
     },
     "execution_count": 94,
     "metadata": {},
     "output_type": "execute_result"
    }
   ],
   "source": [
    "yhat, yhat_pp, confusion = predictions_confusion(logreg, Xh_test, y_test)\n",
    "confusion"
   ]
  },
  {
   "cell_type": "code",
   "execution_count": 95,
   "metadata": {},
   "outputs": [],
   "source": [
    "# In 28 cases the model predicted low salary, when it was high salary, opposed to 44 cases \n",
    "#when the model predicted high salary, when it was low salary job.\n",
    "#So to adjust the model to requirements of the \"boss\" we need to change the sensitivity by changing the treshold."
   ]
  },
  {
   "cell_type": "code",
   "execution_count": 96,
   "metadata": {},
   "outputs": [
    {
     "name": "stdout",
     "output_type": "stream",
     "text": [
      "Recall score:0.6811594202898551 'sensitive' is the classifier to detecting positive instances\n"
     ]
    }
   ],
   "source": [
    "#recall is the true positives, divided by all the actual positives\n",
    "re = 94/(94+44)\n",
    "print('Recall score:' + str(re) + \" 'sensitive' is the classifier to detecting positive instances\")"
   ]
  },
  {
   "cell_type": "code",
   "execution_count": 97,
   "metadata": {},
   "outputs": [
    {
     "data": {
      "text/plain": [
       "array([1, 0, 0, 0, 1, 1, 1, 1, 1, 0])"
      ]
     },
     "execution_count": 97,
     "metadata": {},
     "output_type": "execute_result"
    }
   ],
   "source": [
    "logreg.predict(Xh_test)[0:10]"
   ]
  },
  {
   "cell_type": "code",
   "execution_count": 98,
   "metadata": {},
   "outputs": [],
   "source": [
    "y_pred_prob=logreg.predict_proba(Xh_test)"
   ]
  },
  {
   "cell_type": "code",
   "execution_count": 99,
   "metadata": {},
   "outputs": [
    {
     "data": {
      "text/plain": [
       "Text(0,0.5,'Frequency')"
      ]
     },
     "execution_count": 99,
     "metadata": {},
     "output_type": "execute_result"
    },
    {
     "data": {
      "image/png": "[encoded data removed]",
      "text/plain": [
       "<Figure size 432x288 with 1 Axes>"
      ]
     },
     "metadata": {
      "needs_background": "light"
     },
     "output_type": "display_data"
    }
   ],
   "source": [
    "# histogram of predicted probabilities\n",
    "plt.hist(y_pred_prob, bins=6)\n",
    "plt.xlim(0, 1)\n",
    "plt.title('Histogram of predicted probabilities')\n",
    "plt.xlabel('Predicted probability of low salary')\n",
    "plt.ylabel('Frequency')"
   ]
  },
  {
   "cell_type": "code",
   "execution_count": 101,
   "metadata": {},
   "outputs": [
    {
     "name": "stdout",
     "output_type": "stream",
     "text": [
      "                predicted_low_salary  predicted_high_salary\n",
      "is_low_salary                     94                     44\n",
      "is_high_salary                    28                    106\n"
     ]
    }
   ],
   "source": [
    "print(confusion)"
   ]
  },
  {
   "cell_type": "code",
   "execution_count": 102,
   "metadata": {},
   "outputs": [],
   "source": [
    "# define a function that accepts a threshold and prints sensitivity and specificity\n",
    "def evaluate_threshold(threshold):\n",
    "    print('Sensitivity:', tpr[thresholds > threshold][-1])\n",
    "    print('Specificity:', 1 - fpr[thresholds > threshold][-1])"
   ]
  },
  {
   "cell_type": "code",
   "execution_count": 103,
   "metadata": {},
   "outputs": [
    {
     "name": "stdout",
     "output_type": "stream",
     "text": [
      "Sensitivity: 0.6811594202898551\n",
      "Specificity: 0.791044776119403\n"
     ]
    }
   ],
   "source": [
    "evaluate_threshold(0.5)"
   ]
  },
  {
   "cell_type": "code",
   "execution_count": 104,
   "metadata": {},
   "outputs": [
    {
     "name": "stdout",
     "output_type": "stream",
     "text": [
      "Sensitivity: 0.8840579710144928\n",
      "Specificity: 0.5149253731343284\n"
     ]
    }
   ],
   "source": [
    "evaluate_threshold(0.3)"
   ]
  },
  {
   "cell_type": "code",
   "execution_count": 113,
   "metadata": {},
   "outputs": [
    {
     "name": "stdout",
     "output_type": "stream",
     "text": [
      "             precision    recall  f1-score   support\n",
      "\n",
      "          0       0.80      0.85      0.82       455\n",
      "          1       0.84      0.78      0.81       450\n",
      "\n",
      "avg / total       0.82      0.82      0.82       905\n",
      "\n"
     ]
    }
   ],
   "source": [
    "print(classification_report(y, predicted))"
   ]
  },
  {
   "cell_type": "code",
   "execution_count": 116,
   "metadata": {},
   "outputs": [
    {
     "data": {
      "text/html": [
       "<div>\n",
       "<style scoped>\n",
       "    .dataframe tbody tr th:only-of-type {\n",
       "        vertical-align: middle;\n",
       "    }\n",
       "\n",
       "    .dataframe tbody tr th {\n",
       "        vertical-align: top;\n",
       "    }\n",
       "\n",
       "    .dataframe thead th {\n",
       "        text-align: right;\n",
       "    }\n",
       "</style>\n",
       "<table border=\"1\" class=\"dataframe\">\n",
       "  <thead>\n",
       "    <tr style=\"text-align: right;\">\n",
       "      <th></th>\n",
       "      <th>class_0_pp</th>\n",
       "      <th>class_1_pp</th>\n",
       "    </tr>\n",
       "  </thead>\n",
       "  <tbody>\n",
       "    <tr>\n",
       "      <th>0</th>\n",
       "      <td>0.147591</td>\n",
       "      <td>0.852409</td>\n",
       "    </tr>\n",
       "    <tr>\n",
       "      <th>1</th>\n",
       "      <td>0.706305</td>\n",
       "      <td>0.293695</td>\n",
       "    </tr>\n",
       "    <tr>\n",
       "      <th>2</th>\n",
       "      <td>0.539637</td>\n",
       "      <td>0.460363</td>\n",
       "    </tr>\n",
       "    <tr>\n",
       "      <th>3</th>\n",
       "      <td>0.706305</td>\n",
       "      <td>0.293695</td>\n",
       "    </tr>\n",
       "    <tr>\n",
       "      <th>4</th>\n",
       "      <td>0.223294</td>\n",
       "      <td>0.776706</td>\n",
       "    </tr>\n",
       "    <tr>\n",
       "      <th>5</th>\n",
       "      <td>0.147591</td>\n",
       "      <td>0.852409</td>\n",
       "    </tr>\n",
       "    <tr>\n",
       "      <th>6</th>\n",
       "      <td>0.429796</td>\n",
       "      <td>0.570204</td>\n",
       "    </tr>\n",
       "    <tr>\n",
       "      <th>7</th>\n",
       "      <td>0.147591</td>\n",
       "      <td>0.852409</td>\n",
       "    </tr>\n",
       "    <tr>\n",
       "      <th>8</th>\n",
       "      <td>0.340897</td>\n",
       "      <td>0.659103</td>\n",
       "    </tr>\n",
       "    <tr>\n",
       "      <th>9</th>\n",
       "      <td>0.931420</td>\n",
       "      <td>0.068580</td>\n",
       "    </tr>\n",
       "  </tbody>\n",
       "</table>\n",
       "</div>"
      ],
      "text/plain": [
       "   class_0_pp  class_1_pp\n",
       "0    0.147591    0.852409\n",
       "1    0.706305    0.293695\n",
       "2    0.539637    0.460363\n",
       "3    0.706305    0.293695\n",
       "4    0.223294    0.776706\n",
       "5    0.147591    0.852409\n",
       "6    0.429796    0.570204\n",
       "7    0.147591    0.852409\n",
       "8    0.340897    0.659103\n",
       "9    0.931420    0.068580"
      ]
     },
     "execution_count": 116,
     "metadata": {},
     "output_type": "execute_result"
    }
   ],
   "source": [
    "# Get the predicted probability vector and explicitly name the columns:\n",
    "Y_pp = pd.DataFrame(logreg.predict_proba(Xh_test), columns=['class_0_pp','class_1_pp'])\n",
    "Y_pp.head(10)"
   ]
  },
  {
   "cell_type": "code",
   "execution_count": 119,
   "metadata": {},
   "outputs": [
    {
     "data": {
      "text/html": [
       "<div>\n",
       "<style scoped>\n",
       "    .dataframe tbody tr th:only-of-type {\n",
       "        vertical-align: middle;\n",
       "    }\n",
       "\n",
       "    .dataframe tbody tr th {\n",
       "        vertical-align: top;\n",
       "    }\n",
       "\n",
       "    .dataframe thead th {\n",
       "        text-align: right;\n",
       "    }\n",
       "</style>\n",
       "<table border=\"1\" class=\"dataframe\">\n",
       "  <thead>\n",
       "    <tr style=\"text-align: right;\">\n",
       "      <th></th>\n",
       "      <th>class_0_pp</th>\n",
       "      <th>class_1_pp</th>\n",
       "      <th>pred_class_thresh10</th>\n",
       "    </tr>\n",
       "  </thead>\n",
       "  <tbody>\n",
       "    <tr>\n",
       "      <th>0</th>\n",
       "      <td>0.147591</td>\n",
       "      <td>0.852409</td>\n",
       "      <td>1</td>\n",
       "    </tr>\n",
       "    <tr>\n",
       "      <th>1</th>\n",
       "      <td>0.706305</td>\n",
       "      <td>0.293695</td>\n",
       "      <td>0</td>\n",
       "    </tr>\n",
       "    <tr>\n",
       "      <th>2</th>\n",
       "      <td>0.539637</td>\n",
       "      <td>0.460363</td>\n",
       "      <td>1</td>\n",
       "    </tr>\n",
       "    <tr>\n",
       "      <th>3</th>\n",
       "      <td>0.706305</td>\n",
       "      <td>0.293695</td>\n",
       "      <td>0</td>\n",
       "    </tr>\n",
       "    <tr>\n",
       "      <th>4</th>\n",
       "      <td>0.223294</td>\n",
       "      <td>0.776706</td>\n",
       "      <td>1</td>\n",
       "    </tr>\n",
       "    <tr>\n",
       "      <th>5</th>\n",
       "      <td>0.147591</td>\n",
       "      <td>0.852409</td>\n",
       "      <td>1</td>\n",
       "    </tr>\n",
       "    <tr>\n",
       "      <th>6</th>\n",
       "      <td>0.429796</td>\n",
       "      <td>0.570204</td>\n",
       "      <td>1</td>\n",
       "    </tr>\n",
       "    <tr>\n",
       "      <th>7</th>\n",
       "      <td>0.147591</td>\n",
       "      <td>0.852409</td>\n",
       "      <td>1</td>\n",
       "    </tr>\n",
       "    <tr>\n",
       "      <th>8</th>\n",
       "      <td>0.340897</td>\n",
       "      <td>0.659103</td>\n",
       "      <td>1</td>\n",
       "    </tr>\n",
       "    <tr>\n",
       "      <th>9</th>\n",
       "      <td>0.931420</td>\n",
       "      <td>0.068580</td>\n",
       "      <td>0</td>\n",
       "    </tr>\n",
       "    <tr>\n",
       "      <th>10</th>\n",
       "      <td>0.648629</td>\n",
       "      <td>0.351371</td>\n",
       "      <td>1</td>\n",
       "    </tr>\n",
       "    <tr>\n",
       "      <th>11</th>\n",
       "      <td>0.680503</td>\n",
       "      <td>0.319497</td>\n",
       "      <td>1</td>\n",
       "    </tr>\n",
       "    <tr>\n",
       "      <th>12</th>\n",
       "      <td>0.251699</td>\n",
       "      <td>0.748301</td>\n",
       "      <td>1</td>\n",
       "    </tr>\n",
       "    <tr>\n",
       "      <th>13</th>\n",
       "      <td>0.574917</td>\n",
       "      <td>0.425083</td>\n",
       "      <td>1</td>\n",
       "    </tr>\n",
       "    <tr>\n",
       "      <th>14</th>\n",
       "      <td>0.733630</td>\n",
       "      <td>0.266370</td>\n",
       "      <td>0</td>\n",
       "    </tr>\n",
       "    <tr>\n",
       "      <th>15</th>\n",
       "      <td>0.778758</td>\n",
       "      <td>0.221242</td>\n",
       "      <td>0</td>\n",
       "    </tr>\n",
       "    <tr>\n",
       "      <th>16</th>\n",
       "      <td>0.774360</td>\n",
       "      <td>0.225640</td>\n",
       "      <td>0</td>\n",
       "    </tr>\n",
       "    <tr>\n",
       "      <th>17</th>\n",
       "      <td>0.871122</td>\n",
       "      <td>0.128878</td>\n",
       "      <td>0</td>\n",
       "    </tr>\n",
       "    <tr>\n",
       "      <th>18</th>\n",
       "      <td>0.223294</td>\n",
       "      <td>0.776706</td>\n",
       "      <td>1</td>\n",
       "    </tr>\n",
       "    <tr>\n",
       "      <th>19</th>\n",
       "      <td>0.178166</td>\n",
       "      <td>0.821834</td>\n",
       "      <td>1</td>\n",
       "    </tr>\n",
       "  </tbody>\n",
       "</table>\n",
       "</div>"
      ],
      "text/plain": [
       "    class_0_pp  class_1_pp  pred_class_thresh10\n",
       "0     0.147591    0.852409                    1\n",
       "1     0.706305    0.293695                    0\n",
       "2     0.539637    0.460363                    1\n",
       "3     0.706305    0.293695                    0\n",
       "4     0.223294    0.776706                    1\n",
       "5     0.147591    0.852409                    1\n",
       "6     0.429796    0.570204                    1\n",
       "7     0.147591    0.852409                    1\n",
       "8     0.340897    0.659103                    1\n",
       "9     0.931420    0.068580                    0\n",
       "10    0.648629    0.351371                    1\n",
       "11    0.680503    0.319497                    1\n",
       "12    0.251699    0.748301                    1\n",
       "13    0.574917    0.425083                    1\n",
       "14    0.733630    0.266370                    0\n",
       "15    0.778758    0.221242                    0\n",
       "16    0.774360    0.225640                    0\n",
       "17    0.871122    0.128878                    0\n",
       "18    0.223294    0.776706                    1\n",
       "19    0.178166    0.821834                    1"
      ]
     },
     "execution_count": 119,
     "metadata": {},
     "output_type": "execute_result"
    }
   ],
   "source": [
    "Y_pp['pred_class_thresh10'] = [1 if x >= 0.30 else 0 for x in Y_pp.class_1_pp.values]\n",
    "Y_pp.head(20)"
   ]
  },
  {
   "cell_type": "code",
   "execution_count": 120,
   "metadata": {},
   "outputs": [
    {
     "data": {
      "text/html": [
       "<div>\n",
       "<style scoped>\n",
       "    .dataframe tbody tr th:only-of-type {\n",
       "        vertical-align: middle;\n",
       "    }\n",
       "\n",
       "    .dataframe tbody tr th {\n",
       "        vertical-align: top;\n",
       "    }\n",
       "\n",
       "    .dataframe thead th {\n",
       "        text-align: right;\n",
       "    }\n",
       "</style>\n",
       "<table border=\"1\" class=\"dataframe\">\n",
       "  <thead>\n",
       "    <tr style=\"text-align: right;\">\n",
       "      <th></th>\n",
       "      <th>predicted_low_salary</th>\n",
       "      <th>predicted_high_salary</th>\n",
       "    </tr>\n",
       "  </thead>\n",
       "  <tbody>\n",
       "    <tr>\n",
       "      <th>is_low_salary</th>\n",
       "      <td>122</td>\n",
       "      <td>16</td>\n",
       "    </tr>\n",
       "    <tr>\n",
       "      <th>is_high_salary</th>\n",
       "      <td>65</td>\n",
       "      <td>69</td>\n",
       "    </tr>\n",
       "  </tbody>\n",
       "</table>\n",
       "</div>"
      ],
      "text/plain": [
       "                predicted_low_salary  predicted_high_salary\n",
       "is_low_salary                    122                     16\n",
       "is_high_salary                    65                     69"
      ]
     },
     "execution_count": 120,
     "metadata": {},
     "output_type": "execute_result"
    }
   ],
   "source": [
    "conmat = np.array(confusion_matrix(y_test, Y_pp.pred_class_thresh10.values, labels=[1,0]))\n",
    "\n",
    "confusion = pd.DataFrame(conmat, index=['is_low_salary', 'is_high_salary'],\n",
    "                         columns=['predicted_low_salary','predicted_high_salary'])\n",
    "confusion"
   ]
  },
  {
   "cell_type": "code",
   "execution_count": null,
   "metadata": {},
   "outputs": [],
   "source": [
    "# In 65 cases the model predicted low salary, when it was high salary, opposed to 16 cases \n",
    "#when the model predicted high salary, when it was low salary job and the models sensitivity is higher.\n",
    "#Which means this model is more suitable for the requirements of \"boss\"."
   ]
  },
  {
   "cell_type": "code",
   "execution_count": 121,
   "metadata": {},
   "outputs": [],
   "source": [
    "#Plot the ROC and precision-recall curves for at least one of your models."
   ]
  },
  {
   "cell_type": "code",
   "execution_count": 122,
   "metadata": {},
   "outputs": [
    {
     "data": {
      "image/png": "[encoded data removed]",
      "text/plain": [
       "<Figure size 432x432 with 1 Axes>"
      ]
     },
     "metadata": {
      "needs_background": "light"
     },
     "output_type": "display_data"
    }
   ],
   "source": [
    "fig, ax = plt.subplots(figsize=(6, 6))\n",
    "\n",
    "ax.plot(fpr, tpr, label='Original (area = %0.3f)' % roc_auc, linewidth=4)\n",
    "ax.plot([0, 1], [0, 1], 'k--', linewidth=4)\n",
    "\n",
    "ax.set_xlim([-0.05, 1.0])\n",
    "ax.set_ylim([-0.05, 1.05])\n",
    "ax.set_xlabel('False Positive Rate', fontsize=18)\n",
    "ax.set_ylabel('True Positive Rate', fontsize=18)\n",
    "ax.set_title('Receiver operating characteristic: is low_salary', fontsize=18)\n",
    "ax.legend(loc=\"lower right\")\n",
    "\n",
    "plt.show()"
   ]
  },
  {
   "cell_type": "markdown",
   "metadata": {
    "focus": false,
    "id": "4fb29de2-5b98-474c-a4ad-5170b72b9aea"
   },
   "source": [
    "<img src=\"http://imgur.com/xDpSobf.png\" style=\"float: left; margin: 25px 15px 0px 0px; height: 25px\">\n",
    "\n",
    "#### Bonus:\n",
    "\n",
    "- Answer the salary discussion by using your model to explain the tradeoffs between detecting high vs low salary positions. \n",
    "- Discuss the differences and explain when you want a high-recall or a high-precision model in this scenario.\n",
    "- Obtain the ROC/precision-recall curves for the different models you studied (at least the tuned model of each category) and compare."
   ]
  },
  {
   "cell_type": "code",
   "execution_count": null,
   "metadata": {
    "focus": false,
    "id": "068dc1cf-7fd7-4f27-a1f1-7f0a5a221d29"
   },
   "outputs": [],
   "source": [
    "## YOUR CODE HERE"
   ]
  },
  {
   "cell_type": "markdown",
   "metadata": {},
   "source": [
    "### Summarize your results in an executive summary written for a non-technical audience.\n",
    "   \n",
    "- Writeups should be at least 500-1000 words, defining any technical terms, explaining your approach, as well as any risks and limitations."
   ]
  },
  {
   "cell_type": "code",
   "execution_count": null,
   "metadata": {},
   "outputs": [],
   "source": [
    "## YOUR TEXT HERE IN MARKDOWN FORMAT "
   ]
  },
  {
   "cell_type": "markdown",
   "metadata": {},
   "source": [
    "<img src=\"http://imgur.com/xDpSobf.png\" style=\"float: left; margin: 25px 15px 0px 0px; height: 25px\">\n",
    "\n",
    "### BONUS\n",
    "\n",
    "Convert your executive summary into a public blog post of at least 500 words, in which you document your approach in a tutorial for other aspiring data scientists. Link to this in your notebook."
   ]
  },
  {
   "cell_type": "code",
   "execution_count": null,
   "metadata": {},
   "outputs": [],
   "source": [
    "## YOUR LINK HERE IN MARKDOWN FORMAT "
   ]
  }
 ],
 "metadata": {
  "kernelspec": {
   "display_name": "Python 3",
   "language": "python",
   "name": "python3"
  },
  "language_info": {
   "codemirror_mode": {
    "name": "ipython",
    "version": 3
   },
   "file_extension": ".py",
   "mimetype": "text/x-python",
   "name": "python",
   "nbconvert_exporter": "python",
   "pygments_lexer": "ipython3",
   "version": "3.6.6"
  },
  "toc": {
   "base_numbering": 1,
   "nav_menu": {},
   "number_sections": false,
   "sideBar": true,
   "skip_h1_title": true,
   "title_cell": "Table of Contents",
   "title_sidebar": "Contents",
   "toc_cell": false,
   "toc_position": {},
   "toc_section_display": "block",
   "toc_window_display": false
  }
 },
 "nbformat": 4,
 "nbformat_minor": 1
}
