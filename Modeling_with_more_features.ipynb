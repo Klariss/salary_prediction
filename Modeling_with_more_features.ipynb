{
 "cells": [
  {
   "cell_type": "markdown",
   "metadata": {
    "focus": false,
    "id": "69b9a648-bcc7-490d-9f9b-ea244d156bd6"
   },
   "source": [
    "<img src=\"http://imgur.com/1ZcRyrc.png\" style=\"float: left; margin: 15px; height: 80px\">\n",
    "\n",
    "\n",
    "# Web Scraping from Indeed.com and Predicting Salaries"
   ]
  },
  {
   "cell_type": "markdown",
   "metadata": {},
   "source": [
    "### Create a classification model to predict High/Low salary. \n",
    "\n",
    "\n",
    "#### Model taking into account job levels and categories:\n",
    "\n",
    "- Create a few new variables in your dataframe to represent interesting features of a job title.\n",
    "- For example, create a feature that represents whether 'Senior' is in the title or whether 'Manager' is in the title. \n",
    "- Incorporate other text features from the title or summary that you believe will predict the salary.\n",
    "- Then build new classification models including also those features. Do they add any value? \n",
    "- Tune your models by testing parameter ranges, regularization strengths, etc. Discuss how that affects your models. \n",
    "- Discuss model coefficients or feature importances as applicable.\n"
   ]
  },
  {
   "cell_type": "markdown",
   "metadata": {
    "focus": false,
    "id": "a7afb2c0-d41e-4779-8216-91cd8dd4473f"
   },
   "source": [
    "#### Thought experiment: What is the baseline accuracy for this model?"
   ]
  },
  {
   "cell_type": "markdown",
   "metadata": {},
   "source": [
    "baseline_accuracy = majority_class_N / total_N"
   ]
  },
  {
   "cell_type": "code",
   "execution_count": 10,
   "metadata": {
    "focus": false,
    "id": "87a17d3d-b7f4-4747-9f75-f9af1d18a174"
   },
   "outputs": [
    {
     "data": {
      "text/plain": [
       "0    0.502762\n",
       "1    0.497238\n",
       "Name: USDSalary, dtype: float64"
      ]
     },
     "execution_count": 10,
     "metadata": {},
     "output_type": "execute_result"
    }
   ],
   "source": [
    "y.value_counts(normalize=True)"
   ]
  },
  {
   "cell_type": "code",
   "execution_count": 11,
   "metadata": {},
   "outputs": [
    {
     "name": "stdout",
     "output_type": "stream",
     "text": [
      "baseline: 0.5027624309392266\n"
     ]
    }
   ],
   "source": [
    "print('baseline:', y.value_counts(normalize=True).max())"
   ]
  },
  {
   "cell_type": "markdown",
   "metadata": {},
   "source": [
    "## Model taking into account job levels and categories"
   ]
  },
  {
   "cell_type": "code",
   "execution_count": 43,
   "metadata": {},
   "outputs": [],
   "source": [
    "#Create a few new variables in your dataframe to represent interesting features of a job title.\n",
    "#For example, create a feature that represents whether 'Senior' is in the title or whether 'Manager' is in the title."
   ]
  },
  {
   "cell_type": "code",
   "execution_count": 44,
   "metadata": {},
   "outputs": [
    {
     "data": {
      "text/plain": [
       "Data Scientist                   67\n",
       "Data Engineer                    18\n",
       "Senior Data Scientist            15\n",
       "Lead Data Scientist              10\n",
       "Senior Software Engineer          7\n",
       "Principal Data Scientist          5\n",
       "Data Science Manager              4\n",
       "Machine Learning Engineer         4\n",
       "Senior Data Engineer              4\n",
       "Senior Computational Linguist     3\n",
       "Big Data Scientist                3\n",
       "Sr. Data Scientist                3\n",
       "Name: Jobtitle, dtype: int64"
      ]
     },
     "execution_count": 44,
     "metadata": {},
     "output_type": "execute_result"
    }
   ],
   "source": [
    "df['Jobtitle'].value_counts().head(12)"
   ]
  },
  {
   "cell_type": "code",
   "execution_count": 45,
   "metadata": {},
   "outputs": [
    {
     "data": {
      "text/html": [
       "<div>\n",
       "<style scoped>\n",
       "    .dataframe tbody tr th:only-of-type {\n",
       "        vertical-align: middle;\n",
       "    }\n",
       "\n",
       "    .dataframe tbody tr th {\n",
       "        vertical-align: top;\n",
       "    }\n",
       "\n",
       "    .dataframe thead th {\n",
       "        text-align: right;\n",
       "    }\n",
       "</style>\n",
       "<table border=\"1\" class=\"dataframe\">\n",
       "  <thead>\n",
       "    <tr style=\"text-align: right;\">\n",
       "      <th></th>\n",
       "      <th>Jobtitle</th>\n",
       "      <th>Location</th>\n",
       "      <th>Salary</th>\n",
       "      <th>Company</th>\n",
       "      <th>Cities</th>\n",
       "      <th>USDSalary</th>\n",
       "    </tr>\n",
       "  </thead>\n",
       "  <tbody>\n",
       "    <tr>\n",
       "      <th>9</th>\n",
       "      <td>Senior Machine Learning Expert/ Data Scientist</td>\n",
       "      <td>Philadelphia, PA</td>\n",
       "      <td>110000</td>\n",
       "      <td>Workbridge Associates</td>\n",
       "      <td>Philadelphia</td>\n",
       "      <td>110000.0</td>\n",
       "    </tr>\n",
       "    <tr>\n",
       "      <th>12</th>\n",
       "      <td>Senior Data Scientist/Senior Machine Learning ...</td>\n",
       "      <td>Norristown, PA</td>\n",
       "      <td>120000</td>\n",
       "      <td>Workbridge Associates</td>\n",
       "      <td>Philadelphia</td>\n",
       "      <td>120000.0</td>\n",
       "    </tr>\n",
       "  </tbody>\n",
       "</table>\n",
       "</div>"
      ],
      "text/plain": [
       "                                             Jobtitle          Location  \\\n",
       "9      Senior Machine Learning Expert/ Data Scientist  Philadelphia, PA   \n",
       "12  Senior Data Scientist/Senior Machine Learning ...    Norristown, PA   \n",
       "\n",
       "    Salary                Company        Cities  USDSalary  \n",
       "9   110000  Workbridge Associates  Philadelphia   110000.0  \n",
       "12  120000  Workbridge Associates  Philadelphia   120000.0  "
      ]
     },
     "execution_count": 45,
     "metadata": {},
     "output_type": "execute_result"
    }
   ],
   "source": [
    "df[df['Jobtitle'].str.contains(\"Senior\")].head(2)"
   ]
  },
  {
   "cell_type": "code",
   "execution_count": 46,
   "metadata": {},
   "outputs": [
    {
     "name": "stdout",
     "output_type": "stream",
     "text": [
      "(146, 6)\n",
      "(6, 6)\n",
      "(182, 6)\n",
      "(44, 6)\n",
      "(39, 6)\n",
      "(9, 6)\n"
     ]
    }
   ],
   "source": [
    "print(df[df['Jobtitle'].str.contains(\"Senior\")].shape)\n",
    "print(df[df['Jobtitle'].str.contains(\"Junior\")].shape)\n",
    "print(df[df['Jobtitle'].str.contains(\"Engineer\")].shape)\n",
    "print(df[df['Jobtitle'].str.contains(\"Machine Learning\")].shape)\n",
    "print(df[df['Jobtitle'].str.contains(\"Lead\")].shape)\n",
    "print(df[df['Jobtitle'].str.contains(\"Head\")].shape)"
   ]
  },
  {
   "cell_type": "code",
   "execution_count": 47,
   "metadata": {},
   "outputs": [],
   "source": [
    "#Creating a feature that represents whether 'Senior', 'Head' or whether 'Lead' is in the title."
   ]
  },
  {
   "cell_type": "code",
   "execution_count": 48,
   "metadata": {},
   "outputs": [
    {
     "data": {
      "text/html": [
       "<div>\n",
       "<style scoped>\n",
       "    .dataframe tbody tr th:only-of-type {\n",
       "        vertical-align: middle;\n",
       "    }\n",
       "\n",
       "    .dataframe tbody tr th {\n",
       "        vertical-align: top;\n",
       "    }\n",
       "\n",
       "    .dataframe thead th {\n",
       "        text-align: right;\n",
       "    }\n",
       "</style>\n",
       "<table border=\"1\" class=\"dataframe\">\n",
       "  <thead>\n",
       "    <tr style=\"text-align: right;\">\n",
       "      <th></th>\n",
       "      <th>Jobtitle</th>\n",
       "      <th>Location</th>\n",
       "      <th>Salary</th>\n",
       "      <th>Company</th>\n",
       "      <th>Cities</th>\n",
       "      <th>USDSalary</th>\n",
       "      <th>Higher position</th>\n",
       "    </tr>\n",
       "  </thead>\n",
       "  <tbody>\n",
       "    <tr>\n",
       "      <th>0</th>\n",
       "      <td>Graduate Environmental Scientist</td>\n",
       "      <td>Philadelphia, PA</td>\n",
       "      <td>47783</td>\n",
       "      <td>City of Philadelphia</td>\n",
       "      <td>Philadelphia</td>\n",
       "      <td>47783.0</td>\n",
       "      <td>Not higher title</td>\n",
       "    </tr>\n",
       "    <tr>\n",
       "      <th>1</th>\n",
       "      <td>Environmental Scientist Specialist</td>\n",
       "      <td>Philadelphia, PA</td>\n",
       "      <td>56589</td>\n",
       "      <td>City of Philadelphia</td>\n",
       "      <td>Philadelphia</td>\n",
       "      <td>56589.0</td>\n",
       "      <td>Not higher title</td>\n",
       "    </tr>\n",
       "    <tr>\n",
       "      <th>2</th>\n",
       "      <td>Data Scientist/ Python, R</td>\n",
       "      <td>Bala-Cynwyd, PA</td>\n",
       "      <td>110000</td>\n",
       "      <td>Workbridge Associates</td>\n",
       "      <td>Philadelphia</td>\n",
       "      <td>110000.0</td>\n",
       "      <td>Not higher title</td>\n",
       "    </tr>\n",
       "    <tr>\n",
       "      <th>3</th>\n",
       "      <td>Data Scientist</td>\n",
       "      <td>Philadelphia, PA</td>\n",
       "      <td>90000</td>\n",
       "      <td>Jobspring Partners</td>\n",
       "      <td>Philadelphia</td>\n",
       "      <td>90000.0</td>\n",
       "      <td>Not higher title</td>\n",
       "    </tr>\n",
       "    <tr>\n",
       "      <th>4</th>\n",
       "      <td>Data Scientist/Analyst (R, Python,Google Cloud)</td>\n",
       "      <td>Philadelphia, PA</td>\n",
       "      <td>90000</td>\n",
       "      <td>Workbridge Associates</td>\n",
       "      <td>Philadelphia</td>\n",
       "      <td>90000.0</td>\n",
       "      <td>Not higher title</td>\n",
       "    </tr>\n",
       "  </tbody>\n",
       "</table>\n",
       "</div>"
      ],
      "text/plain": [
       "                                          Jobtitle          Location  Salary  \\\n",
       "0                 Graduate Environmental Scientist  Philadelphia, PA   47783   \n",
       "1               Environmental Scientist Specialist  Philadelphia, PA   56589   \n",
       "2                        Data Scientist/ Python, R   Bala-Cynwyd, PA  110000   \n",
       "3                                   Data Scientist  Philadelphia, PA   90000   \n",
       "4  Data Scientist/Analyst (R, Python,Google Cloud)  Philadelphia, PA   90000   \n",
       "\n",
       "                 Company        Cities  USDSalary   Higher position  \n",
       "0   City of Philadelphia  Philadelphia    47783.0  Not higher title  \n",
       "1   City of Philadelphia  Philadelphia    56589.0  Not higher title  \n",
       "2  Workbridge Associates  Philadelphia   110000.0  Not higher title  \n",
       "3     Jobspring Partners  Philadelphia    90000.0  Not higher title  \n",
       "4  Workbridge Associates  Philadelphia    90000.0  Not higher title  "
      ]
     },
     "execution_count": 48,
     "metadata": {},
     "output_type": "execute_result"
    }
   ],
   "source": [
    "def to_spec(row):\n",
    "    if \"Senior\" in row['Jobtitle']:\n",
    "        return 'Higher title'\n",
    "    if \"Head\" in row['Jobtitle']:\n",
    "        return 'Higher title'\n",
    "    elif \"Lead\" in row['Jobtitle']:\n",
    "        return 'Higher title'\n",
    "    else:\n",
    "        return 'Not higher title'\n",
    "\n",
    "\n",
    "df['Higher position'] = df.apply(to_spec, axis=1)\n",
    "df.head()\n"
   ]
  },
  {
   "cell_type": "code",
   "execution_count": 49,
   "metadata": {},
   "outputs": [
    {
     "data": {
      "text/html": [
       "<div>\n",
       "<style scoped>\n",
       "    .dataframe tbody tr th:only-of-type {\n",
       "        vertical-align: middle;\n",
       "    }\n",
       "\n",
       "    .dataframe tbody tr th {\n",
       "        vertical-align: top;\n",
       "    }\n",
       "\n",
       "    .dataframe thead th {\n",
       "        text-align: right;\n",
       "    }\n",
       "</style>\n",
       "<table border=\"1\" class=\"dataframe\">\n",
       "  <thead>\n",
       "    <tr style=\"text-align: right;\">\n",
       "      <th></th>\n",
       "      <th>Cities_Atlanta</th>\n",
       "      <th>Cities_Austin</th>\n",
       "      <th>Cities_Boston</th>\n",
       "      <th>Cities_Chicago</th>\n",
       "      <th>Cities_Dallas</th>\n",
       "      <th>Cities_Denver</th>\n",
       "      <th>Cities_Houston</th>\n",
       "      <th>Cities_London, Greater London</th>\n",
       "      <th>Cities_Los+Angeles</th>\n",
       "      <th>Cities_Miami</th>\n",
       "      <th>...</th>\n",
       "      <th>Jobtitle_University Graduate Hire - Software &amp; QA Engineer (SS&amp;S)</th>\n",
       "      <th>Jobtitle_Visualisation Consultant</th>\n",
       "      <th>Jobtitle_Visualization Engineer</th>\n",
       "      <th>Jobtitle_Water Quality Assessment Scientist (Natural Resource Scienti...</th>\n",
       "      <th>Jobtitle_Water Quality Monitoring/Data Analysis Specialist (Environme...</th>\n",
       "      <th>Jobtitle_Water Resources Modeler</th>\n",
       "      <th>Jobtitle_Water quality scientist</th>\n",
       "      <th>Jobtitle_Zillow Offers - Software Development Engineer</th>\n",
       "      <th>Jobtitle_iOS Engineer</th>\n",
       "      <th>Jobtitle_principal data scientist, data &amp; measurement science, Custom...</th>\n",
       "    </tr>\n",
       "  </thead>\n",
       "  <tbody>\n",
       "    <tr>\n",
       "      <th>0</th>\n",
       "      <td>0</td>\n",
       "      <td>0</td>\n",
       "      <td>0</td>\n",
       "      <td>0</td>\n",
       "      <td>0</td>\n",
       "      <td>0</td>\n",
       "      <td>0</td>\n",
       "      <td>0</td>\n",
       "      <td>0</td>\n",
       "      <td>0</td>\n",
       "      <td>...</td>\n",
       "      <td>0</td>\n",
       "      <td>0</td>\n",
       "      <td>0</td>\n",
       "      <td>0</td>\n",
       "      <td>0</td>\n",
       "      <td>0</td>\n",
       "      <td>0</td>\n",
       "      <td>0</td>\n",
       "      <td>0</td>\n",
       "      <td>0</td>\n",
       "    </tr>\n",
       "    <tr>\n",
       "      <th>1</th>\n",
       "      <td>0</td>\n",
       "      <td>0</td>\n",
       "      <td>0</td>\n",
       "      <td>0</td>\n",
       "      <td>0</td>\n",
       "      <td>0</td>\n",
       "      <td>0</td>\n",
       "      <td>0</td>\n",
       "      <td>0</td>\n",
       "      <td>0</td>\n",
       "      <td>...</td>\n",
       "      <td>0</td>\n",
       "      <td>0</td>\n",
       "      <td>0</td>\n",
       "      <td>0</td>\n",
       "      <td>0</td>\n",
       "      <td>0</td>\n",
       "      <td>0</td>\n",
       "      <td>0</td>\n",
       "      <td>0</td>\n",
       "      <td>0</td>\n",
       "    </tr>\n",
       "  </tbody>\n",
       "</table>\n",
       "<p>2 rows × 756 columns</p>\n",
       "</div>"
      ],
      "text/plain": [
       "   Cities_Atlanta  Cities_Austin  Cities_Boston  Cities_Chicago  \\\n",
       "0               0              0              0               0   \n",
       "1               0              0              0               0   \n",
       "\n",
       "   Cities_Dallas  Cities_Denver  Cities_Houston  \\\n",
       "0              0              0               0   \n",
       "1              0              0               0   \n",
       "\n",
       "   Cities_London, Greater London  Cities_Los+Angeles  Cities_Miami  \\\n",
       "0                              0                   0             0   \n",
       "1                              0                   0             0   \n",
       "\n",
       "                                     ...                                     \\\n",
       "0                                    ...                                      \n",
       "1                                    ...                                      \n",
       "\n",
       "   Jobtitle_University Graduate Hire - Software & QA Engineer (SS&S)  \\\n",
       "0                                                  0                   \n",
       "1                                                  0                   \n",
       "\n",
       "   Jobtitle_Visualisation Consultant  Jobtitle_Visualization Engineer  \\\n",
       "0                                  0                                0   \n",
       "1                                  0                                0   \n",
       "\n",
       "   Jobtitle_Water Quality Assessment Scientist (Natural Resource Scienti...  \\\n",
       "0                                                  0                          \n",
       "1                                                  0                          \n",
       "\n",
       "   Jobtitle_Water Quality Monitoring/Data Analysis Specialist (Environme...  \\\n",
       "0                                                  0                          \n",
       "1                                                  0                          \n",
       "\n",
       "   Jobtitle_Water Resources Modeler  Jobtitle_Water quality scientist  \\\n",
       "0                                 0                                 0   \n",
       "1                                 0                                 0   \n",
       "\n",
       "   Jobtitle_Zillow Offers - Software Development Engineer  \\\n",
       "0                                                  0        \n",
       "1                                                  0        \n",
       "\n",
       "   Jobtitle_iOS Engineer  \\\n",
       "0                      0   \n",
       "1                      0   \n",
       "\n",
       "   Jobtitle_principal data scientist, data & measurement science, Custom...  \n",
       "0                                                  0                         \n",
       "1                                                  0                         \n",
       "\n",
       "[2 rows x 756 columns]"
      ]
     },
     "execution_count": 49,
     "metadata": {},
     "output_type": "execute_result"
    }
   ],
   "source": [
    "#Transforming the classifier to dummy variable.\n",
    "title_city_position_dum = pd.get_dummies(df[['Cities', 'Higher position', 'Jobtitle']])\n",
    "title_city_position_dum.head(2)"
   ]
  },
  {
   "cell_type": "code",
   "execution_count": 50,
   "metadata": {},
   "outputs": [],
   "source": [
    "Xt = title_city_position_dum"
   ]
  },
  {
   "cell_type": "code",
   "execution_count": 51,
   "metadata": {},
   "outputs": [
    {
     "name": "stdout",
     "output_type": "stream",
     "text": [
      "[0.54945055 0.10989011 0.51648352 0.38461538 0.15384615 0.64444444\n",
      " 0.64444444 0.46666667 0.5        0.5       ]\n",
      "0.446984126984127\n"
     ]
    }
   ],
   "source": [
    "logreg = LogisticRegression()\n",
    "scores = cross_val_score(logreg, Xt, y, cv=10)\n",
    "print(scores)\n",
    "print(np.mean(scores))"
   ]
  },
  {
   "cell_type": "code",
   "execution_count": 52,
   "metadata": {},
   "outputs": [
    {
     "data": {
      "text/plain": [
       "LogisticRegression(C=1.0, class_weight=None, dual=False, fit_intercept=True,\n",
       "          intercept_scaling=1, max_iter=100, multi_class='ovr', n_jobs=1,\n",
       "          penalty='l2', random_state=None, solver='liblinear', tol=0.0001,\n",
       "          verbose=0, warm_start=False)"
      ]
     },
     "execution_count": 52,
     "metadata": {},
     "output_type": "execute_result"
    }
   ],
   "source": [
    "Xt_train, Xt_test, y_train, y_test = train_test_split(Xt, y, test_size=0.3, random_state=1)\n",
    "logreg.fit(Xt_train, y_train)"
   ]
  },
  {
   "cell_type": "code",
   "execution_count": 53,
   "metadata": {},
   "outputs": [],
   "source": [
    "from sklearn.preprocessing import StandardScaler\n",
    "#scaler = StandardScaler()\n",
    "\n",
    "#Xt_train = scaler.fit_transform(Xt_train)\n",
    "#Xt_test = scaler.transform(Xt_test)"
   ]
  },
  {
   "cell_type": "code",
   "execution_count": 54,
   "metadata": {},
   "outputs": [
    {
     "name": "stdout",
     "output_type": "stream",
     "text": [
      "LogisticRegression(C=1.0, class_weight=None, dual=False, fit_intercept=True,\n",
      "          intercept_scaling=1, max_iter=100, multi_class='ovr', n_jobs=1,\n",
      "          penalty='l2', random_state=None, solver='liblinear', tol=0.0001,\n",
      "          verbose=0, warm_start=False)\n",
      "[1 0 1 0 1 1 1 1 1 0 1 0 1 0 0 0 1 0 1 1 1 0 0 0 1 0 1 1 1 1 0 1 1 0 1 1 1\n",
      " 0 1 1 1 0 0 0 1 0 0 0 1 0 1 1 1 1 1 1 1 1 1 0 1 1 0 1 0 1 0 0 1 0 1 0 0 0\n",
      " 0 0 1 1 1 0 0 0 1 0 1 0 0 1 1 1 1 1 0 1 1 0 1 1 0 1 0 0 1 0 1 0 1 1 1 1 1\n",
      " 0 0 1 0 1 1 0 0 0 1 0 1 0 1 1 1 0 0 1 0 0 0 0 1 0 1 1 0 0 0 1 1 1 1 0 1 0\n",
      " 1 1 0 1 0 1 0 1 1 1 1 0 0 1 1 1 0 1 0 1 0 0 1 0 0 1 0 0 0 1 1 0 1 1 1 1 0\n",
      " 0 0 1 1 0 0 0 1 1 1 0 0 1 0 1 1 1 1 1 0 0 0 1 1 1 1 0 1 1 1 0 1 0 0 0 1 0\n",
      " 0 1 1 1 0 1 1 1 0 0 1 1 0 0 1 1 1 1 0 0 0 1 1 1 1 1 1 0 0 0 0 0 1 1 0 0 0\n",
      " 1 1 1 1 0 0 1 1 1 1 1 1 1]\n"
     ]
    }
   ],
   "source": [
    "print(logreg.fit(Xt_train, y_train))\n",
    "print(logreg.predict(Xt_test))\n",
    "#print(logreg.predict_proba(Xm_test))"
   ]
  },
  {
   "cell_type": "code",
   "execution_count": 55,
   "metadata": {},
   "outputs": [
    {
     "data": {
      "text/plain": [
       "0.8"
      ]
     },
     "execution_count": 55,
     "metadata": {},
     "output_type": "execute_result"
    }
   ],
   "source": [
    "# model score \n",
    "logreg.score(Xt,y)"
   ]
  },
  {
   "cell_type": "code",
   "execution_count": 56,
   "metadata": {},
   "outputs": [
    {
     "data": {
      "text/plain": [
       "0.8309636650868878"
      ]
     },
     "execution_count": 56,
     "metadata": {},
     "output_type": "execute_result"
    }
   ],
   "source": [
    "logreg.score(Xt_train,y_train)"
   ]
  },
  {
   "cell_type": "code",
   "execution_count": 57,
   "metadata": {},
   "outputs": [
    {
     "data": {
      "text/plain": [
       "0.7279411764705882"
      ]
     },
     "execution_count": 57,
     "metadata": {},
     "output_type": "execute_result"
    }
   ],
   "source": [
    "# model score after cross_validation\n",
    "logreg.score(Xt_test,y_test)"
   ]
  },
  {
   "cell_type": "code",
   "execution_count": 58,
   "metadata": {},
   "outputs": [
    {
     "name": "stdout",
     "output_type": "stream",
     "text": [
      "[2.7825594]\n",
      "0.9636650868878357\n",
      "0.7352941176470589\n"
     ]
    }
   ],
   "source": [
    "from sklearn.linear_model import LogisticRegressionCV\n",
    "lr_ridge = LogisticRegressionCV(\n",
    "    penalty='l2', Cs=100, cv=10, scoring='accuracy')\n",
    "lr_ridge.fit(Xt_train, y_train)\n",
    "\n",
    "print(lr_ridge.C_)\n",
    "print(lr_ridge.score(Xt_train, y_train))\n",
    "print(lr_ridge.score(Xt_test, y_test))"
   ]
  },
  {
   "cell_type": "code",
   "execution_count": 59,
   "metadata": {},
   "outputs": [
    {
     "name": "stdout",
     "output_type": "stream",
     "text": [
      "Best Parameters:\n",
      "{'Cs': array([1.00000000e-04, 7.74263683e-04, 5.99484250e-03, 4.64158883e-02,\n",
      "       3.59381366e-01, 2.78255940e+00, 2.15443469e+01, 1.66810054e+02,\n",
      "       1.29154967e+03, 1.00000000e+04]), 'fit_intercept': True, 'penalty': 'l1', 'solver': 'liblinear'}\n",
      "Best estimator C:\n",
      "[0.35938137]\n",
      "Best estimator mean cross validated training score:\n",
      "0.665086887835703\n",
      "Best estimator score on the full training set:\n",
      "0.6761453396524486\n",
      "Best estimator score on the test set:\n",
      "0.7095588235294118\n"
     ]
    }
   ],
   "source": [
    "# setup the grid search\n",
    "params = {'penalty':['l1','l2'],\n",
    "          'Cs': [np.logspace(-4,4,10)],\n",
    "          'fit_intercept':[True,False],\n",
    "          'solver':['liblinear']}\n",
    "\n",
    "gs = GridSearchCV(estimator=model,\n",
    "                  param_grid=params,\n",
    "                  cv=5,\n",
    "                  scoring='accuracy',\n",
    "                  return_train_score=True)\n",
    "\n",
    "gs.fit(Xt_train,y_train)\n",
    "\n",
    "# extract the grid search results\n",
    "\n",
    "print('Best Parameters:')\n",
    "print(gs.best_params_)\n",
    "print('Best estimator C:')\n",
    "print(gs.best_estimator_.C_)\n",
    "print('Best estimator mean cross validated training score:')\n",
    "print(gs.best_score_)\n",
    "print('Best estimator score on the full training set:')\n",
    "print(gs.score(Xt_train,y_train))\n",
    "print('Best estimator score on the test set:')\n",
    "print(gs.score(Xt_test,y_test))\n",
    "#print('Best estimator coefficients:')\n",
    "#print(gs.best_estimator_.coef_)"
   ]
  },
  {
   "cell_type": "code",
   "execution_count": 60,
   "metadata": {},
   "outputs": [],
   "source": [
    "#Incorporate other text features from the title or summary that you believe will predict the salary."
   ]
  },
  {
   "cell_type": "code",
   "execution_count": 61,
   "metadata": {},
   "outputs": [
    {
     "data": {
      "text/plain": [
       "Harnham                                         79\n",
       "New York City DEPT OF HEALTH/MENTAL HYGIENE     29\n",
       "Jobspring Partners                              23\n",
       "Workbridge Associates                           23\n",
       "All-In Analytics                                16\n",
       "MD Anderson Cancer Center                       16\n",
       "Liberty Mutual                                  12\n",
       "Harnham US                                      11\n",
       "New York City DEPT OF ENVIRONMENT PROTECTION     8\n",
       "The University of Pittsburgh                     8\n",
       "State of Washington Dept. of Ecology             7\n",
       "University College London                        7\n",
       "Name: Company, dtype: int64"
      ]
     },
     "execution_count": 61,
     "metadata": {},
     "output_type": "execute_result"
    }
   ],
   "source": [
    "df['Company'].value_counts().head(12)"
   ]
  },
  {
   "cell_type": "code",
   "execution_count": 62,
   "metadata": {},
   "outputs": [],
   "source": [
    "#Creating a feature that represents whether 'Harnham' is in the title."
   ]
  },
  {
   "cell_type": "code",
   "execution_count": 63,
   "metadata": {},
   "outputs": [
    {
     "data": {
      "text/html": [
       "<div>\n",
       "<style scoped>\n",
       "    .dataframe tbody tr th:only-of-type {\n",
       "        vertical-align: middle;\n",
       "    }\n",
       "\n",
       "    .dataframe tbody tr th {\n",
       "        vertical-align: top;\n",
       "    }\n",
       "\n",
       "    .dataframe thead th {\n",
       "        text-align: right;\n",
       "    }\n",
       "</style>\n",
       "<table border=\"1\" class=\"dataframe\">\n",
       "  <thead>\n",
       "    <tr style=\"text-align: right;\">\n",
       "      <th></th>\n",
       "      <th>Jobtitle</th>\n",
       "      <th>Location</th>\n",
       "      <th>Salary</th>\n",
       "      <th>Company</th>\n",
       "      <th>Cities</th>\n",
       "      <th>USDSalary</th>\n",
       "      <th>Higher position</th>\n",
       "      <th>Weather Harnham or not</th>\n",
       "    </tr>\n",
       "  </thead>\n",
       "  <tbody>\n",
       "    <tr>\n",
       "      <th>0</th>\n",
       "      <td>Graduate Environmental Scientist</td>\n",
       "      <td>Philadelphia, PA</td>\n",
       "      <td>47783</td>\n",
       "      <td>City of Philadelphia</td>\n",
       "      <td>Philadelphia</td>\n",
       "      <td>47783.0</td>\n",
       "      <td>Not higher title</td>\n",
       "      <td>Not Harnham</td>\n",
       "    </tr>\n",
       "    <tr>\n",
       "      <th>1</th>\n",
       "      <td>Environmental Scientist Specialist</td>\n",
       "      <td>Philadelphia, PA</td>\n",
       "      <td>56589</td>\n",
       "      <td>City of Philadelphia</td>\n",
       "      <td>Philadelphia</td>\n",
       "      <td>56589.0</td>\n",
       "      <td>Not higher title</td>\n",
       "      <td>Not Harnham</td>\n",
       "    </tr>\n",
       "  </tbody>\n",
       "</table>\n",
       "</div>"
      ],
      "text/plain": [
       "                             Jobtitle          Location  Salary  \\\n",
       "0    Graduate Environmental Scientist  Philadelphia, PA   47783   \n",
       "1  Environmental Scientist Specialist  Philadelphia, PA   56589   \n",
       "\n",
       "                Company        Cities  USDSalary   Higher position  \\\n",
       "0  City of Philadelphia  Philadelphia    47783.0  Not higher title   \n",
       "1  City of Philadelphia  Philadelphia    56589.0  Not higher title   \n",
       "\n",
       "  Weather Harnham or not  \n",
       "0            Not Harnham  \n",
       "1            Not Harnham  "
      ]
     },
     "execution_count": 63,
     "metadata": {},
     "output_type": "execute_result"
    }
   ],
   "source": [
    "def to_spec_comp(row):\n",
    "    if \"Harnham\" in row['Company']:\n",
    "        return 'Harnham'\n",
    "    else:\n",
    "        return 'Not Harnham'\n",
    "\n",
    "\n",
    "df['Weather Harnham or not'] = df.apply(to_spec_comp, axis=1)\n",
    "df.head(2)"
   ]
  },
  {
   "cell_type": "code",
   "execution_count": 64,
   "metadata": {},
   "outputs": [
    {
     "data": {
      "text/html": [
       "<div>\n",
       "<style scoped>\n",
       "    .dataframe tbody tr th:only-of-type {\n",
       "        vertical-align: middle;\n",
       "    }\n",
       "\n",
       "    .dataframe tbody tr th {\n",
       "        vertical-align: top;\n",
       "    }\n",
       "\n",
       "    .dataframe thead th {\n",
       "        text-align: right;\n",
       "    }\n",
       "</style>\n",
       "<table border=\"1\" class=\"dataframe\">\n",
       "  <thead>\n",
       "    <tr style=\"text-align: right;\">\n",
       "      <th></th>\n",
       "      <th>Cities_Atlanta</th>\n",
       "      <th>Cities_Austin</th>\n",
       "      <th>Cities_Boston</th>\n",
       "      <th>Cities_Chicago</th>\n",
       "      <th>Cities_Dallas</th>\n",
       "      <th>Cities_Denver</th>\n",
       "      <th>Cities_Houston</th>\n",
       "      <th>Cities_London, Greater London</th>\n",
       "      <th>Cities_Los+Angeles</th>\n",
       "      <th>Cities_Miami</th>\n",
       "      <th>...</th>\n",
       "      <th>Jobtitle_Visualization Engineer</th>\n",
       "      <th>Jobtitle_Water Quality Assessment Scientist (Natural Resource Scienti...</th>\n",
       "      <th>Jobtitle_Water Quality Monitoring/Data Analysis Specialist (Environme...</th>\n",
       "      <th>Jobtitle_Water Resources Modeler</th>\n",
       "      <th>Jobtitle_Water quality scientist</th>\n",
       "      <th>Jobtitle_Zillow Offers - Software Development Engineer</th>\n",
       "      <th>Jobtitle_iOS Engineer</th>\n",
       "      <th>Jobtitle_principal data scientist, data &amp; measurement science, Custom...</th>\n",
       "      <th>Weather Harnham or not_Harnham</th>\n",
       "      <th>Weather Harnham or not_Not Harnham</th>\n",
       "    </tr>\n",
       "  </thead>\n",
       "  <tbody>\n",
       "    <tr>\n",
       "      <th>0</th>\n",
       "      <td>0</td>\n",
       "      <td>0</td>\n",
       "      <td>0</td>\n",
       "      <td>0</td>\n",
       "      <td>0</td>\n",
       "      <td>0</td>\n",
       "      <td>0</td>\n",
       "      <td>0</td>\n",
       "      <td>0</td>\n",
       "      <td>0</td>\n",
       "      <td>...</td>\n",
       "      <td>0</td>\n",
       "      <td>0</td>\n",
       "      <td>0</td>\n",
       "      <td>0</td>\n",
       "      <td>0</td>\n",
       "      <td>0</td>\n",
       "      <td>0</td>\n",
       "      <td>0</td>\n",
       "      <td>0</td>\n",
       "      <td>1</td>\n",
       "    </tr>\n",
       "    <tr>\n",
       "      <th>1</th>\n",
       "      <td>0</td>\n",
       "      <td>0</td>\n",
       "      <td>0</td>\n",
       "      <td>0</td>\n",
       "      <td>0</td>\n",
       "      <td>0</td>\n",
       "      <td>0</td>\n",
       "      <td>0</td>\n",
       "      <td>0</td>\n",
       "      <td>0</td>\n",
       "      <td>...</td>\n",
       "      <td>0</td>\n",
       "      <td>0</td>\n",
       "      <td>0</td>\n",
       "      <td>0</td>\n",
       "      <td>0</td>\n",
       "      <td>0</td>\n",
       "      <td>0</td>\n",
       "      <td>0</td>\n",
       "      <td>0</td>\n",
       "      <td>1</td>\n",
       "    </tr>\n",
       "  </tbody>\n",
       "</table>\n",
       "<p>2 rows × 758 columns</p>\n",
       "</div>"
      ],
      "text/plain": [
       "   Cities_Atlanta  Cities_Austin  Cities_Boston  Cities_Chicago  \\\n",
       "0               0              0              0               0   \n",
       "1               0              0              0               0   \n",
       "\n",
       "   Cities_Dallas  Cities_Denver  Cities_Houston  \\\n",
       "0              0              0               0   \n",
       "1              0              0               0   \n",
       "\n",
       "   Cities_London, Greater London  Cities_Los+Angeles  Cities_Miami  \\\n",
       "0                              0                   0             0   \n",
       "1                              0                   0             0   \n",
       "\n",
       "                  ...                  Jobtitle_Visualization Engineer  \\\n",
       "0                 ...                                                0   \n",
       "1                 ...                                                0   \n",
       "\n",
       "   Jobtitle_Water Quality Assessment Scientist (Natural Resource Scienti...  \\\n",
       "0                                                  0                          \n",
       "1                                                  0                          \n",
       "\n",
       "   Jobtitle_Water Quality Monitoring/Data Analysis Specialist (Environme...  \\\n",
       "0                                                  0                          \n",
       "1                                                  0                          \n",
       "\n",
       "   Jobtitle_Water Resources Modeler  Jobtitle_Water quality scientist  \\\n",
       "0                                 0                                 0   \n",
       "1                                 0                                 0   \n",
       "\n",
       "   Jobtitle_Zillow Offers - Software Development Engineer  \\\n",
       "0                                                  0        \n",
       "1                                                  0        \n",
       "\n",
       "   Jobtitle_iOS Engineer  \\\n",
       "0                      0   \n",
       "1                      0   \n",
       "\n",
       "   Jobtitle_principal data scientist, data & measurement science, Custom...  \\\n",
       "0                                                  0                          \n",
       "1                                                  0                          \n",
       "\n",
       "   Weather Harnham or not_Harnham  Weather Harnham or not_Not Harnham  \n",
       "0                               0                                   1  \n",
       "1                               0                                   1  \n",
       "\n",
       "[2 rows x 758 columns]"
      ]
     },
     "execution_count": 64,
     "metadata": {},
     "output_type": "execute_result"
    }
   ],
   "source": [
    "#Transforming the classifier to dummy variable.\n",
    "title_city_position_dum = pd.get_dummies(df[['Cities', 'Higher position', 'Jobtitle', 'Weather Harnham or not']])\n",
    "title_city_position_dum.head(2)"
   ]
  },
  {
   "cell_type": "code",
   "execution_count": 65,
   "metadata": {},
   "outputs": [],
   "source": [
    "Xh = title_city_position_dum"
   ]
  },
  {
   "cell_type": "code",
   "execution_count": 66,
   "metadata": {},
   "outputs": [
    {
     "name": "stdout",
     "output_type": "stream",
     "text": [
      "[0.54945055 0.16483516 0.51648352 0.3956044  0.15384615 0.64444444\n",
      " 0.53333333 0.4        0.5        0.56666667]\n",
      "0.4424664224664225\n"
     ]
    }
   ],
   "source": [
    "logreg = LogisticRegression()\n",
    "scores = cross_val_score(logreg, Xh, y, cv=10)\n",
    "print(scores)\n",
    "print(np.mean(scores))"
   ]
  },
  {
   "cell_type": "code",
   "execution_count": 67,
   "metadata": {},
   "outputs": [
    {
     "data": {
      "text/plain": [
       "LogisticRegression(C=1.0, class_weight=None, dual=False, fit_intercept=True,\n",
       "          intercept_scaling=1, max_iter=100, multi_class='ovr', n_jobs=1,\n",
       "          penalty='l2', random_state=None, solver='liblinear', tol=0.0001,\n",
       "          verbose=0, warm_start=False)"
      ]
     },
     "execution_count": 67,
     "metadata": {},
     "output_type": "execute_result"
    }
   ],
   "source": [
    "Xh_train, Xh_test, y_train, y_test = train_test_split(Xh, y, test_size=0.3, random_state=1)\n",
    "logreg.fit(Xh_train, y_train)"
   ]
  },
  {
   "cell_type": "code",
   "execution_count": 68,
   "metadata": {},
   "outputs": [
    {
     "name": "stdout",
     "output_type": "stream",
     "text": [
      "LogisticRegression(C=1.0, class_weight=None, dual=False, fit_intercept=True,\n",
      "          intercept_scaling=1, max_iter=100, multi_class='ovr', n_jobs=1,\n",
      "          penalty='l2', random_state=None, solver='liblinear', tol=0.0001,\n",
      "          verbose=0, warm_start=False)\n",
      "[1 0 0 0 1 1 1 1 1 0 0 0 1 0 0 0 0 0 1 1 1 0 0 0 1 0 0 1 1 0 0 0 1 0 1 0 1\n",
      " 0 1 1 1 0 0 0 0 0 0 0 1 0 1 1 1 1 0 1 1 0 1 0 0 1 0 1 0 0 0 0 1 0 1 0 0 0\n",
      " 0 0 1 1 1 0 0 0 1 0 1 0 0 1 1 1 1 0 0 0 1 0 1 1 0 1 0 0 1 0 1 0 1 1 1 0 1\n",
      " 0 0 0 0 0 1 0 0 0 1 1 0 0 0 1 1 0 0 1 0 0 0 0 1 0 1 1 0 0 0 1 1 0 0 0 1 0\n",
      " 1 1 0 1 1 1 0 1 1 1 0 0 0 1 1 1 0 1 0 1 0 0 1 0 0 1 0 0 0 1 1 0 0 1 0 1 0\n",
      " 0 0 1 1 0 0 0 1 1 1 0 1 0 0 1 1 1 0 1 0 0 0 1 1 1 1 0 1 0 1 0 0 0 0 0 0 0\n",
      " 0 1 1 1 0 0 1 1 0 0 0 1 0 0 1 1 1 1 0 0 0 0 1 0 1 1 1 0 0 0 0 0 0 1 0 0 0\n",
      " 1 1 1 0 0 0 1 1 1 1 1 1 1]\n"
     ]
    }
   ],
   "source": [
    "print(logreg.fit(Xh_train, y_train))\n",
    "print(logreg.predict(Xh_test))\n",
    "#print(logreg.predict_proba(Xm_test))"
   ]
  },
  {
   "cell_type": "code",
   "execution_count": 69,
   "metadata": {},
   "outputs": [
    {
     "data": {
      "text/plain": [
       "0.8176795580110497"
      ]
     },
     "execution_count": 69,
     "metadata": {},
     "output_type": "execute_result"
    }
   ],
   "source": [
    "# model score \n",
    "logreg.score(Xh,y)"
   ]
  },
  {
   "cell_type": "code",
   "execution_count": 70,
   "metadata": {},
   "outputs": [
    {
     "data": {
      "text/plain": [
       "0.8530805687203792"
      ]
     },
     "execution_count": 70,
     "metadata": {},
     "output_type": "execute_result"
    }
   ],
   "source": [
    "logreg.score(Xh_train,y_train)"
   ]
  },
  {
   "cell_type": "code",
   "execution_count": 71,
   "metadata": {},
   "outputs": [
    {
     "data": {
      "text/plain": [
       "0.7352941176470589"
      ]
     },
     "execution_count": 71,
     "metadata": {},
     "output_type": "execute_result"
    }
   ],
   "source": [
    "# model score after cross_validation\n",
    "logreg.score(Xh_test,y_test)"
   ]
  },
  {
   "cell_type": "code",
   "execution_count": 72,
   "metadata": {},
   "outputs": [
    {
     "name": "stdout",
     "output_type": "stream",
     "text": [
      "Best Parameters:\n",
      "{'Cs': array([1.00000000e-04, 7.74263683e-04, 5.99484250e-03, 4.64158883e-02,\n",
      "       3.59381366e-01, 2.78255940e+00, 2.15443469e+01, 1.66810054e+02,\n",
      "       1.29154967e+03, 1.00000000e+04]), 'fit_intercept': False, 'penalty': 'l1', 'solver': 'liblinear'}\n",
      "Best estimator C:\n",
      "[0.35938137]\n",
      "Best estimator mean cross validated training score:\n",
      "0.6714060031595577\n",
      "Best estimator score on the full training set:\n",
      "0.6966824644549763\n",
      "Best estimator score on the test set:\n",
      "0.7058823529411765\n"
     ]
    }
   ],
   "source": [
    "# setup the grid search\n",
    "params = {'penalty':['l1','l2'],\n",
    "          'Cs': [np.logspace(-4,4,10)],\n",
    "          'fit_intercept':[True,False],\n",
    "          'solver':['liblinear']}\n",
    "\n",
    "gs = GridSearchCV(estimator=model,\n",
    "                  param_grid=params,\n",
    "                  cv=5,\n",
    "                  scoring='accuracy',\n",
    "                  return_train_score=True)\n",
    "\n",
    "gs.fit(Xh_train,y_train)\n",
    "\n",
    "# extract the grid search results\n",
    "\n",
    "print('Best Parameters:')\n",
    "print(gs.best_params_)\n",
    "print('Best estimator C:')\n",
    "print(gs.best_estimator_.C_)\n",
    "print('Best estimator mean cross validated training score:')\n",
    "print(gs.best_score_)\n",
    "print('Best estimator score on the full training set:')\n",
    "print(gs.score(Xh_train,y_train))\n",
    "print('Best estimator score on the test set:')\n",
    "print(gs.score(Xh_test,y_test))\n",
    "#print('Best estimator coefficients:')\n",
    "#print(gs.best_estimator_.coef_)"
   ]
  },
  {
   "cell_type": "code",
   "execution_count": 73,
   "metadata": {},
   "outputs": [],
   "source": [
    "#Then build new classification models including also those features. Do they add any value?"
   ]
  },
  {
   "cell_type": "code",
   "execution_count": 74,
   "metadata": {},
   "outputs": [],
   "source": [
    "#Yes, the score got better everytime I added a new feature, but with different volume, for exapmple \n",
    "#when I built a model on only the \"cities\" and \"jobtitles\", the score got a lot better as opposed to \n",
    "#predicting only on the \"cities\" feature, so when I added the \"high_position\" feature the score \n",
    "#fall back a little but it was still higher then with only one feature. The highest score reached with \n",
    "#the following features: \"cities\", \"jobtitle\", \"high_position\", \"spec_company\"."
   ]
  }
 ],
 "metadata": {
  "kernelspec": {
   "display_name": "Python 3",
   "language": "python",
   "name": "python3"
  },
  "language_info": {
   "codemirror_mode": {
    "name": "ipython",
    "version": 3
   },
   "file_extension": ".py",
   "mimetype": "text/x-python",
   "name": "python",
   "nbconvert_exporter": "python",
   "pygments_lexer": "ipython3",
   "version": "3.6.6"
  },
  "toc": {
   "base_numbering": 1,
   "nav_menu": {},
   "number_sections": false,
   "sideBar": true,
   "skip_h1_title": true,
   "title_cell": "Table of Contents",
   "title_sidebar": "Contents",
   "toc_cell": false,
   "toc_position": {},
   "toc_section_display": "block",
   "toc_window_display": false
  }
 },
 "nbformat": 4,
 "nbformat_minor": 1
}
